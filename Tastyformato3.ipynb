{
 "cells": [
  {
   "cell_type": "code",
   "execution_count": 14,
   "metadata": {
    "collapsed": true
   },
   "outputs": [],
   "source": [
    "from lxml import html\n",
    "import urllib.request as Request\n",
    "# Paginas ejemplo del formato 1\n",
    "#pagString = Request.urlopen(\"https://www.buzzfeed.com/robertbroadfoot/chicken-penne?bffbtasty&ref=bffbtasty&utm_term=.rdxzWraP4#.ysel2zbZ1\").read()\n",
    "#pagString = Request.urlopen(\"https://www.buzzfeed.com/alixtraeger/this-chocolate-chip-banana-monkey-bread-will-change-your-lif?bffbtasty&ref=bffbtasty&utm_term=.eg2OMN7Bv#.daaRkpKY6\").read()\n",
    "#pagString = Request.urlopen(\"https://www.buzzfeed.com/robertbroadfoot/youll-definitely-want-to-make-this-chicken-broccoli-mushroom?bffbtasty&ref=bffbtasty&utm_term=4ldradw#4ldradw\").read()\n",
    "#pagString = Request.urlopen('https://www.buzzfeed.com/clairenolan/this-peanut-butter-stuffed-skillet-cookie-is-totally-dessert?bffbtasty&ref=bffbtasty&utm_term=.hha90B2Dy#.nwPm4NGge').read()\n",
    "#pagString = Request.urlopen(\"https://www.buzzfeed.com/hannahwilliams/blueberry-peach-slab-pie?bffbtasty&ref=bffbtasty&utm_term=.jvewrXGVE#.smElQ1qL6\").read()\n",
    "# Paginas ejemplo del formato 2\n",
    "#pagString = Request.urlopen(\"https://www.buzzfeed.com/alvinzhou/heres-four-ways-you-can-enjoy-rotini-pasta-this-week-for-lun?bffbtasty&ref=bffbtasty&utm_term=4ldradw#4ldradw\").read()\n",
    "#paginas ejemplo del formato 3\n",
    "pagString = Request.urlopen(\"https://www.buzzfeed.com/caroltan/this-is-how-you-make-black-bean-burgers?utm_term=.unvE3PWA3#.bhY7eDX3e\"). read()\n"
   ]
  },
  {
   "cell_type": "code",
   "execution_count": 15,
   "metadata": {
    "collapsed": true
   },
   "outputs": [],
   "source": [
    "pagLxml = html.fromstring (pagString)"
   ]
  },
  {
   "cell_type": "code",
   "execution_count": 17,
   "metadata": {
    "collapsed": false
   },
   "outputs": [
    {
     "name": "stdout",
     "output_type": "stream",
     "text": [
      "1\n",
      "\n",
      "\n",
      "RECIPE: Black Bean Burgers\n",
      "\n",
      "\n",
      "\n",
      "Perfect for vegans.\n",
      "\n",
      "INGREDIENTS\n",
      "\n",
      "2 cans black beans, rinsed and drained\n",
      "1 onion, minced\n",
      "3 garlic cloves, minced\n",
      "2 carrots, shredded\n",
      "1/2 cup quick oats\n",
      "1 Tbsp. soy sauce\n",
      "1 Tbsp. olive oil\n",
      "1 tsp cumin ",
      "\n",
      "1/2 tsp coriander ",
      "\n",
      "1/2 tsp chili powder\n",
      " ",
      "1/4 tsp cayenne pepper\n",
      "Salt and pepper to taste\n",
      "Buns (we did not use vegan buns, but you can!)\n",
      "\n",
      "PREPARATION\n",
      "\n",
      "Heat one tablespoon of olive oil in a pan. Combine onions, garlic, salt, and pepper and cook until onions are translucent. Add carrots, cumin, coriander, chili powder, and cayenne pepper until carrots are tender. Remove pan from heat. \n",
      "\n",
      "In a bowl, mash the beans and then add the contents of the pan along with the soy sauce and quick oats. Mix and form four patties. Place in freezer for 30 minutes to set. Cook patties on a pan coated in cooking spray over medium heat, flipping halfway. \n",
      "\n",
      "Use patties to create your dream veggie burger.\n",
      "\n"
     ]
    }
   ],
   "source": [
    "nodos = pagLxml.xpath ('//div[@class=\"buzz_superlist_item buzz-superlist-item buzz_superlist_item_embed buzz-superlist-item-embed  buzz_superlist_item_wide   \"]/div[@class=\"sub_buzz_content solid\"]/div[@itemtype=\"http://schema.org/Recipe\"]')\n",
    "print(len(nodos))\n",
    "print(nodos [0].getchildren()[0].text_content())"
   ]
  },
  {
   "cell_type": "code",
   "execution_count": 22,
   "metadata": {
    "collapsed": false
   },
   "outputs": [
    {
     "name": "stdout",
     "output_type": "stream",
     "text": [
      "El titulo de la receta es: Black Bean Burgers\n",
      "Black Bean Burgers\n",
      " ----  \n",
      "Los ingredientes de la receta son: \n",
      "2 cans black beans, rinsed and drained1 onion, minced3 garlic cloves, minced2 carrots, shredded1/2 cup quick oats1 Tbsp. soy sauce1 Tbsp. olive oil1 tsp cumin ",
      "1/2 tsp coriander ",
      "1/2 tsp chili powder1/4 tsp cayenne pepperSalt and pepper to tasteBuns (we did not use vegan buns, but you can!)\n",
      " ----  \n",
      "La preparacion es: \n",
      "Heat one tablespoon of olive oil in a pan. Combine onions, garlic, salt, and pepper and cook until onions are translucent. Add carrots, cumin, coriander, chili powder, and cayenne pepper until carrots are tender. Remove pan from heat. \n",
      "\n",
      "In a bowl, mash the beans and then add the contents of the pan along with the soy sauce and quick oats. Mix and form four patties. Place in freezer for 30 minutes to set. Cook patties on a pan coated in cooking spray over medium heat, flipping halfway. \n",
      "\n",
      "Use patties to create your dream veggie burger.\n"
     ]
    }
   ],
   "source": [
    "nodosIngConPrep = nodos [0].getchildren()[0].getchildren()\n",
    "\n",
    "titulo = \"\"\n",
    "ingredientes = \"\"\n",
    "preparacion = \"\"\n",
    "tituloEncontrado = False\n",
    "ingredientesEncontrado = False\n",
    "preparacionsEncontrado = False\n",
    "for n in nodosIngConPrep:\n",
    "    texto = n.text_content()\n",
    "    if(texto.strip() != \"\"):\n",
    "        # \"strip\" es una funcion string= q busca espacio en 'blanco' al principio y final de X y los elimina.\n",
    "        if(preparacionsEncontrado) :\n",
    "            preparacion = preparacion + texto\n",
    "        elif(ingredientesEncontrado ):\n",
    "            if(texto.startswith(\"PREPARATION\")):\n",
    "               # \"startswith\" compara si el 'comienzo' del texto es igual a la variable q se declaro.\n",
    "                preparacionsEncontrado = True\n",
    "            else:\n",
    "                ingredientes = ingredientes + texto\n",
    "        elif(tituloEncontrado):\n",
    "            if(texto.startswith(\"INGREDIENTS\")):\n",
    "                ingredientesEncontrado = True\n",
    "        else:\n",
    "            titulo = texto.replace(\"RECIPE: \", \"\")\n",
    "            tituloEncontrado = True\n",
    "\n",
    "\n",
    "\n",
    "print(\"El titulo de la receta es: \" + titulo)\n",
    "print(titulo)\n",
    "print(\" ----  \")\n",
    "print(\"Los ingredientes de la receta son: \")\n",
    "print(ingredientes)\n",
    "print(\" ----  \")\n",
    "print(\"La preparacion es: \")\n",
    "print(preparacion)\n",
    "\n",
    "#numeroPersonas = nodo3.text_content ()\n",
    "#print(\"El numero de personas que pueden comer con esta receta es: \" + numeroPersonas)"
   ]
  },
  {
   "cell_type": "code",
   "execution_count": 12,
   "metadata": {
    "collapsed": false
   },
   "outputs": [
    {
     "name": "stdout",
     "output_type": "stream",
     "text": [
      "1\n",
      "https://img.youtube.com/vi/9OMunBJ8egE/2.jpg\n",
      "{\"video\": {\"size\": \"big\", \"width\":\"625\", \"height\":\"376\", \"url\":\"https://youtube.com/watch?v=9OMunBJ8egE\", \"id\":\"4194306_8316450\", \"length\":\"59\", \"published\":\"2016-03-28 16:00:00\"}}\n"
     ]
    }
   ],
   "source": [
    "nodos = pagLxml.xpath ('//div[@class=\"video-embed-big video-embed-area bf_dom\"]')\n",
    "print(str(len(nodos)))\n",
    "#print(dir(nodos[0]))\n",
    "#print(nodos[0].attrib)\n",
    "print(nodos[0].attrib[\"rel:thumb\"])\n",
    "print(nodos[0].attrib[\"rel:bf_bucket_data\"])\n"
   ]
  },
  {
   "cell_type": "code",
   "execution_count": 13,
   "metadata": {
    "collapsed": false
   },
   "outputs": [
    {
     "name": "stdout",
     "output_type": "stream",
     "text": [
      "1\n",
      "https://img.buzzfeed.com/buzzfeed-static/static/2016-03/28/15/enhanced/webdr08/enhanced-10529-1459193960-5.jpg\n"
     ]
    }
   ],
   "source": [
    "nodos = pagLxml.xpath ('//div[@class=\"buzz_superlist_item buzz-superlist-item buzz_superlist_item_image buzz-superlist-item-image  buzz_superlist_item_wide image_hit  \"]/div[@class=\"solid\"]/div[@class=\"sub_buzz_content\"]/img')\n",
    "print(str(len(nodos)))\n",
    "print(nodos[0].attrib[\"rel:bf_image_src\"])"
   ]
  },
  {
   "cell_type": "code",
   "execution_count": null,
   "metadata": {
    "collapsed": true
   },
   "outputs": [],
   "source": []
  }
 ],
 "metadata": {
  "anaconda-cloud": {},
  "kernelspec": {
   "display_name": "Python [corpus-35]",
   "language": "python",
   "name": "Python [corpus-35]"
  },
  "language_info": {
   "codemirror_mode": {
    "name": "ipython",
    "version": 3
   },
   "file_extension": ".py",
   "mimetype": "text/x-python",
   "name": "python",
   "nbconvert_exporter": "python",
   "pygments_lexer": "ipython3",
   "version": "3.5.2"
  }
 },
 "nbformat": 4,
 "nbformat_minor": 1
}
