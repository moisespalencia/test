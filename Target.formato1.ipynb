{
 "cells": [
  {
   "cell_type": "code",
   "execution_count": 1,
   "metadata": {
    "collapsed": false
   },
   "outputs": [],
   "source": [
    "from bs4 import BeautifulSoup\n",
    "from lxml import html\n",
    "import urllib.request as Request\n",
    "headers = {'Accept':'text/html,application/xhtml+xml,application/xml;q=0.9,image/webp,*/*;q=0.8',\n",
    "'Accept-Language':'en-US,en;q=0.8,es;q=0.6',\n",
    "'Cache-Control':'max-age=0',\n",
    "'Connection':'keep-alive',\n",
    "'Host':'intl.target.com',\n",
    "'Upgrade-Insecure-Requests':'1',\n",
    "'User-Agent':'Mozilla/5.0 (Macintosh; Intel Mac OS X 10_11_6) AppleWebKit/537.36 (KHTML, like Gecko) Chrome/53.0.2785.116 Safari/537.36'}\n",
    "\n",
    "url = \"http://intl.target.com/p/blue-diamond-almond-breeze-unsweetened-vanilla-milk-32-fl-oz/-/A-15078352\"\n",
    "# Paginas ejemplo del formato 1\n",
    "#pagString = Request.urlopen(\"http://intl.target.com/c/grocery-essentials/-/N-5xt1a\").read()\n",
    "#categoria general Target\n",
    "#categoria general Supermercado\n",
    "#pagString = Request.urlopen(\"http://intl.target.com/c/grocery-essentials/-/N-5xt1a\").read()\n",
    "#sub-categoria general Supermercado\n",
    "#pagString = Request.urlopen(\"http://intl.target.com/c/dairy-grocery-essentials/-/N-5xszm\").read()\n",
    "#categoria de productos\n",
    "#pagString = Request.urlopen(\"http://intl.target.com/c/milk-substitutes-dairy-grocery-essentials/-/N-5xszh\").read()\n",
    "#producto\n",
    "#pagString = Request.urlopen(\"http://intl.target.com/p/blue-diamond-almond-breeze-unsweetened-vanilla-milk-32-fl-oz/-/A-15078352\").read ()\n",
    "request=Request.Request(url, None, headers)\n",
    "pagString = Request.urlopen(request).read()\n"
   ]
  },
  {
   "cell_type": "code",
   "execution_count": 2,
   "metadata": {
    "collapsed": false
   },
   "outputs": [],
   "source": [
    "pagSoup = BeautifulSoup(pagString,\"lxml\")\n",
    "pagLxml = html.fromstring (pagString)"
   ]
  },
  {
   "cell_type": "code",
   "execution_count": 3,
   "metadata": {
    "collapsed": true
   },
   "outputs": [],
   "source": [
    "def getXpath(node):\n",
    "    expath = \"\"\n",
    "    \n",
    "    for parent in node.parents:\n",
    "        expath = parent.name + \"/\" + expath\n",
    "    \n",
    "    expath = expath + node.name\n",
    "    \n",
    "    expath = expath.replace(\"[document]\", \"\")\n",
    "    \n",
    "    return expath\n",
    "\n"
   ]
  },
  {
   "cell_type": "code",
   "execution_count": 6,
   "metadata": {
    "collapsed": false
   },
   "outputs": [
    {
     "name": "stdout",
     "output_type": "stream",
     "text": [
      "2\n",
      "\n",
      "    \n",
      "    \n",
      "    \n",
      "    \n",
      "    \n",
      "    \n",
      "    \n",
      "    \n",
      "    \n",
      "    \n",
      "    \n",
      "    \n",
      "    \n",
      "    \n",
      "    \n",
      "    \n",
      "    \n",
      "\n",
      "\n",
      "\n",
      "    \n",
      "    \n",
      "    \n",
      "    \n",
      "    \n",
      "    \n",
      "    \n",
      "    \n",
      "    \n",
      "    \n",
      "    \n",
      "    \n",
      "    \n",
      "    \n",
      "    \n",
      "    \n",
      "\n",
      "\n",
      "    \n",
      "    \n",
      "    \n",
      "    \n",
      "    \n",
      "    \n",
      "    \n",
      "    \n",
      "    \n",
      "    \n",
      "    \n",
      "    \n",
      "    \n",
      "    \n",
      "    \n",
      "    \n",
      "\n"
     ]
    }
   ],
   "source": [
    "nodos = pagLxml.xpath('//div[@class]')  \n",
    "print(len(nodos))\n",
    "#nodo1 = nodos[0]\n",
    "#nodo2 = nodo1\n",
    "#print(nodo2.text_content())\n",
    "for x in nodos:\n",
    "    for y in x.getchildren ():\n",
    "        \n",
    "        print(x.text_content ())\n",
    "        \n",
    "\n"
   ]
  },
  {
   "cell_type": "code",
   "execution_count": null,
   "metadata": {
    "collapsed": true
   },
   "outputs": [],
   "source": []
  },
  {
   "cell_type": "code",
   "execution_count": null,
   "metadata": {
    "collapsed": false
   },
   "outputs": [],
   "source": [
    "nodo1 = pagSoup.find_all(\"h2\", class_=\"subbuzz_name\") [0]\n",
    "node1Path = getXpath(nodo1)\n",
    "titulo = pagLxml.xpath(node1Path + \"/text()\")[0]\n",
    "print(\"El titulo de la receta es: \" + titulo)"
   ]
  },
  {
   "cell_type": "code",
   "execution_count": null,
   "metadata": {
    "collapsed": false
   },
   "outputs": [],
   "source": [
    "nodos = pagLxml.xpath ('//div[@class=\"buzz_superlist_item buzz-superlist-item buzz_superlist_item_text buzz-superlist-item-text  buzz_superlist_item_wide   \"]/div[@class=\"solid\"]')\n",
    "print(len(nodos))\n",
    "nodo2 = nodos[0]\n",
    "nodo3 = nodo2.getchildren () [2]\n",
    "numeroPersonas = nodo3.text_content ()\n",
    "print(\"El numero de personas que pueden comer con esta receta es: \" + numeroPersonas)"
   ]
  },
  {
   "cell_type": "code",
   "execution_count": null,
   "metadata": {
    "collapsed": false
   },
   "outputs": [],
   "source": [
    "#nodoIngredients= nodo2.getchildren ()[0].getchildren () [2:5]\n",
    "nodoIngredients= nodo2.getchildren () [1:]\n",
    "for ig in nodoIngredients:\n",
    "    print (ig.text_content ())"
   ]
  },
  {
   "cell_type": "code",
   "execution_count": null,
   "metadata": {
    "collapsed": false
   },
   "outputs": [],
   "source": [
    "#nodoPreparacion= pagLxml.xpath ('//div[@id=\"superlist_4357222_9628045\"]')[0]\n",
    "#nodoPreparacion= nodoPreparacion.getchildren ()[0].getchildren () [1:3]\n",
    "nodoPreparacion = nodos[1].getchildren () [1:]\n",
    "for prep in nodoPreparacion:\n",
    "    print (prep.text_content ())"
   ]
  },
  {
   "cell_type": "code",
   "execution_count": null,
   "metadata": {
    "collapsed": false
   },
   "outputs": [],
   "source": [
    "nodos = pagLxml.xpath ('//div[@class=\"video-embed-big video-embed-area bf_dom\"]')\n",
    "print(str(len(nodos)))\n",
    "#print(dir(nodos[0]))\n",
    "#print(nodos[0].attrib)\n",
    "print(nodos[0].attrib[\"rel:thumb\"])\n",
    "print(nodos[0].attrib[\"rel:bf_bucket_data\"])\n"
   ]
  },
  {
   "cell_type": "code",
   "execution_count": null,
   "metadata": {
    "collapsed": false
   },
   "outputs": [],
   "source": [
    "nodos = pagLxml.xpath ('//div[@class=\"buzz_superlist_item buzz-superlist-item buzz_superlist_item_image buzz-superlist-item-image  buzz_superlist_item_wide image_hit  \"]/div[@class=\"solid\"]/div[@class=\"sub_buzz_content\"]/img')\n",
    "print(str(len(nodos)))\n",
    "print(nodos[0].attrib[\"rel:bf_image_src\"])"
   ]
  },
  {
   "cell_type": "code",
   "execution_count": null,
   "metadata": {
    "collapsed": true
   },
   "outputs": [],
   "source": []
  }
 ],
 "metadata": {
  "anaconda-cloud": {},
  "kernelspec": {
   "display_name": "Python [corpus-35]",
   "language": "python",
   "name": "Python [corpus-35]"
  },
  "language_info": {
   "codemirror_mode": {
    "name": "ipython",
    "version": 3
   },
   "file_extension": ".py",
   "mimetype": "text/x-python",
   "name": "python",
   "nbconvert_exporter": "python",
   "pygments_lexer": "ipython3",
   "version": "3.5.2"
  }
 },
 "nbformat": 4,
 "nbformat_minor": 1
}
