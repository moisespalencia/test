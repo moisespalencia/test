{
 "cells": [
  {
   "cell_type": "code",
   "execution_count": 1,
   "metadata": {
    "collapsed": false
   },
   "outputs": [],
   "source": [
    "from bs4 import BeautifulSoup\n",
    "from lxml import html\n",
    "import urllib.request as Request\n",
    "# Paginas ejemplo del formato 1\n",
    "#pagString = Request.urlopen(\"https://www.buzzfeed.com/robertbroadfoot/chicken-penne?bffbtasty&ref=bffbtasty&utm_term=.rdxzWraP4#.ysel2zbZ1\").read()\n",
    "#pagString = Request.urlopen(\"https://www.buzzfeed.com/alixtraeger/this-chocolate-chip-banana-monkey-bread-will-change-your-lif?bffbtasty&ref=bffbtasty&utm_term=.eg2OMN7Bv#.daaRkpKY6\").read()\n",
    "#pagString = Request.urlopen(\"https://www.buzzfeed.com/robertbroadfoot/youll-definitely-want-to-make-this-chicken-broccoli-mushroom?bffbtasty&ref=bffbtasty&utm_term=4ldradw#4ldradw\").read()\n",
    "#pagString = Request.urlopen('https://www.buzzfeed.com/clairenolan/this-peanut-butter-stuffed-skillet-cookie-is-totally-dessert?bffbtasty&ref=bffbtasty&utm_term=.hha90B2Dy#.nwPm4NGge').read()\n",
    "#pagString = Request.urlopen(\"https://www.buzzfeed.com/hannahwilliams/blueberry-peach-slab-pie?bffbtasty&ref=bffbtasty&utm_term=.jvewrXGVE#.smElQ1qL6\").read()\n",
    "# Paginas ejemplo del formato 2\n",
    "pagString = Request.urlopen(\"https://www.buzzfeed.com/alvinzhou/heres-four-ways-you-can-enjoy-rotini-pasta-this-week-for-lun?bffbtasty&ref=bffbtasty&utm_term=.okOwWxmJW#.brKXbZw6b\").read()\n"
   ]
  },
  {
   "cell_type": "code",
   "execution_count": 2,
   "metadata": {
    "collapsed": true
   },
   "outputs": [],
   "source": [
    "pagSoup = BeautifulSoup(pagString,\"lxml\")\n",
    "pagLxml = html.fromstring (pagString)"
   ]
  },
  {
   "cell_type": "code",
   "execution_count": 3,
   "metadata": {
    "collapsed": true
   },
   "outputs": [],
   "source": [
    "def getXpath(node):\n",
    "    expath = \"\"\n",
    "    \n",
    "    for parent in node.parents:\n",
    "        expath = parent.name + \"/\" + expath\n",
    "    \n",
    "    expath = expath + node.name\n",
    "    \n",
    "    expath = expath.replace(\"[document]\", \"\")\n",
    "    \n",
    "    return expath\n"
   ]
  },
  {
   "cell_type": "code",
   "execution_count": 4,
   "metadata": {
    "collapsed": false
   },
   "outputs": [
    {
     "name": "stdout",
     "output_type": "stream",
     "text": [
      "El titulo de la receta es:  Rotini Pasta 4 Ways\n"
     ]
    }
   ],
   "source": [
    "nodo1 = pagSoup.find_all(\"h2\", class_=\"subbuzz_name\") [0]\n",
    "node1Path = getXpath(nodo1)\n",
    "titulo = pagLxml.xpath(node1Path + \"/text()\")[0]\n",
    "print(\"El titulo de la receta es: \" + titulo)"
   ]
  },
  {
   "cell_type": "code",
   "execution_count": 5,
   "metadata": {
    "collapsed": false
   },
   "outputs": [
    {
     "name": "stdout",
     "output_type": "stream",
     "text": [
      "12\n"
     ]
    }
   ],
   "source": [
    "nodos = pagLxml.xpath ('//div[@class=\"buzz_superlist_item buzz-superlist-item buzz_superlist_item_image buzz-superlist-item-image  buzz_superlist_item_wide image_hit  \"]/div[@class=\"solid\"]/p')\n",
    "#n resultados\n",
    "print(len(nodos))\n"
   ]
  },
  {
   "cell_type": "code",
   "execution_count": 6,
   "metadata": {
    "collapsed": false
   },
   "outputs": [
    {
     "name": "stdout",
     "output_type": "stream",
     "text": [
      "El numero de personas que pueden comer con esta receta es: Serves 3-4\n"
     ]
    }
   ],
   "source": [
    "nodos = pagLxml.xpath ('//div[@class=\"buzz_superlist_item buzz-superlist-item buzz_superlist_item_image buzz-superlist-item-image  buzz_superlist_item_wide image_hit  \"]/div[@class=\"solid\"]/p')\n",
    "print(\"El numero de personas que pueden comer con esta receta es: \" + nodos[0].text_content())"
   ]
  },
  {
   "cell_type": "code",
   "execution_count": 11,
   "metadata": {
    "collapsed": false
   },
   "outputs": [
    {
     "name": "stdout",
     "output_type": "stream",
     "text": [
      "3 tablespoons butter\n",
      "2 pounds shrimp, deveined and peeled\n",
      "1 cup tomato, chopped\n",
      "½ cup green onion, chopped\n",
      "2 tablespoons chili powder\n",
      "½ cup parsley, chopped\n",
      "2 teaspoons salt\n",
      "2 teaspoons pepper\n",
      "1 cup milk\n",
      "250 grams cooked rotini pasta\n"
     ]
    }
   ],
   "source": [
    "#ingredientes\n",
    "print(nodos[1].text_content().replace(\"INGREDIENTS\\n\",\"\"))"
   ]
  },
  {
   "cell_type": "code",
   "execution_count": 12,
   "metadata": {
    "collapsed": false
   },
   "outputs": [
    {
     "name": "stdout",
     "output_type": "stream",
     "text": [
      "1. Melt butter in a large pot over medium-high heat.\n",
      "2. Cook the shrimp until pink.\n",
      "3. Add the tomato, green onion, chili powder, parsley, salt, and pepper, stirring until evenly mixed.\n",
      "4. Pour in the milk, bringing to a boil.\n",
      "5. Stir in the cooked pasta until well-coated.\n",
      "6. Enjoy!\n"
     ]
    }
   ],
   "source": [
    "#preparacion\n",
    "print(nodos[2].text_content().replace(\"PREPARATION\\n\",\"\"))"
   ]
  },
  {
   "cell_type": "code",
   "execution_count": 60,
   "metadata": {
    "collapsed": false
   },
   "outputs": [
    {
     "name": "stdout",
     "output_type": "stream",
     "text": [
      "1\n",
      "https://img.youtube.com/vi/ExJOQJ6fvZI/2.jpg\n",
      "{\"video\": {\"size\": \"big\", \"width\":\"625\", \"height\":\"376\", \"url\":\"https://youtube.com/watch?v=ExJOQJ6fvZI\", \"id\":\"4350603_9584002\", \"length\":\"121\", \"published\":\"2016-09-08 13:47:01\"}}\n"
     ]
    }
   ],
   "source": [
    "nodos = pagLxml.xpath ('//div[@class=\"video-embed-big video-embed-area bf_dom\"]')\n",
    "print(str(len(nodos)))\n",
    "#print(dir(nodos[0]))\n",
    "#print(nodos[0].attrib)\n",
    "print(nodos[0].attrib[\"rel:thumb\"])\n",
    "print(nodos[0].attrib[\"rel:bf_bucket_data\"])\n"
   ]
  },
  {
   "cell_type": "code",
   "execution_count": 61,
   "metadata": {
    "collapsed": false
   },
   "outputs": [
    {
     "name": "stdout",
     "output_type": "stream",
     "text": [
      "5\n",
      "https://img.buzzfeed.com/buzzfeed-static/static/2016-09/6/19/asset/buzzfeed-prod-fastlane03/sub-buzz-23258-1473206392-4.jpg?resize=625:781\n"
     ]
    }
   ],
   "source": [
    "nodos = pagLxml.xpath ('//div[@class=\"buzz_superlist_item buzz-superlist-item buzz_superlist_item_image buzz-superlist-item-image  buzz_superlist_item_wide image_hit  \"]/div[@class=\"solid\"]/div[@class=\"sub_buzz_content\"]/img')\n",
    "print(str(len(nodos)))\n",
    "print(nodos[0].attrib[\"rel:bf_image_src\"])"
   ]
  },
  {
   "cell_type": "code",
   "execution_count": null,
   "metadata": {
    "collapsed": true
   },
   "outputs": [],
   "source": []
  }
 ],
 "metadata": {
  "anaconda-cloud": {},
  "kernelspec": {
   "display_name": "Python [corpus-35]",
   "language": "python",
   "name": "Python [corpus-35]"
  },
  "language_info": {
   "codemirror_mode": {
    "name": "ipython",
    "version": 3
   },
   "file_extension": ".py",
   "mimetype": "text/x-python",
   "name": "python",
   "nbconvert_exporter": "python",
   "pygments_lexer": "ipython3",
   "version": "3.5.2"
  }
 },
 "nbformat": 4,
 "nbformat_minor": 1
}
