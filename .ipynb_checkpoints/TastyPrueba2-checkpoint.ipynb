{
 "cells": [
  {
   "cell_type": "code",
   "execution_count": 102,
   "metadata": {
    "collapsed": true
   },
   "outputs": [],
   "source": [
    "from bs4 import BeautifulSoup\n",
    "from lxml import html\n",
    "import urllib.request as Request\n",
    "#pagString = Request.urlopen(\"https://www.buzzfeed.com/robertbroadfoot/chicken-penne?bffbtasty&ref=bffbtasty&utm_term=.rdxzWraP4#.ysel2zbZ1\").read()\n",
    "pagString = Request.urlopen(\"https://www.buzzfeed.com/alixtraeger/this-chocolate-chip-banana-monkey-bread-will-change-your-lif?bffbtasty&ref=bffbtasty&utm_term=.eg2OMN7Bv#.daaRkpKY6\").read()\n",
    "#pagString = Request.urlopen(\"https://www.buzzfeed.com/robertbroadfoot/youll-definitely-want-to-make-this-chicken-broccoli-mushroom?bffbtasty&ref=bffbtasty&utm_term=4ldradw#4ldradw\").read()\n",
    "#pagString = Request.urlopen('https://www.buzzfeed.com/clairenolan/this-peanut-butter-stuffed-skillet-cookie-is-totally-dessert?bffbtasty&ref=bffbtasty&utm_term=.hha90B2Dy#.nwPm4NGge').read()\n",
    "#pagString = Request.urlopen(\"https://www.buzzfeed.com/hannahwilliams/blueberry-peach-slab-pie?bffbtasty&ref=bffbtasty&utm_term=.jvewrXGVE#.smElQ1qL6\").read()\n",
    "pagSoup = BeautifulSoup(pagString,\"lxml\")\n",
    "pagLxml = html.fromstring (pagString)"
   ]
  },
  {
   "cell_type": "code",
   "execution_count": 103,
   "metadata": {
    "collapsed": true
   },
   "outputs": [],
   "source": [
    "def getXpath(node):\n",
    "    expath = \"\"\n",
    "    \n",
    "    for parent in node.parents:\n",
    "        expath = parent.name + \"/\" + expath\n",
    "    \n",
    "    expath = expath + node.name\n",
    "    \n",
    "    expath = expath.replace(\"[document]\", \"\")\n",
    "    \n",
    "    return expath\n"
   ]
  },
  {
   "cell_type": "code",
   "execution_count": 104,
   "metadata": {
    "collapsed": false
   },
   "outputs": [
    {
     "name": "stdout",
     "output_type": "stream",
     "text": [
      "El titulo de la receta es:  Chocolate Chip Banana Monkey Bread\n"
     ]
    }
   ],
   "source": [
    "nodo1 = pagSoup.find_all(\"h2\", class_=\"subbuzz_name\") [0]\n",
    "node1Path = getXpath(nodo1)\n",
    "titulo = pagLxml.xpath(node1Path + \"/text()\")[0]\n",
    "print(\"El titulo de la receta es: \" + titulo)"
   ]
  },
  {
   "cell_type": "code",
   "execution_count": 105,
   "metadata": {
    "collapsed": false
   },
   "outputs": [
    {
     "name": "stdout",
     "output_type": "stream",
     "text": [
      "3\n",
      "El numero de personas que pueden comer con esta receta es: Serves 10-12\n"
     ]
    }
   ],
   "source": [
    "nodos = pagLxml.xpath ('//div[@class=\"buzz_superlist_item buzz-superlist-item buzz_superlist_item_text buzz-superlist-item-text  buzz_superlist_item_wide   \"]/div[@class=\"solid\"]')\n",
    "print(len(nodos))\n",
    "nodo2 = nodos[0]\n",
    "#nodo3 = nodo2.getchildren ()[0].getchildren () [1]\n",
    "nodo3 = nodo2.getchildren () [1]\n",
    "numeroPersonas = nodo3.text_content ()\n",
    "print(\"El numero de personas que pueden comer con esta receta es: \" + numeroPersonas)"
   ]
  },
  {
   "cell_type": "code",
   "execution_count": 106,
   "metadata": {
    "collapsed": false
   },
   "outputs": [
    {
     "name": "stdout",
     "output_type": "stream",
     "text": [
      "Serves 10-12\n",
      "3 bananas, (1 cut into coins, 2 cut into half-coins) \n",
      "1 cup dark chocolate chips\n",
      "3 cans biscuit dough \n",
      "1 cup sugar \n",
      "3 teaspoons cinnamon \n",
      "Glaze\n",
      "2 sticks butter \n",
      "1/2 cup brown sugar\n",
      "Garnish\n",
      "Banana Coins \n",
      "Dark chocolate chips\n"
     ]
    }
   ],
   "source": [
    "#nodoIngredients= nodo2.getchildren ()[0].getchildren () [2:5]\n",
    "nodoIngredients= nodo2.getchildren () [1:]\n",
    "for ig in nodoIngredients:\n",
    "    print (ig.text_content ())"
   ]
  },
  {
   "cell_type": "code",
   "execution_count": 107,
   "metadata": {
    "collapsed": false
   },
   "outputs": [
    {
     "name": "stdout",
     "output_type": "stream",
     "text": [
      "1. Preheat oven to 350˚F/180˚C. \n",
      "2. Cut 2 bananas into coins and again in half, set aside.\n",
      "3. In a bowl mix sugar and cinnamon, set aside.\n",
      "4. Cut each biscuit round in half and flatten into rounds. \n",
      "5. Stuff each round with one piece of the halved banana coins and chocolate chips. \n",
      "6. Close the round together by pinching at the seam and roll into a ball in your hands\n",
      "7. Place the balls in the cinnamon sugar mix and gently toss to coat.\n",
      "8. In a saucepan over medium heat melt the butter and brown sugar until one, stirring occasionally. Set aside to cool.\n",
      "9. Grease a bundt pan and line the bottom with full banana coins.\n",
      "10. Layer half of the balls in the pan and pour half of the glaze on top.\n",
      "11. Sprinkle a handful of chocolate chips over top.\n",
      "12. Repeat steps 10 and 11.\n",
      "13. Bake for 40-50 minutes until the crust is a deep dark brown on top. (if the top is browning too much you can cover it with aluminum foil.)\n",
      "14. Remove from oven and allow it to cool or about 15-30 minutes before turning it over onto a plate.\n",
      "15. Enjoy!\n"
     ]
    }
   ],
   "source": [
    "#nodoPreparacion= pagLxml.xpath ('//div[@id=\"superlist_4357222_9628045\"]')[0]\n",
    "#nodoPreparacion= nodoPreparacion.getchildren ()[0].getchildren () [1:3]\n",
    "nodoPreparacion = nodos[1].getchildren () [1:]\n",
    "for prep in nodoPreparacion:\n",
    "    print (prep.text_content ())"
   ]
  },
  {
   "cell_type": "code",
   "execution_count": 108,
   "metadata": {
    "collapsed": false
   },
   "outputs": [
    {
     "name": "stdout",
     "output_type": "stream",
     "text": [
      "1\n",
      "https://img.youtube.com/vi/uxuVeR3Hm9A/2.jpg\n",
      "{\"video\": {\"size\": \"big\", \"width\":\"625\", \"height\":\"376\", \"url\":\"https://youtube.com/watch?v=uxuVeR3Hm9A\", \"id\":\"4357222_9632991\", \"length\":\"No image found\", \"published\":\"2016-09-16 15:15:53\"}}\n"
     ]
    }
   ],
   "source": [
    "nodos = pagLxml.xpath ('//div[@class=\"video-embed-big video-embed-area bf_dom\"]')\n",
    "print(str(len(nodos)))\n",
    "#print(dir(nodos[0]))\n",
    "#print(nodos[0].attrib)\n",
    "print(nodos[0].attrib[\"rel:thumb\"])\n",
    "print(nodos[0].attrib[\"rel:bf_bucket_data\"])\n"
   ]
  },
  {
   "cell_type": "code",
   "execution_count": 109,
   "metadata": {
    "collapsed": false
   },
   "outputs": [
    {
     "name": "stdout",
     "output_type": "stream",
     "text": [
      "1\n",
      "https://img.buzzfeed.com/buzzfeed-static/static/2016-09/15/20/asset/buzzfeed-prod-fastlane01/sub-buzz-12276-1473986857-2.jpg?resize=625:781\n"
     ]
    }
   ],
   "source": [
    "nodos = pagLxml.xpath ('//div[@class=\"buzz_superlist_item buzz-superlist-item buzz_superlist_item_image buzz-superlist-item-image  buzz_superlist_item_wide image_hit  \"]/div[@class=\"solid\"]/div[@class=\"sub_buzz_content\"]/img')\n",
    "print(str(len(nodos)))\n",
    "print(nodos[0].attrib[\"rel:bf_image_src\"])"
   ]
  },
  {
   "cell_type": "code",
   "execution_count": null,
   "metadata": {
    "collapsed": true
   },
   "outputs": [],
   "source": []
  }
 ],
 "metadata": {
  "anaconda-cloud": {},
  "kernelspec": {
   "display_name": "Python [conda env:cne35]",
   "language": "python",
   "name": "conda-env-cne35-py"
  },
  "language_info": {
   "codemirror_mode": {
    "name": "ipython",
    "version": 3
   },
   "file_extension": ".py",
   "mimetype": "text/x-python",
   "name": "python",
   "nbconvert_exporter": "python",
   "pygments_lexer": "ipython3",
   "version": "3.5.2"
  }
 },
 "nbformat": 4,
 "nbformat_minor": 1
}
