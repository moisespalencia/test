{
 "cells": [
  {
   "cell_type": "code",
   "execution_count": 31,
   "metadata": {
    "collapsed": false
   },
   "outputs": [],
   "source": [
    "import facebook\n",
    "graph = facebook.GraphAPI(version='2.7')\n",
    "token = graph.get_app_access_token(app_id=\"1789388901276350\", app_secret=\"a37bb243d30a1fd1fcef585447f7d323\")\n",
    "graph = facebook.GraphAPI(access_token=token, version='2.7')\n"
   ]
  },
  {
   "cell_type": "markdown",
   "metadata": {},
   "source": [
    "La idea aqui es obtener todos los videos usando la consulta de facebook \"buzzfeedtasty/videos?fields=description,id&type=uploaded\" que se puede ver en el [explorer console](https://developers.facebook.com/tools/explorer/145634995501895/?method=GET&path=buzzfeedtasty%2Fvideos%3Ffields%3Ddescription%2Cid%26type%3Duploaded&version=v2.7).  \n",
    "Y luego obtener para cada video sus estadisticas usando una consultas como: \n",
    "- \"1804124039840237/reactions?limit=0&summary=true\" que se puede ver en el [explorer console](https://developers.facebook.com/tools/explorer/145634995501895/?method=GET&path=1804124039840237%2Freactions%3Flimit%3D0%26summary%3Dtrue&version=v2.7).  \n",
    "- \"1804124039840237/comments?limit=0&summary=true\" que se puede ver en el [explorer console](https://developers.facebook.com/tools/explorer/145634995501895/?method=GET&path=1804124039840237%2Fcomments%3Flimit%3D0%26summary%3Dtrue&version=v2.7).\n",
    "\n",
    "\n",
    "[Ayuda del Python Facebook-SDK](https://facebook-sdk.readthedocs.io/en/latest/api.html)  \n",
    "[Ayuda del API de Facebook](https://developers.facebook.com/docs/graph-api/using-graph-api)  "
   ]
  },
  {
   "cell_type": "code",
   "execution_count": 2,
   "metadata": {
    "collapsed": false
   },
   "outputs": [],
   "source": [
    "callRes = graph.get_object(id=\"buzzfeedtasty/videos\", fields=\"description,id\", type=\"uploaded\", limit=\"100\")"
   ]
  },
  {
   "cell_type": "code",
   "execution_count": 3,
   "metadata": {
    "collapsed": false
   },
   "outputs": [
    {
     "name": "stdout",
     "output_type": "stream",
     "text": [
      "Una llamada al API de facebook retorna 2 elementos en un diccionario.\n",
      "El diccionario con el resultado siempre incluye los siguientes dos elementos: dict_keys(['data', 'paging'])\n"
     ]
    }
   ],
   "source": [
    "print(\"Una llamada al API de facebook retorna \" + str(len(callRes)) + \" elementos en un diccionario.\")\n",
    "print(\"El diccionario con el resultado siempre incluye los siguientes dos elementos: \" + str(callRes.keys()))"
   ]
  },
  {
   "cell_type": "code",
   "execution_count": 4,
   "metadata": {
    "collapsed": false
   },
   "outputs": [
    {
     "name": "stdout",
     "output_type": "stream",
     "text": [
      "El elemento Data del diccionario incluye los videos. La cantidad de videos obtenido en este caso son : 100\n",
      "El otro elemento del diccionario llamado Paging, incluye lo necesario para obtener otra pagina de resultados.\n"
     ]
    }
   ],
   "source": [
    "print(\"El elemento Data del diccionario incluye los videos. La cantidad de videos obtenido en este caso son : \" + str(len(callRes[\"data\"])))\n",
    "print(\"El otro elemento del diccionario llamado Paging, incluye lo necesario para obtener otra pagina de resultados.\")\n",
    "videos = callRes[\"data\"]"
   ]
  },
  {
   "cell_type": "code",
   "execution_count": 5,
   "metadata": {
    "collapsed": false
   },
   "outputs": [
    {
     "name": "stdout",
     "output_type": "stream",
     "text": [
      "https://graph.facebook.com/v2.7/1614251518827491/videos?access_token=1789388901276350%7C_F3ObrI9Aoq0IPjQd6Br5LzUZzo&fields=description%2Cid&type=uploaded&limit=100&after=MTc4NjEwMTk4ODMwOTEwOQZDZD\n",
      "MTc4NjEwMTk4ODMwOTEwOQZDZD\n"
     ]
    }
   ],
   "source": [
    "print(callRes[\"paging\"][\"next\"])\n",
    "print(callRes[\"paging\"][\"cursors\"][\"after\"])"
   ]
  },
  {
   "cell_type": "code",
   "execution_count": 6,
   "metadata": {
    "collapsed": true
   },
   "outputs": [],
   "source": [
    "callRes = graph.get_object(id=\"buzzfeedtasty/videos\", fields=\"description,id\", type=\"uploaded\", limit=\"100\", after=callRes[\"paging\"][\"cursors\"][\"after\"])"
   ]
  },
  {
   "cell_type": "code",
   "execution_count": 7,
   "metadata": {
    "collapsed": false
   },
   "outputs": [
    {
     "name": "stdout",
     "output_type": "stream",
     "text": [
      "El elemento Data del diccionario incluye los videos. La cantidad de videos obtenido en este caso son : 100\n",
      "MTc2MzY3MDA0MDU1MjMwNAZDZD\n"
     ]
    }
   ],
   "source": [
    "print(\"El elemento Data del diccionario incluye los videos. La cantidad de videos obtenido en este caso son : \" + str(len(callRes[\"data\"])))\n",
    "videos = videos + callRes[\"data\"]\n",
    "print(callRes[\"paging\"][\"cursors\"][\"after\"])"
   ]
  },
  {
   "cell_type": "code",
   "execution_count": 8,
   "metadata": {
    "collapsed": false
   },
   "outputs": [
    {
     "name": "stdout",
     "output_type": "stream",
     "text": [
      "La cantidad de total de videos obtenido son : 802\n"
     ]
    }
   ],
   "source": [
    "while \"paging\" in callRes.keys():\n",
    "    after = callRes[\"paging\"][\"cursors\"][\"after\"]\n",
    "    callRes = graph.get_object(id=\"buzzfeedtasty/videos\", fields=\"description,id\", type=\"uploaded\", limit=\"100\", after=after)\n",
    "    videos = videos + callRes[\"data\"]\n",
    "print(\"La cantidad de total de videos obtenido son : \" + str(len(videos)))"
   ]
  },
  {
   "cell_type": "code",
   "execution_count": 16,
   "metadata": {
    "collapsed": false
   },
   "outputs": [
    {
     "name": "stdout",
     "output_type": "stream",
     "text": [
      "La cantidad de total de videos con reacciones : 25\n"
     ]
    }
   ],
   "source": [
    "videosYReac = []\n",
    "for v in videos[0:25]:\n",
    "    vCopy = v.copy()\n",
    "    id = vCopy[\"id\"] + \"/reactions\"\n",
    "    callRes = graph.get_object(id=id, limit=\"0\", summary=\"true\")\n",
    "    vCopy[\"reactions\"] = callRes[\"summary\"][\"total_count\"]\n",
    "    videosYReac.append(vCopy)\n",
    "print(\"La cantidad de total de videos con reacciones : \" + str(len(videosYReac)))"
   ]
  },
  {
   "cell_type": "code",
   "execution_count": 17,
   "metadata": {
    "collapsed": false
   },
   "outputs": [
    {
     "name": "stdout",
     "output_type": "stream",
     "text": [
      "La cantidad de total de videos con comments : 25\n"
     ]
    }
   ],
   "source": [
    "videosYEstad = []\n",
    "for v in videosYReac:\n",
    "    vCopy = v.copy()\n",
    "    id = vCopy[\"id\"] + \"/comments\"\n",
    "    callRes = graph.get_object(id=id, limit=\"0\", summary=\"true\")\n",
    "    vCopy[\"comments\"] = callRes[\"summary\"][\"total_count\"]\n",
    "    videosYEstad.append(vCopy)\n",
    "print(\"La cantidad de total de videos con comments : \" + str(len(videosYEstad)))"
   ]
  },
  {
   "cell_type": "code",
   "execution_count": 25,
   "metadata": {
    "collapsed": false
   },
   "outputs": [
    {
     "name": "stdout",
     "output_type": "stream",
     "text": [
      "Algunas descripciones de ejemplo son: \n",
      "--> Healthy Mediterranean Salad\n",
      "\n",
      "FULL RECIPE: http://bzfd.it/2dABK48\n",
      "--> Baked Parmesan Chicken Strips #TastyJunior\n",
      "\n",
      "FULL RECIPE: http://bzfd.it/2da0hP8\n",
      "--> Tornado Potato\n",
      "\n",
      "FULL RECIPE: http://bzfd.it/2dxz475\n",
      "--> These Cookie Butter Éclairs from Tasty Miam look so good and perfect for a delicious fall dessert.\n",
      "\n",
      "FULL RECIPE: http://bzfd.it/2d6TTbi\n",
      "--> 3-Ingredient Chocolate Desserts \n",
      "\n",
      "FULL RECIPES: http://bzfd.it/2duqpCB\n",
      "--> Here's a tasty One-Pot Hot Dog Pasta from Tasty Demais that is so good you have to try it! \n",
      "\n",
      "FULL RECIPE: http://bzfd.it/2duga19\n",
      "--> Slow Cooker Short Ribs\n",
      "\n",
      "FULL RECIPE: http://bzfd.it/2daLmpB\n",
      "--> Banana French Toast Bake\n",
      "\n",
      "FULL RECIPE: http://bzfd.it/2cty4DC\n",
      "--> Baked Chili Lime Popcorn Chicken\n",
      "--> Sometimes you just need to grab ahold of cheesy bread...\n"
     ]
    }
   ],
   "source": [
    "print(\"Algunas descripciones de ejemplo son: \")\n",
    "for v in videosYEstad[0:10]:\n",
    "    print(\"--> \" + str(v[\"description\"]))"
   ]
  },
  {
   "cell_type": "markdown",
   "metadata": {},
   "source": [
    "Como se puede ver arriba hay videos que no hacen referencia a una receta especifica, o hacen referencia a articulos que incluyen mas de una receta al mismo tiempo. A nosotros nos interesa solo videos que apuntan a una receta espeicifica."
   ]
  },
  {
   "cell_type": "code",
   "execution_count": 26,
   "metadata": {
    "collapsed": false
   },
   "outputs": [
    {
     "name": "stdout",
     "output_type": "stream",
     "text": [
      "name = Baked Parmesan Chicken Strips #TastyJunior\n",
      "short link = http://bzfd.it/2da0hP8\n",
      "name = Tornado Potato\n",
      "short link = http://bzfd.it/2dxz475\n",
      "name = These Cookie Butter Éclairs from Tasty Miam look so good and perfect for a delicious fall dessert.\n",
      "short link = http://bzfd.it/2d6TTbi\n",
      "name = Here's a tasty One-Pot Hot Dog Pasta from Tasty Demais that is so good you have to try it! \n",
      "short link = http://bzfd.it/2duga19\n",
      "name = Slow Cooker Short Ribs\n",
      "short link = http://bzfd.it/2daLmpB\n",
      "name = Banana French Toast Bake\n",
      "short link = http://bzfd.it/2cty4DC\n"
     ]
    }
   ],
   "source": [
    "import re\n",
    "singleReceiptRE = re.compile('(?P<name>^.+)\\n+(FULL RECIPE: )(?P<link>http://bzfd.it/\\S+)')\n",
    "for v in videosYEstad[1:10]:\n",
    "    result = singleReceiptRE.match(v[\"description\"])\n",
    "    if result != None:\n",
    "        name = result.group(\"name\")\n",
    "        shortLink = result.group(\"link\")\n",
    "        print(\"name = \" + name)\n",
    "        print(\"short link = \" + shortLink)"
   ]
  },
  {
   "cell_type": "code",
   "execution_count": 27,
   "metadata": {
    "collapsed": false
   },
   "outputs": [
    {
     "name": "stdout",
     "output_type": "stream",
     "text": [
      "total de videos con una unica receta: 18\n"
     ]
    }
   ],
   "source": [
    "singleReceiptVideos = []\n",
    "for v in videosYEstad:\n",
    "    result = singleReceiptRE.match(v[\"description\"])\n",
    "    if result != None:\n",
    "        name = result.group(\"name\")\n",
    "        shortLink = result.group(\"link\")\n",
    "        singleReceiptVideos = singleReceiptVideos + [[name, shortLink]]\n",
    "print(\"total de videos con una unica receta: \" + str(len(singleReceiptVideos)))"
   ]
  },
  {
   "cell_type": "code",
   "execution_count": 28,
   "metadata": {
    "collapsed": false
   },
   "outputs": [
    {
     "name": "stdout",
     "output_type": "stream",
     "text": [
      "name = 3-Ingredient Chocolate Desserts \n",
      "short link = http://bzfd.it/2duqpCB\n"
     ]
    }
   ],
   "source": [
    "multipleReceiptRE = re.compile('(?P<name>^.+)\\n+(FULL RECIPES: )(?P<link>http://bzfd.it/\\S+)')\n",
    "for v in videosYEstad[1:10]:\n",
    "    result = multipleReceiptRE.match(v[\"description\"])\n",
    "    if result != None:\n",
    "        name = result.group(\"name\")\n",
    "        shortLink = result.group(\"link\")\n",
    "        print(\"name = \" + name)\n",
    "        print(\"short link = \" + shortLink)"
   ]
  },
  {
   "cell_type": "code",
   "execution_count": 29,
   "metadata": {
    "collapsed": false
   },
   "outputs": [
    {
     "name": "stdout",
     "output_type": "stream",
     "text": [
      "total de videos con mas de una receta: 4\n"
     ]
    }
   ],
   "source": [
    "multipleReceiptVideos = []\n",
    "for v in videosYEstad:\n",
    "    result = multipleReceiptRE.match(v[\"description\"])\n",
    "    if result != None:\n",
    "        name = result.group(\"name\")\n",
    "        shortLink = result.group(\"link\")\n",
    "        multipleReceiptVideos = multipleReceiptVideos + [[name, shortLink]]\n",
    "print(\"total de videos con mas de una receta: \" + str(len(multipleReceiptVideos)))"
   ]
  },
  {
   "cell_type": "code",
   "execution_count": 30,
   "metadata": {
    "collapsed": false
   },
   "outputs": [
    {
     "data": {
      "text/plain": [
       "16.04"
      ]
     },
     "execution_count": 30,
     "metadata": {},
     "output_type": "execute_result"
    }
   ],
   "source": [
    "len(videos) / 50"
   ]
  },
  {
   "cell_type": "code",
   "execution_count": null,
   "metadata": {
    "collapsed": true
   },
   "outputs": [],
   "source": []
  }
 ],
 "metadata": {
  "anaconda-cloud": {},
  "kernelspec": {
   "display_name": "Python [corpus-35]",
   "language": "python",
   "name": "Python [corpus-35]"
  },
  "language_info": {
   "codemirror_mode": {
    "name": "ipython",
    "version": 3
   },
   "file_extension": ".py",
   "mimetype": "text/x-python",
   "name": "python",
   "nbconvert_exporter": "python",
   "pygments_lexer": "ipython3",
   "version": "3.5.2"
  }
 },
 "nbformat": 4,
 "nbformat_minor": 1
}
