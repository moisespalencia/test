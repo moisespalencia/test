{
 "cells": [
  {
   "cell_type": "code",
   "execution_count": 22,
   "metadata": {
    "collapsed": false
   },
   "outputs": [],
   "source": [
    "import facebook\n",
    "graph = facebook.GraphAPI(version='2.7')\n",
    "token = graph.get_app_access_token(app_id=\"1789388901276350\", app_secret=\"a37bb243d30a1fd1fcef585447f7d323\")\n",
    "graph = facebook.GraphAPI(access_token=token, version='2.7')\n"
   ]
  },
  {
   "cell_type": "markdown",
   "metadata": {},
   "source": [
    "La idea aqui es obtener todos los videos usando la consulta de facebook \"buzzfeedtasty/videos?fields=description,id&type=uploaded\" que se puede ver en el [explorer console](https://developers.facebook.com/tools/explorer/145634995501895/?method=GET&path=buzzfeedtasty%2Fvideos%3Ffields%3Ddescription%2Cid%26type%3Duploaded&version=v2.7).  \n",
    "Y luego obtener para cada video sus estadisticas usando una consultas como: \n",
    "- \"1804124039840237/reactions?limit=0&summary=true\" que se puede ver en el [explorer console](https://developers.facebook.com/tools/explorer/145634995501895/?method=GET&path=1804124039840237%2Freactions%3Flimit%3D0%26summary%3Dtrue&version=v2.7).  \n",
    "- \"1804124039840237/comments?limit=0&summary=true\" que se puede ver en el [explorer console](https://developers.facebook.com/tools/explorer/145634995501895/?method=GET&path=1804124039840237%2Fcomments%3Flimit%3D0%26summary%3Dtrue&version=v2.7).\n",
    "\n",
    "\n",
    "[Ayuda del Python Facebook-SDK](https://facebook-sdk.readthedocs.io/en/latest/api.html)  \n",
    "[Ayuda del API de Facebook](https://developers.facebook.com/docs/graph-api/using-graph-api)  "
   ]
  },
  {
   "cell_type": "code",
   "execution_count": 23,
   "metadata": {
    "collapsed": false
   },
   "outputs": [],
   "source": [
    "callRes = graph.get_object(id=\"buzzfeedtasty/videos\", fields=\"description,id\", type=\"uploaded\", limit=\"100\")"
   ]
  },
  {
   "cell_type": "code",
   "execution_count": 24,
   "metadata": {
    "collapsed": false
   },
   "outputs": [
    {
     "name": "stdout",
     "output_type": "stream",
     "text": [
      "Una llamada al API de facebook retorna 2 elementos en un diccionario.\n",
      "El diccionario con el resultado siempre incluye los siguientes dos elementos: dict_keys(['paging', 'data'])\n"
     ]
    }
   ],
   "source": [
    "print(\"Una llamada al API de facebook retorna \" + str(len(callRes)) + \" elementos en un diccionario.\")\n",
    "print(\"El diccionario con el resultado siempre incluye los siguientes dos elementos: \" + str(callRes.keys()))"
   ]
  },
  {
   "cell_type": "code",
   "execution_count": 25,
   "metadata": {
    "collapsed": false
   },
   "outputs": [
    {
     "name": "stdout",
     "output_type": "stream",
     "text": [
      "El elemento Data del diccionario incluye los videos. La cantidad de videos obtenido en este caso son : 100\n",
      "El otro elemento del diccionario llamado Paging, incluye lo necesario para obtener otra pagina de resultados.\n"
     ]
    }
   ],
   "source": [
    "print(\"El elemento Data del diccionario incluye los videos. La cantidad de videos obtenido en este caso son : \" + str(len(callRes[\"data\"])))\n",
    "print(\"El otro elemento del diccionario llamado Paging, incluye lo necesario para obtener otra pagina de resultados.\")\n",
    "videos = callRes[\"data\"]"
   ]
  },
  {
   "cell_type": "code",
   "execution_count": 26,
   "metadata": {
    "collapsed": false
   },
   "outputs": [
    {
     "name": "stdout",
     "output_type": "stream",
     "text": [
      "https://graph.facebook.com/v2.7/1614251518827491/videos?access_token=1789388901276350%7C_F3ObrI9Aoq0IPjQd6Br5LzUZzo&fields=description%2Cid&type=uploaded&limit=100&after=MTc4NDc5NDM3NTEwNjUzNwZDZD\n",
      "MTc4NDc5NDM3NTEwNjUzNwZDZD\n"
     ]
    }
   ],
   "source": [
    "print(callRes[\"paging\"][\"next\"])\n",
    "print(callRes[\"paging\"][\"cursors\"][\"after\"])"
   ]
  },
  {
   "cell_type": "code",
   "execution_count": 27,
   "metadata": {
    "collapsed": true
   },
   "outputs": [],
   "source": [
    "callRes = graph.get_object(id=\"buzzfeedtasty/videos\", fields=\"description,id\", type=\"uploaded\", limit=\"100\", after=callRes[\"paging\"][\"cursors\"][\"after\"])"
   ]
  },
  {
   "cell_type": "code",
   "execution_count": 28,
   "metadata": {
    "collapsed": false
   },
   "outputs": [
    {
     "name": "stdout",
     "output_type": "stream",
     "text": [
      "El elemento Data del diccionario incluye los videos. La cantidad de videos obtenido en este caso son : 100\n",
      "MTc2MjU5MDI3Mzk5MzYxNAZDZD\n"
     ]
    }
   ],
   "source": [
    "print(\"El elemento Data del diccionario incluye los videos. La cantidad de videos obtenido en este caso son : \" + str(len(callRes[\"data\"])))\n",
    "videos = videos + callRes[\"data\"]\n",
    "print(callRes[\"paging\"][\"cursors\"][\"after\"])"
   ]
  },
  {
   "cell_type": "code",
   "execution_count": 29,
   "metadata": {
    "collapsed": false
   },
   "outputs": [
    {
     "name": "stdout",
     "output_type": "stream",
     "text": [
      "La cantidad de total de videos obtenido son : 795\n"
     ]
    }
   ],
   "source": [
    "while \"paging\" in callRes.keys():\n",
    "    after = callRes[\"paging\"][\"cursors\"][\"after\"]\n",
    "    callRes = graph.get_object(id=\"buzzfeedtasty/videos\", fields=\"description,id\", type=\"uploaded\", limit=\"100\", after=after)\n",
    "    videos = videos + callRes[\"data\"]\n",
    "print(\"La cantidad de total de videos obtenido son : \" + str(len(videos)))"
   ]
  },
  {
   "cell_type": "code",
   "execution_count": 30,
   "metadata": {
    "collapsed": false
   },
   "outputs": [
    {
     "name": "stdout",
     "output_type": "stream",
     "text": [
      "La cantidad de total de videos con reacciones : 795\n"
     ]
    }
   ],
   "source": [
    "videosYReac = []\n",
    "for v in videos:\n",
    "    vCopy = v.copy()\n",
    "    id = vCopy[\"id\"] + \"/reactions\"\n",
    "    callRes = graph.get_object(id=id, limit=\"0\", summary=\"true\")\n",
    "    vCopy[\"reactions\"] = callRes[\"summary\"][\"total_count\"]\n",
    "    videosYReac.append(vCopy)\n",
    "print(\"La cantidad de total de videos con reacciones : \" + str(len(videosYReac)))"
   ]
  },
  {
   "cell_type": "code",
   "execution_count": 32,
   "metadata": {
    "collapsed": false
   },
   "outputs": [
    {
     "ename": "SSLError",
     "evalue": "hostname 'graph.facebook.com' doesn't match either of 'api.itunes.apple.com', 'ax.init.itunes.apple.com', 'bookkeeper.itunes.apple.com', 'c.itunes.apple.com', 'client-api.itunes.apple.com', 'du.itunes.apple.com', 'dzc.itunes.apple.com', 'feeds.itunes.apple.com', 'files.itunes.apple.com', 'genius-2.itunes.apple.com', 'genius-download-2.itunes.apple.com', 'genius-download.itunes.apple.com', 'genius-upload-2.itunes.apple.com', 'genius-upload.itunes.apple.com', 'genius.itunes.apple.com', 'init.itunes.apple.com', 'itunes.apple.com', 'itunesu.itunes.apple.com', 'ld-1.itunes.apple.com', 'ld-2.itunes.apple.com', 'ld-3.itunes.apple.com', 'ld-4.itunes.apple.com', 'ld-5.itunes.apple.com', 'ld-6.itunes.apple.com', 'ld-7.itunes.apple.com', 'ld-8.itunes.apple.com', 'ld-nk11.itunes.apple.com', 'ld-st11.itunes.apple.com', 'my.itunes.apple.com', 'myapp.itunes.apple.com', 'p1-u.itunes.apple.com', 'p2-u.itunes.apple.com', 'partiality.itunes.apple.com', 'pd-nk.itunes.apple.com', 'pd-st.itunes.apple.com', 'ping.itunes.apple.com', 's.itunes.apple.com', 's.mzstatic.com', 'sc.itunes.apple.com', 'se.itunes.apple.com', 'search.itunes.apple.com', 'sidebar.itunes.apple.com', 'sitemanager.itunes.apple.com', 'sp.itunes.apple.com', 'static.itunes.apple.com', 'su.itunes.apple.com', 'upp.itunes.apple.com', 'userprofile.itunes.apple.com', 'userpub.itunes.apple.com', 'vocabulary.itunes.apple.com', 'volume.itunes.apple.com', 'vpp.itunes.apple.com', 'itun.es', 'macappsto.re', 'mzsupport.apple.com', 'appsto.re', 'homesharing.itunes.apple.com', 'play.itunes.apple.com', 'tl.itunes.apple.com', 'tl-activity.itunes.apple.com', 'tl-services.itunes.apple.com', 'storepreview.apple.com', 'storepreview.itunes.apple.com', 'ns.itunes.apple.com', 'edge-search.itunes.apple.com', 'sitemaps.itunes.apple.com', 'se2.itunes.apple.com', 'embed.itunes.apple.com', 'sync.itunes.apple.com', 'uts-api.itunes.apple.com', 'pcr.apple.com'",
     "output_type": "error",
     "traceback": [
      "\u001b[0;31m---------------------------------------------------------------------------\u001b[0m",
      "\u001b[0;31mCertificateError\u001b[0m                          Traceback (most recent call last)",
      "\u001b[0;32m/Users/Edilmo/anaconda/envs/test35/lib/python3.5/site-packages/requests/packages/urllib3/connectionpool.py\u001b[0m in \u001b[0;36murlopen\u001b[0;34m(self, method, url, body, headers, retries, redirect, assert_same_host, timeout, pool_timeout, release_conn, chunked, **response_kw)\u001b[0m\n\u001b[1;32m    594\u001b[0m                                                   \u001b[0mbody\u001b[0m\u001b[0;34m=\u001b[0m\u001b[0mbody\u001b[0m\u001b[0;34m,\u001b[0m \u001b[0mheaders\u001b[0m\u001b[0;34m=\u001b[0m\u001b[0mheaders\u001b[0m\u001b[0;34m,\u001b[0m\u001b[0;34m\u001b[0m\u001b[0m\n\u001b[0;32m--> 595\u001b[0;31m                                                   chunked=chunked)\n\u001b[0m\u001b[1;32m    596\u001b[0m \u001b[0;34m\u001b[0m\u001b[0m\n",
      "\u001b[0;32m/Users/Edilmo/anaconda/envs/test35/lib/python3.5/site-packages/requests/packages/urllib3/connectionpool.py\u001b[0m in \u001b[0;36m_make_request\u001b[0;34m(self, conn, method, url, timeout, chunked, **httplib_request_kw)\u001b[0m\n\u001b[1;32m    351\u001b[0m         \u001b[0;32mtry\u001b[0m\u001b[0;34m:\u001b[0m\u001b[0;34m\u001b[0m\u001b[0m\n\u001b[0;32m--> 352\u001b[0;31m             \u001b[0mself\u001b[0m\u001b[0;34m.\u001b[0m\u001b[0m_validate_conn\u001b[0m\u001b[0;34m(\u001b[0m\u001b[0mconn\u001b[0m\u001b[0;34m)\u001b[0m\u001b[0;34m\u001b[0m\u001b[0m\n\u001b[0m\u001b[1;32m    353\u001b[0m         \u001b[0;32mexcept\u001b[0m \u001b[0;34m(\u001b[0m\u001b[0mSocketTimeout\u001b[0m\u001b[0;34m,\u001b[0m \u001b[0mBaseSSLError\u001b[0m\u001b[0;34m)\u001b[0m \u001b[0;32mas\u001b[0m \u001b[0me\u001b[0m\u001b[0;34m:\u001b[0m\u001b[0;34m\u001b[0m\u001b[0m\n",
      "\u001b[0;32m/Users/Edilmo/anaconda/envs/test35/lib/python3.5/site-packages/requests/packages/urllib3/connectionpool.py\u001b[0m in \u001b[0;36m_validate_conn\u001b[0;34m(self, conn)\u001b[0m\n\u001b[1;32m    830\u001b[0m         \u001b[0;32mif\u001b[0m \u001b[0;32mnot\u001b[0m \u001b[0mgetattr\u001b[0m\u001b[0;34m(\u001b[0m\u001b[0mconn\u001b[0m\u001b[0;34m,\u001b[0m \u001b[0;34m'sock'\u001b[0m\u001b[0;34m,\u001b[0m \u001b[0;32mNone\u001b[0m\u001b[0;34m)\u001b[0m\u001b[0;34m:\u001b[0m  \u001b[0;31m# AppEngine might not have  `.sock`\u001b[0m\u001b[0;34m\u001b[0m\u001b[0m\n\u001b[0;32m--> 831\u001b[0;31m             \u001b[0mconn\u001b[0m\u001b[0;34m.\u001b[0m\u001b[0mconnect\u001b[0m\u001b[0;34m(\u001b[0m\u001b[0;34m)\u001b[0m\u001b[0;34m\u001b[0m\u001b[0m\n\u001b[0m\u001b[1;32m    832\u001b[0m \u001b[0;34m\u001b[0m\u001b[0m\n",
      "\u001b[0;32m/Users/Edilmo/anaconda/envs/test35/lib/python3.5/site-packages/requests/packages/urllib3/connection.py\u001b[0m in \u001b[0;36mconnect\u001b[0;34m(self)\u001b[0m\n\u001b[1;32m    304\u001b[0m                 )\n\u001b[0;32m--> 305\u001b[0;31m             \u001b[0m_match_hostname\u001b[0m\u001b[0;34m(\u001b[0m\u001b[0mcert\u001b[0m\u001b[0;34m,\u001b[0m \u001b[0mself\u001b[0m\u001b[0;34m.\u001b[0m\u001b[0massert_hostname\u001b[0m \u001b[0;32mor\u001b[0m \u001b[0mhostname\u001b[0m\u001b[0;34m)\u001b[0m\u001b[0;34m\u001b[0m\u001b[0m\n\u001b[0m\u001b[1;32m    306\u001b[0m \u001b[0;34m\u001b[0m\u001b[0m\n",
      "\u001b[0;32m/Users/Edilmo/anaconda/envs/test35/lib/python3.5/site-packages/requests/packages/urllib3/connection.py\u001b[0m in \u001b[0;36m_match_hostname\u001b[0;34m(cert, asserted_hostname)\u001b[0m\n\u001b[1;32m    312\u001b[0m     \u001b[0;32mtry\u001b[0m\u001b[0;34m:\u001b[0m\u001b[0;34m\u001b[0m\u001b[0m\n\u001b[0;32m--> 313\u001b[0;31m         \u001b[0mmatch_hostname\u001b[0m\u001b[0;34m(\u001b[0m\u001b[0mcert\u001b[0m\u001b[0;34m,\u001b[0m \u001b[0masserted_hostname\u001b[0m\u001b[0;34m)\u001b[0m\u001b[0;34m\u001b[0m\u001b[0m\n\u001b[0m\u001b[1;32m    314\u001b[0m     \u001b[0;32mexcept\u001b[0m \u001b[0mCertificateError\u001b[0m \u001b[0;32mas\u001b[0m \u001b[0me\u001b[0m\u001b[0;34m:\u001b[0m\u001b[0;34m\u001b[0m\u001b[0m\n",
      "\u001b[0;32m/Users/Edilmo/anaconda/envs/test35/lib/python3.5/ssl.py\u001b[0m in \u001b[0;36mmatch_hostname\u001b[0;34m(cert, hostname)\u001b[0m\n\u001b[1;32m    296\u001b[0m             \u001b[0;34m\"doesn't match either of %s\"\u001b[0m\u001b[0;34m\u001b[0m\u001b[0m\n\u001b[0;32m--> 297\u001b[0;31m             % (hostname, ', '.join(map(repr, dnsnames))))\n\u001b[0m\u001b[1;32m    298\u001b[0m     \u001b[0;32melif\u001b[0m \u001b[0mlen\u001b[0m\u001b[0;34m(\u001b[0m\u001b[0mdnsnames\u001b[0m\u001b[0;34m)\u001b[0m \u001b[0;34m==\u001b[0m \u001b[0;36m1\u001b[0m\u001b[0;34m:\u001b[0m\u001b[0;34m\u001b[0m\u001b[0m\n",
      "\u001b[0;31mCertificateError\u001b[0m: hostname 'graph.facebook.com' doesn't match either of 'api.itunes.apple.com', 'ax.init.itunes.apple.com', 'bookkeeper.itunes.apple.com', 'c.itunes.apple.com', 'client-api.itunes.apple.com', 'du.itunes.apple.com', 'dzc.itunes.apple.com', 'feeds.itunes.apple.com', 'files.itunes.apple.com', 'genius-2.itunes.apple.com', 'genius-download-2.itunes.apple.com', 'genius-download.itunes.apple.com', 'genius-upload-2.itunes.apple.com', 'genius-upload.itunes.apple.com', 'genius.itunes.apple.com', 'init.itunes.apple.com', 'itunes.apple.com', 'itunesu.itunes.apple.com', 'ld-1.itunes.apple.com', 'ld-2.itunes.apple.com', 'ld-3.itunes.apple.com', 'ld-4.itunes.apple.com', 'ld-5.itunes.apple.com', 'ld-6.itunes.apple.com', 'ld-7.itunes.apple.com', 'ld-8.itunes.apple.com', 'ld-nk11.itunes.apple.com', 'ld-st11.itunes.apple.com', 'my.itunes.apple.com', 'myapp.itunes.apple.com', 'p1-u.itunes.apple.com', 'p2-u.itunes.apple.com', 'partiality.itunes.apple.com', 'pd-nk.itunes.apple.com', 'pd-st.itunes.apple.com', 'ping.itunes.apple.com', 's.itunes.apple.com', 's.mzstatic.com', 'sc.itunes.apple.com', 'se.itunes.apple.com', 'search.itunes.apple.com', 'sidebar.itunes.apple.com', 'sitemanager.itunes.apple.com', 'sp.itunes.apple.com', 'static.itunes.apple.com', 'su.itunes.apple.com', 'upp.itunes.apple.com', 'userprofile.itunes.apple.com', 'userpub.itunes.apple.com', 'vocabulary.itunes.apple.com', 'volume.itunes.apple.com', 'vpp.itunes.apple.com', 'itun.es', 'macappsto.re', 'mzsupport.apple.com', 'appsto.re', 'homesharing.itunes.apple.com', 'play.itunes.apple.com', 'tl.itunes.apple.com', 'tl-activity.itunes.apple.com', 'tl-services.itunes.apple.com', 'storepreview.apple.com', 'storepreview.itunes.apple.com', 'ns.itunes.apple.com', 'edge-search.itunes.apple.com', 'sitemaps.itunes.apple.com', 'se2.itunes.apple.com', 'embed.itunes.apple.com', 'sync.itunes.apple.com', 'uts-api.itunes.apple.com', 'pcr.apple.com'",
      "\nDuring handling of the above exception, another exception occurred:\n",
      "\u001b[0;31mSSLError\u001b[0m                                  Traceback (most recent call last)",
      "\u001b[0;32m/Users/Edilmo/anaconda/envs/test35/lib/python3.5/site-packages/requests/adapters.py\u001b[0m in \u001b[0;36msend\u001b[0;34m(self, request, stream, timeout, verify, cert, proxies)\u001b[0m\n\u001b[1;32m    422\u001b[0m                     \u001b[0mretries\u001b[0m\u001b[0;34m=\u001b[0m\u001b[0mself\u001b[0m\u001b[0;34m.\u001b[0m\u001b[0mmax_retries\u001b[0m\u001b[0;34m,\u001b[0m\u001b[0;34m\u001b[0m\u001b[0m\n\u001b[0;32m--> 423\u001b[0;31m                     \u001b[0mtimeout\u001b[0m\u001b[0;34m=\u001b[0m\u001b[0mtimeout\u001b[0m\u001b[0;34m\u001b[0m\u001b[0m\n\u001b[0m\u001b[1;32m    424\u001b[0m                 )\n",
      "\u001b[0;32m/Users/Edilmo/anaconda/envs/test35/lib/python3.5/site-packages/requests/packages/urllib3/connectionpool.py\u001b[0m in \u001b[0;36murlopen\u001b[0;34m(self, method, url, body, headers, retries, redirect, assert_same_host, timeout, pool_timeout, release_conn, chunked, **response_kw)\u001b[0m\n\u001b[1;32m    620\u001b[0m             \u001b[0mclean_exit\u001b[0m \u001b[0;34m=\u001b[0m \u001b[0;32mFalse\u001b[0m\u001b[0;34m\u001b[0m\u001b[0m\n\u001b[0;32m--> 621\u001b[0;31m             \u001b[0;32mraise\u001b[0m \u001b[0mSSLError\u001b[0m\u001b[0;34m(\u001b[0m\u001b[0me\u001b[0m\u001b[0;34m)\u001b[0m\u001b[0;34m\u001b[0m\u001b[0m\n\u001b[0m\u001b[1;32m    622\u001b[0m \u001b[0;34m\u001b[0m\u001b[0m\n",
      "\u001b[0;31mSSLError\u001b[0m: hostname 'graph.facebook.com' doesn't match either of 'api.itunes.apple.com', 'ax.init.itunes.apple.com', 'bookkeeper.itunes.apple.com', 'c.itunes.apple.com', 'client-api.itunes.apple.com', 'du.itunes.apple.com', 'dzc.itunes.apple.com', 'feeds.itunes.apple.com', 'files.itunes.apple.com', 'genius-2.itunes.apple.com', 'genius-download-2.itunes.apple.com', 'genius-download.itunes.apple.com', 'genius-upload-2.itunes.apple.com', 'genius-upload.itunes.apple.com', 'genius.itunes.apple.com', 'init.itunes.apple.com', 'itunes.apple.com', 'itunesu.itunes.apple.com', 'ld-1.itunes.apple.com', 'ld-2.itunes.apple.com', 'ld-3.itunes.apple.com', 'ld-4.itunes.apple.com', 'ld-5.itunes.apple.com', 'ld-6.itunes.apple.com', 'ld-7.itunes.apple.com', 'ld-8.itunes.apple.com', 'ld-nk11.itunes.apple.com', 'ld-st11.itunes.apple.com', 'my.itunes.apple.com', 'myapp.itunes.apple.com', 'p1-u.itunes.apple.com', 'p2-u.itunes.apple.com', 'partiality.itunes.apple.com', 'pd-nk.itunes.apple.com', 'pd-st.itunes.apple.com', 'ping.itunes.apple.com', 's.itunes.apple.com', 's.mzstatic.com', 'sc.itunes.apple.com', 'se.itunes.apple.com', 'search.itunes.apple.com', 'sidebar.itunes.apple.com', 'sitemanager.itunes.apple.com', 'sp.itunes.apple.com', 'static.itunes.apple.com', 'su.itunes.apple.com', 'upp.itunes.apple.com', 'userprofile.itunes.apple.com', 'userpub.itunes.apple.com', 'vocabulary.itunes.apple.com', 'volume.itunes.apple.com', 'vpp.itunes.apple.com', 'itun.es', 'macappsto.re', 'mzsupport.apple.com', 'appsto.re', 'homesharing.itunes.apple.com', 'play.itunes.apple.com', 'tl.itunes.apple.com', 'tl-activity.itunes.apple.com', 'tl-services.itunes.apple.com', 'storepreview.apple.com', 'storepreview.itunes.apple.com', 'ns.itunes.apple.com', 'edge-search.itunes.apple.com', 'sitemaps.itunes.apple.com', 'se2.itunes.apple.com', 'embed.itunes.apple.com', 'sync.itunes.apple.com', 'uts-api.itunes.apple.com', 'pcr.apple.com'",
      "\nDuring handling of the above exception, another exception occurred:\n",
      "\u001b[0;31mSSLError\u001b[0m                                  Traceback (most recent call last)",
      "\u001b[0;32m<ipython-input-32-2b23525d15bc>\u001b[0m in \u001b[0;36m<module>\u001b[0;34m()\u001b[0m\n\u001b[1;32m      3\u001b[0m     \u001b[0mvCopy\u001b[0m \u001b[0;34m=\u001b[0m \u001b[0mv\u001b[0m\u001b[0;34m.\u001b[0m\u001b[0mcopy\u001b[0m\u001b[0;34m(\u001b[0m\u001b[0;34m)\u001b[0m\u001b[0;34m\u001b[0m\u001b[0m\n\u001b[1;32m      4\u001b[0m     \u001b[0mid\u001b[0m \u001b[0;34m=\u001b[0m \u001b[0mvCopy\u001b[0m\u001b[0;34m[\u001b[0m\u001b[0;34m\"id\"\u001b[0m\u001b[0;34m]\u001b[0m \u001b[0;34m+\u001b[0m \u001b[0;34m\"/comments\"\u001b[0m\u001b[0;34m\u001b[0m\u001b[0m\n\u001b[0;32m----> 5\u001b[0;31m     \u001b[0mcallRes\u001b[0m \u001b[0;34m=\u001b[0m \u001b[0mgraph\u001b[0m\u001b[0;34m.\u001b[0m\u001b[0mget_object\u001b[0m\u001b[0;34m(\u001b[0m\u001b[0mid\u001b[0m\u001b[0;34m=\u001b[0m\u001b[0mid\u001b[0m\u001b[0;34m,\u001b[0m \u001b[0mlimit\u001b[0m\u001b[0;34m=\u001b[0m\u001b[0;34m\"0\"\u001b[0m\u001b[0;34m,\u001b[0m \u001b[0msummary\u001b[0m\u001b[0;34m=\u001b[0m\u001b[0;34m\"true\"\u001b[0m\u001b[0;34m)\u001b[0m\u001b[0;34m\u001b[0m\u001b[0m\n\u001b[0m\u001b[1;32m      6\u001b[0m     \u001b[0mvCopy\u001b[0m\u001b[0;34m[\u001b[0m\u001b[0;34m\"comments\"\u001b[0m\u001b[0;34m]\u001b[0m \u001b[0;34m=\u001b[0m \u001b[0mcallRes\u001b[0m\u001b[0;34m[\u001b[0m\u001b[0;34m\"summary\"\u001b[0m\u001b[0;34m]\u001b[0m\u001b[0;34m[\u001b[0m\u001b[0;34m\"total_count\"\u001b[0m\u001b[0;34m]\u001b[0m\u001b[0;34m\u001b[0m\u001b[0m\n\u001b[1;32m      7\u001b[0m     \u001b[0mvideosYEstad\u001b[0m\u001b[0;34m.\u001b[0m\u001b[0mappend\u001b[0m\u001b[0;34m(\u001b[0m\u001b[0mvCopy\u001b[0m\u001b[0;34m)\u001b[0m\u001b[0;34m\u001b[0m\u001b[0m\n",
      "\u001b[0;32m/Users/Edilmo/anaconda/envs/test35/lib/python3.5/site-packages/facebook/__init__.py\u001b[0m in \u001b[0;36mget_object\u001b[0;34m(self, id, **args)\u001b[0m\n\u001b[1;32m    103\u001b[0m     \u001b[0;32mdef\u001b[0m \u001b[0mget_object\u001b[0m\u001b[0;34m(\u001b[0m\u001b[0mself\u001b[0m\u001b[0;34m,\u001b[0m \u001b[0mid\u001b[0m\u001b[0;34m,\u001b[0m \u001b[0;34m**\u001b[0m\u001b[0margs\u001b[0m\u001b[0;34m)\u001b[0m\u001b[0;34m:\u001b[0m\u001b[0;34m\u001b[0m\u001b[0m\n\u001b[1;32m    104\u001b[0m         \u001b[0;34m\"\"\"Fetches the given object from the graph.\"\"\"\u001b[0m\u001b[0;34m\u001b[0m\u001b[0m\n\u001b[0;32m--> 105\u001b[0;31m         \u001b[0;32mreturn\u001b[0m \u001b[0mself\u001b[0m\u001b[0;34m.\u001b[0m\u001b[0mrequest\u001b[0m\u001b[0;34m(\u001b[0m\u001b[0mself\u001b[0m\u001b[0;34m.\u001b[0m\u001b[0mversion\u001b[0m \u001b[0;34m+\u001b[0m \u001b[0;34m\"/\"\u001b[0m \u001b[0;34m+\u001b[0m \u001b[0mid\u001b[0m\u001b[0;34m,\u001b[0m \u001b[0margs\u001b[0m\u001b[0;34m)\u001b[0m\u001b[0;34m\u001b[0m\u001b[0m\n\u001b[0m\u001b[1;32m    106\u001b[0m \u001b[0;34m\u001b[0m\u001b[0m\n\u001b[1;32m    107\u001b[0m     \u001b[0;32mdef\u001b[0m \u001b[0mget_objects\u001b[0m\u001b[0;34m(\u001b[0m\u001b[0mself\u001b[0m\u001b[0;34m,\u001b[0m \u001b[0mids\u001b[0m\u001b[0;34m,\u001b[0m \u001b[0;34m**\u001b[0m\u001b[0margs\u001b[0m\u001b[0;34m)\u001b[0m\u001b[0;34m:\u001b[0m\u001b[0;34m\u001b[0m\u001b[0m\n",
      "\u001b[0;32m/Users/Edilmo/anaconda/envs/test35/lib/python3.5/site-packages/facebook/__init__.py\u001b[0m in \u001b[0;36mrequest\u001b[0;34m(self, path, args, post_args, files, method)\u001b[0m\n\u001b[1;32m    245\u001b[0m                                         \u001b[0mdata\u001b[0m\u001b[0;34m=\u001b[0m\u001b[0mpost_args\u001b[0m\u001b[0;34m,\u001b[0m\u001b[0;34m\u001b[0m\u001b[0m\n\u001b[1;32m    246\u001b[0m                                         \u001b[0mproxies\u001b[0m\u001b[0;34m=\u001b[0m\u001b[0mself\u001b[0m\u001b[0;34m.\u001b[0m\u001b[0mproxies\u001b[0m\u001b[0;34m,\u001b[0m\u001b[0;34m\u001b[0m\u001b[0m\n\u001b[0;32m--> 247\u001b[0;31m                                         files=files)\n\u001b[0m\u001b[1;32m    248\u001b[0m         \u001b[0;32mexcept\u001b[0m \u001b[0mrequests\u001b[0m\u001b[0;34m.\u001b[0m\u001b[0mHTTPError\u001b[0m \u001b[0;32mas\u001b[0m \u001b[0me\u001b[0m\u001b[0;34m:\u001b[0m\u001b[0;34m\u001b[0m\u001b[0m\n\u001b[1;32m    249\u001b[0m             \u001b[0mresponse\u001b[0m \u001b[0;34m=\u001b[0m \u001b[0mjson\u001b[0m\u001b[0;34m.\u001b[0m\u001b[0mloads\u001b[0m\u001b[0;34m(\u001b[0m\u001b[0me\u001b[0m\u001b[0;34m.\u001b[0m\u001b[0mread\u001b[0m\u001b[0;34m(\u001b[0m\u001b[0;34m)\u001b[0m\u001b[0;34m)\u001b[0m\u001b[0;34m\u001b[0m\u001b[0m\n",
      "\u001b[0;32m/Users/Edilmo/anaconda/envs/test35/lib/python3.5/site-packages/requests/api.py\u001b[0m in \u001b[0;36mrequest\u001b[0;34m(method, url, **kwargs)\u001b[0m\n\u001b[1;32m     54\u001b[0m     \u001b[0;31m# cases, and look like a memory leak in others.\u001b[0m\u001b[0;34m\u001b[0m\u001b[0;34m\u001b[0m\u001b[0m\n\u001b[1;32m     55\u001b[0m     \u001b[0;32mwith\u001b[0m \u001b[0msessions\u001b[0m\u001b[0;34m.\u001b[0m\u001b[0mSession\u001b[0m\u001b[0;34m(\u001b[0m\u001b[0;34m)\u001b[0m \u001b[0;32mas\u001b[0m \u001b[0msession\u001b[0m\u001b[0;34m:\u001b[0m\u001b[0;34m\u001b[0m\u001b[0m\n\u001b[0;32m---> 56\u001b[0;31m         \u001b[0;32mreturn\u001b[0m \u001b[0msession\u001b[0m\u001b[0;34m.\u001b[0m\u001b[0mrequest\u001b[0m\u001b[0;34m(\u001b[0m\u001b[0mmethod\u001b[0m\u001b[0;34m=\u001b[0m\u001b[0mmethod\u001b[0m\u001b[0;34m,\u001b[0m \u001b[0murl\u001b[0m\u001b[0;34m=\u001b[0m\u001b[0murl\u001b[0m\u001b[0;34m,\u001b[0m \u001b[0;34m**\u001b[0m\u001b[0mkwargs\u001b[0m\u001b[0;34m)\u001b[0m\u001b[0;34m\u001b[0m\u001b[0m\n\u001b[0m\u001b[1;32m     57\u001b[0m \u001b[0;34m\u001b[0m\u001b[0m\n\u001b[1;32m     58\u001b[0m \u001b[0;34m\u001b[0m\u001b[0m\n",
      "\u001b[0;32m/Users/Edilmo/anaconda/envs/test35/lib/python3.5/site-packages/requests/sessions.py\u001b[0m in \u001b[0;36mrequest\u001b[0;34m(self, method, url, params, data, headers, cookies, files, auth, timeout, allow_redirects, proxies, hooks, stream, verify, cert, json)\u001b[0m\n\u001b[1;32m    473\u001b[0m         }\n\u001b[1;32m    474\u001b[0m         \u001b[0msend_kwargs\u001b[0m\u001b[0;34m.\u001b[0m\u001b[0mupdate\u001b[0m\u001b[0;34m(\u001b[0m\u001b[0msettings\u001b[0m\u001b[0;34m)\u001b[0m\u001b[0;34m\u001b[0m\u001b[0m\n\u001b[0;32m--> 475\u001b[0;31m         \u001b[0mresp\u001b[0m \u001b[0;34m=\u001b[0m \u001b[0mself\u001b[0m\u001b[0;34m.\u001b[0m\u001b[0msend\u001b[0m\u001b[0;34m(\u001b[0m\u001b[0mprep\u001b[0m\u001b[0;34m,\u001b[0m \u001b[0;34m**\u001b[0m\u001b[0msend_kwargs\u001b[0m\u001b[0;34m)\u001b[0m\u001b[0;34m\u001b[0m\u001b[0m\n\u001b[0m\u001b[1;32m    476\u001b[0m \u001b[0;34m\u001b[0m\u001b[0m\n\u001b[1;32m    477\u001b[0m         \u001b[0;32mreturn\u001b[0m \u001b[0mresp\u001b[0m\u001b[0;34m\u001b[0m\u001b[0m\n",
      "\u001b[0;32m/Users/Edilmo/anaconda/envs/test35/lib/python3.5/site-packages/requests/sessions.py\u001b[0m in \u001b[0;36msend\u001b[0;34m(self, request, **kwargs)\u001b[0m\n\u001b[1;32m    594\u001b[0m \u001b[0;34m\u001b[0m\u001b[0m\n\u001b[1;32m    595\u001b[0m         \u001b[0;31m# Send the request\u001b[0m\u001b[0;34m\u001b[0m\u001b[0;34m\u001b[0m\u001b[0m\n\u001b[0;32m--> 596\u001b[0;31m         \u001b[0mr\u001b[0m \u001b[0;34m=\u001b[0m \u001b[0madapter\u001b[0m\u001b[0;34m.\u001b[0m\u001b[0msend\u001b[0m\u001b[0;34m(\u001b[0m\u001b[0mrequest\u001b[0m\u001b[0;34m,\u001b[0m \u001b[0;34m**\u001b[0m\u001b[0mkwargs\u001b[0m\u001b[0;34m)\u001b[0m\u001b[0;34m\u001b[0m\u001b[0m\n\u001b[0m\u001b[1;32m    597\u001b[0m \u001b[0;34m\u001b[0m\u001b[0m\n\u001b[1;32m    598\u001b[0m         \u001b[0;31m# Total elapsed time of the request (approximately)\u001b[0m\u001b[0;34m\u001b[0m\u001b[0;34m\u001b[0m\u001b[0m\n",
      "\u001b[0;32m/Users/Edilmo/anaconda/envs/test35/lib/python3.5/site-packages/requests/adapters.py\u001b[0m in \u001b[0;36msend\u001b[0;34m(self, request, stream, timeout, verify, cert, proxies)\u001b[0m\n\u001b[1;32m    495\u001b[0m         \u001b[0;32mexcept\u001b[0m \u001b[0;34m(\u001b[0m\u001b[0m_SSLError\u001b[0m\u001b[0;34m,\u001b[0m \u001b[0m_HTTPError\u001b[0m\u001b[0;34m)\u001b[0m \u001b[0;32mas\u001b[0m \u001b[0me\u001b[0m\u001b[0;34m:\u001b[0m\u001b[0;34m\u001b[0m\u001b[0m\n\u001b[1;32m    496\u001b[0m             \u001b[0;32mif\u001b[0m \u001b[0misinstance\u001b[0m\u001b[0;34m(\u001b[0m\u001b[0me\u001b[0m\u001b[0;34m,\u001b[0m \u001b[0m_SSLError\u001b[0m\u001b[0;34m)\u001b[0m\u001b[0;34m:\u001b[0m\u001b[0;34m\u001b[0m\u001b[0m\n\u001b[0;32m--> 497\u001b[0;31m                 \u001b[0;32mraise\u001b[0m \u001b[0mSSLError\u001b[0m\u001b[0;34m(\u001b[0m\u001b[0me\u001b[0m\u001b[0;34m,\u001b[0m \u001b[0mrequest\u001b[0m\u001b[0;34m=\u001b[0m\u001b[0mrequest\u001b[0m\u001b[0;34m)\u001b[0m\u001b[0;34m\u001b[0m\u001b[0m\n\u001b[0m\u001b[1;32m    498\u001b[0m             \u001b[0;32melif\u001b[0m \u001b[0misinstance\u001b[0m\u001b[0;34m(\u001b[0m\u001b[0me\u001b[0m\u001b[0;34m,\u001b[0m \u001b[0mReadTimeoutError\u001b[0m\u001b[0;34m)\u001b[0m\u001b[0;34m:\u001b[0m\u001b[0;34m\u001b[0m\u001b[0m\n\u001b[1;32m    499\u001b[0m                 \u001b[0;32mraise\u001b[0m \u001b[0mReadTimeout\u001b[0m\u001b[0;34m(\u001b[0m\u001b[0me\u001b[0m\u001b[0;34m,\u001b[0m \u001b[0mrequest\u001b[0m\u001b[0;34m=\u001b[0m\u001b[0mrequest\u001b[0m\u001b[0;34m)\u001b[0m\u001b[0;34m\u001b[0m\u001b[0m\n",
      "\u001b[0;31mSSLError\u001b[0m: hostname 'graph.facebook.com' doesn't match either of 'api.itunes.apple.com', 'ax.init.itunes.apple.com', 'bookkeeper.itunes.apple.com', 'c.itunes.apple.com', 'client-api.itunes.apple.com', 'du.itunes.apple.com', 'dzc.itunes.apple.com', 'feeds.itunes.apple.com', 'files.itunes.apple.com', 'genius-2.itunes.apple.com', 'genius-download-2.itunes.apple.com', 'genius-download.itunes.apple.com', 'genius-upload-2.itunes.apple.com', 'genius-upload.itunes.apple.com', 'genius.itunes.apple.com', 'init.itunes.apple.com', 'itunes.apple.com', 'itunesu.itunes.apple.com', 'ld-1.itunes.apple.com', 'ld-2.itunes.apple.com', 'ld-3.itunes.apple.com', 'ld-4.itunes.apple.com', 'ld-5.itunes.apple.com', 'ld-6.itunes.apple.com', 'ld-7.itunes.apple.com', 'ld-8.itunes.apple.com', 'ld-nk11.itunes.apple.com', 'ld-st11.itunes.apple.com', 'my.itunes.apple.com', 'myapp.itunes.apple.com', 'p1-u.itunes.apple.com', 'p2-u.itunes.apple.com', 'partiality.itunes.apple.com', 'pd-nk.itunes.apple.com', 'pd-st.itunes.apple.com', 'ping.itunes.apple.com', 's.itunes.apple.com', 's.mzstatic.com', 'sc.itunes.apple.com', 'se.itunes.apple.com', 'search.itunes.apple.com', 'sidebar.itunes.apple.com', 'sitemanager.itunes.apple.com', 'sp.itunes.apple.com', 'static.itunes.apple.com', 'su.itunes.apple.com', 'upp.itunes.apple.com', 'userprofile.itunes.apple.com', 'userpub.itunes.apple.com', 'vocabulary.itunes.apple.com', 'volume.itunes.apple.com', 'vpp.itunes.apple.com', 'itun.es', 'macappsto.re', 'mzsupport.apple.com', 'appsto.re', 'homesharing.itunes.apple.com', 'play.itunes.apple.com', 'tl.itunes.apple.com', 'tl-activity.itunes.apple.com', 'tl-services.itunes.apple.com', 'storepreview.apple.com', 'storepreview.itunes.apple.com', 'ns.itunes.apple.com', 'edge-search.itunes.apple.com', 'sitemaps.itunes.apple.com', 'se2.itunes.apple.com', 'embed.itunes.apple.com', 'sync.itunes.apple.com', 'uts-api.itunes.apple.com', 'pcr.apple.com'"
     ]
    }
   ],
   "source": [
    "videosYEstad = []\n",
    "for v in videosYReac:\n",
    "    vCopy = v.copy()\n",
    "    id = vCopy[\"id\"] + \"/comments\"\n",
    "    callRes = graph.get_object(id=id, limit=\"0\", summary=\"true\")\n",
    "    vCopy[\"comments\"] = callRes[\"summary\"][\"total_count\"]\n",
    "    videosYEstad.append(vCopy)\n",
    "print(\"La cantidad de total de videos con comments : \" + str(len(videosYEstad)))"
   ]
  },
  {
   "cell_type": "code",
   "execution_count": null,
   "metadata": {
    "collapsed": false
   },
   "outputs": [],
   "source": [
    "print(\"Algunas descripciones de ejemplo son: \")\n",
    "for v in videosYEstad[1:7]:\n",
    "    print(\"--> \" + str(v[\"description\"]))"
   ]
  },
  {
   "cell_type": "markdown",
   "metadata": {},
   "source": [
    "Como se puede ver arriba hay videos que no hacen referencia a una receta especifica, o hacen referencia a articulos que incluyen mas de una receta al mismo tiempo. A nosotros nos interesa solo videos que apuntan a una receta espeicifica."
   ]
  },
  {
   "cell_type": "code",
   "execution_count": null,
   "metadata": {
    "collapsed": false
   },
   "outputs": [],
   "source": [
    "import re\n",
    "singleReceiptRE = re.compile('(?P<name>^.+)\\n+(FULL RECIPE: )(?P<link>http://bzfd.it/\\S+)')\n",
    "for v in videosYEstad[1:7]:\n",
    "    result = singleReceiptRE.match(v[\"description\"])\n",
    "    if result != None:\n",
    "        name = result.group(\"name\")\n",
    "        shortLink = result.group(\"link\")\n",
    "        print(\"name = \" + name)\n",
    "        print(\"short link = \" + shortLink)"
   ]
  },
  {
   "cell_type": "code",
   "execution_count": null,
   "metadata": {
    "collapsed": false
   },
   "outputs": [],
   "source": [
    "singleReceiptVideos = []\n",
    "for v in videosYEstad:\n",
    "    result = singleReceiptRE.match(v[\"description\"])\n",
    "    if result != None:\n",
    "        name = result.group(\"name\")\n",
    "        shortLink = result.group(\"link\")\n",
    "        singleReceiptVideos = singleReceiptVideos + [[name, shortLink]]\n",
    "print(\"total de videos con una unica receta: \" + str(len(singleReceiptVideos)))"
   ]
  },
  {
   "cell_type": "code",
   "execution_count": null,
   "metadata": {
    "collapsed": false
   },
   "outputs": [],
   "source": [
    "multipleReceiptRE = re.compile('(?P<name>^.+)\\n+(FULL RECIPES: )(?P<link>http://bzfd.it/\\S+)')\n",
    "for v in videosYEstad[1:7]:\n",
    "    result = multipleReceiptRE.match(v[\"description\"])\n",
    "    if result != None:\n",
    "        name = result.group(\"name\")\n",
    "        shortLink = result.group(\"link\")\n",
    "        print(\"name = \" + name)\n",
    "        print(\"short link = \" + shortLink)"
   ]
  },
  {
   "cell_type": "code",
   "execution_count": null,
   "metadata": {
    "collapsed": false
   },
   "outputs": [],
   "source": [
    "multipleReceiptVideos = []\n",
    "for v in videosYEstad:\n",
    "    result = multipleReceiptRE.match(v[\"description\"])\n",
    "    if result != None:\n",
    "        name = result.group(\"name\")\n",
    "        shortLink = result.group(\"link\")\n",
    "        multipleReceiptVideos = multipleReceiptVideos + [[name, shortLink]]\n",
    "print(\"total de videos con mas de una receta: \" + str(len(multipleReceiptVideos)))"
   ]
  },
  {
   "cell_type": "code",
   "execution_count": 17,
   "metadata": {
    "collapsed": false
   },
   "outputs": [
    {
     "data": {
      "text/plain": [
       "15.9"
      ]
     },
     "execution_count": 17,
     "metadata": {},
     "output_type": "execute_result"
    }
   ],
   "source": [
    "len(videos) / 50"
   ]
  },
  {
   "cell_type": "code",
   "execution_count": null,
   "metadata": {
    "collapsed": true
   },
   "outputs": [],
   "source": []
  }
 ],
 "metadata": {
  "anaconda-cloud": {},
  "kernelspec": {
   "display_name": "Python [conda env:test35]",
   "language": "python",
   "name": "conda-env-test35-py"
  },
  "language_info": {
   "codemirror_mode": {
    "name": "ipython",
    "version": 3
   },
   "file_extension": ".py",
   "mimetype": "text/x-python",
   "name": "python",
   "nbconvert_exporter": "python",
   "pygments_lexer": "ipython3",
   "version": "3.5.2"
  }
 },
 "nbformat": 4,
 "nbformat_minor": 1
}
