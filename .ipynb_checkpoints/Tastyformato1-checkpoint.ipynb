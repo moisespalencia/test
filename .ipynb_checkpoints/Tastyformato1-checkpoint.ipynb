{
 "cells": [
  {
   "cell_type": "code",
   "execution_count": 27,
   "metadata": {
    "collapsed": true
   },
   "outputs": [],
   "source": [
    "from bs4 import BeautifulSoup\n",
    "from lxml import html\n",
    "import urllib.request as Request\n",
    "# Paginas ejemplo del formato 1\n",
    "#pagString = Request.urlopen(\"https://www.buzzfeed.com/robertbroadfoot/chicken-penne?bffbtasty&ref=bffbtasty&utm_term=.rdxzWraP4#.ysel2zbZ1\").read()\n",
    "#pagString = Request.urlopen(\"https://www.buzzfeed.com/alixtraeger/this-chocolate-chip-banana-monkey-bread-will-change-your-lif?bffbtasty&ref=bffbtasty&utm_term=.eg2OMN7Bv#.daaRkpKY6\").read()\n",
    "#pagString = Request.urlopen(\"https://www.buzzfeed.com/robertbroadfoot/youll-definitely-want-to-make-this-chicken-broccoli-mushroom?bffbtasty&ref=bffbtasty&utm_term=4ldradw#4ldradw\").read()\n",
    "#pagString = Request.urlopen('https://www.buzzfeed.com/clairenolan/this-peanut-butter-stuffed-skillet-cookie-is-totally-dessert?bffbtasty&ref=bffbtasty&utm_term=.hha90B2Dy#.nwPm4NGge').read()\n",
    "pagString = Request.urlopen(\"https://www.buzzfeed.com/hannahwilliams/blueberry-peach-slab-pie?bffbtasty&ref=bffbtasty&utm_term=.jvewrXGVE#.smElQ1qL6\").read()\n",
    "# Paginas ejemplo del formato 2\n",
    "#pagString = Request.urlopen(\"https://www.buzzfeed.com/alvinzhou/heres-four-ways-you-can-enjoy-rotini-pasta-this-week-for-lun?bffbtasty&ref=bffbtasty&utm_term=4ldradw#4ldradw\").read()\n"
   ]
  },
  {
   "cell_type": "code",
   "execution_count": 28,
   "metadata": {
    "collapsed": true
   },
   "outputs": [],
   "source": [
    "pagSoup = BeautifulSoup(pagString,\"lxml\")\n",
    "pagLxml = html.fromstring (pagString)"
   ]
  },
  {
   "cell_type": "code",
   "execution_count": 29,
   "metadata": {
    "collapsed": true
   },
   "outputs": [],
   "source": [
    "def getXpath(node):\n",
    "    expath = \"\"\n",
    "    \n",
    "    for parent in node.parents:\n",
    "        expath = parent.name + \"/\" + expath\n",
    "    \n",
    "    expath = expath + node.name\n",
    "    \n",
    "    expath = expath.replace(\"[document]\", \"\")\n",
    "    \n",
    "    return expath\n"
   ]
  },
  {
   "cell_type": "code",
   "execution_count": 30,
   "metadata": {
    "collapsed": false
   },
   "outputs": [
    {
     "name": "stdout",
     "output_type": "stream",
     "text": [
      "El titulo de la receta es:  Blueberry Peach Slab Pie\n"
     ]
    }
   ],
   "source": [
    "nodo1 = pagSoup.find_all(\"h2\", class_=\"subbuzz_name\") [0]\n",
    "node1Path = getXpath(nodo1)\n",
    "titulo = pagLxml.xpath(node1Path + \"/text()\")[0]\n",
    "print(\"El titulo de la receta es: \" + titulo)"
   ]
  },
  {
   "cell_type": "code",
   "execution_count": 32,
   "metadata": {
    "collapsed": false
   },
   "outputs": [
    {
     "name": "stdout",
     "output_type": "stream",
     "text": [
      "2\n",
      "El numero de personas que pueden comer con esta receta es: 4 8-inch refrigerated pie crusts\n",
      "5 cups fresh blueberries\n",
      "¾ cup sugar\n",
      "3 tablespoons cornstarch\n",
      "½ teaspoon cinnamon\n",
      "Pinch of salt\n",
      "1 teaspoon lemon zest\n"
     ]
    }
   ],
   "source": [
    "nodos = pagLxml.xpath ('//div[@class=\"buzz_superlist_item buzz-superlist-item buzz_superlist_item_text buzz-superlist-item-text  buzz_superlist_item_wide   \"]/div[@class=\"solid\"]')\n",
    "print(len(nodos))\n",
    "nodo2 = nodos[0]\n",
    "nodo3 = nodo2.getchildren () [2]\n",
    "numeroPersonas = nodo3.text_content ()\n",
    "print(\"El numero de personas que pueden comer con esta receta es: \" + numeroPersonas)"
   ]
  },
  {
   "cell_type": "code",
   "execution_count": 33,
   "metadata": {
    "collapsed": false
   },
   "outputs": [
    {
     "name": "stdout",
     "output_type": "stream",
     "text": [
      "Servings: 12\n",
      "4 8-inch refrigerated pie crusts\n",
      "5 cups fresh blueberries\n",
      "¾ cup sugar\n",
      "3 tablespoons cornstarch\n",
      "½ teaspoon cinnamon\n",
      "Pinch of salt\n",
      "1 teaspoon lemon zest\n"
     ]
    }
   ],
   "source": [
    "#nodoIngredients= nodo2.getchildren ()[0].getchildren () [2:5]\n",
    "nodoIngredients= nodo2.getchildren () [1:]\n",
    "for ig in nodoIngredients:\n",
    "    print (ig.text_content ())"
   ]
  },
  {
   "cell_type": "code",
   "execution_count": 34,
   "metadata": {
    "collapsed": false
   },
   "outputs": [
    {
     "name": "stdout",
     "output_type": "stream",
     "text": [
      "1. Preheat oven to 400°F/200˚C. ",
      "\n",
      "2. In a bowl, mix the blueberries, sugar, cornstarch, cinnamon, salt, and lemon zest. Set aside.  ",
      "\n",
      "3. On parchment paper, stack 2 pie crusts on top of each other. Roll out to 17 inches by 12 inches. Cut diagonally into strips.  ",
      "\n",
      "4. Roll out another 2 pie crusts. Place in a 15 inch by 10 inch by 1 inch baking sheet. ",
      "\n",
      "5. Spread out blueberry mixture into the crust, then form a lattice top with the pie crust strips.  Tuck the crust inward around the edges, and bake for 35 minutes. ",
      "\n",
      "6. Serve warm with ice cream.  ",
      "\n",
      "7. Enjoy!\n"
     ]
    }
   ],
   "source": [
    "#nodoPreparacion= pagLxml.xpath ('//div[@id=\"superlist_4357222_9628045\"]')[0]\n",
    "#nodoPreparacion= nodoPreparacion.getchildren ()[0].getchildren () [1:3]\n",
    "nodoPreparacion = nodos[1].getchildren () [1:]\n",
    "for prep in nodoPreparacion:\n",
    "    print (prep.text_content ())"
   ]
  },
  {
   "cell_type": "code",
   "execution_count": 35,
   "metadata": {
    "collapsed": false
   },
   "outputs": [
    {
     "name": "stdout",
     "output_type": "stream",
     "text": [
      "1\n",
      "https://img.youtube.com/vi/SCymGU6ueJg/2.jpg\n",
      "{\"video\": {\"size\": \"big\", \"width\":\"625\", \"height\":\"376\", \"url\":\"https://youtube.com/watch?v=SCymGU6ueJg\", \"id\":\"4335584_9470057\", \"length\":\"No image found\", \"published\":\"2016-08-19 13:39:27\"}}\n"
     ]
    }
   ],
   "source": [
    "nodos = pagLxml.xpath ('//div[@class=\"video-embed-big video-embed-area bf_dom\"]')\n",
    "print(str(len(nodos)))\n",
    "#print(dir(nodos[0]))\n",
    "#print(nodos[0].attrib)\n",
    "print(nodos[0].attrib[\"rel:thumb\"])\n",
    "print(nodos[0].attrib[\"rel:bf_bucket_data\"])\n"
   ]
  },
  {
   "cell_type": "code",
   "execution_count": 36,
   "metadata": {
    "collapsed": false
   },
   "outputs": [
    {
     "name": "stdout",
     "output_type": "stream",
     "text": [
      "1\n",
      "https://img.buzzfeed.com/buzzfeed-static/static/2016-08/15/15/asset/buzzfeed-prod-fastlane01/sub-buzz-15034-1471287653-1.jpg?resize=625:781\n"
     ]
    }
   ],
   "source": [
    "nodos = pagLxml.xpath ('//div[@class=\"buzz_superlist_item buzz-superlist-item buzz_superlist_item_image buzz-superlist-item-image  buzz_superlist_item_wide image_hit  \"]/div[@class=\"solid\"]/div[@class=\"sub_buzz_content\"]/img')\n",
    "print(str(len(nodos)))\n",
    "print(nodos[0].attrib[\"rel:bf_image_src\"])"
   ]
  },
  {
   "cell_type": "code",
   "execution_count": null,
   "metadata": {
    "collapsed": true
   },
   "outputs": [],
   "source": []
  }
 ],
 "metadata": {
  "anaconda-cloud": {},
  "kernelspec": {
   "display_name": "Python [conda env:corpus-35]",
   "language": "python",
   "name": "conda-env-corpus-35-py"
  },
  "language_info": {
   "codemirror_mode": {
    "name": "ipython",
    "version": 3
   },
   "file_extension": ".py",
   "mimetype": "text/x-python",
   "name": "python",
   "nbconvert_exporter": "python",
   "pygments_lexer": "ipython3",
   "version": "3.5.2"
  }
 },
 "nbformat": 4,
 "nbformat_minor": 1
}
