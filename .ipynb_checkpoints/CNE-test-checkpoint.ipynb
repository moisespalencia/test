{
 "cells": [
  {
   "cell_type": "code",
   "execution_count": 7,
   "metadata": {
    "collapsed": false
   },
   "outputs": [
    {
     "name": "stdout",
     "output_type": "stream",
     "text": [
      "<!DOCTYPE html PUBLIC \"-//W3C//DTD XHTML 1.0 Strict//EN\" \"http://www.w3.org/TR/xhtml1/DTD/xhtml1-strict.dtd\">\n",
      "<html xmlns=\"http://www.w3.org/1999/xhtml\">\n",
      " <head>\n",
      "  <meta content=\"text/html; charset=utf-8\" http-equiv=\"Content-Type\"/>\n",
      "  <meta content=\" VENEZUELA -  EDO. ARAGUA -  MP. MARIO B IRAGORRY -  PQ. CAÑA DE AZUCAR -  UNIDAD EDUCATIVA NACIONAL PEDRO JOSE MUGUERZA - Mesa : 1\" name=\"description\"/>\n",
      "  <meta content=\"LVG\" name=\"keywords\"/>\n",
      "  <meta content=\"1\" name=\"author\"/>\n",
      "  <title>\n",
      "   Divulgación Elecciones Parlamentarias - 6 de Diciembre de 2015\n",
      "  </title>\n",
      "  <link href=\"../../styles/default/baseTemplate.css\" media=\"all\" rel=\"stylesheet\" type=\"text/css\"/>\n",
      "  <link href=\"../../styles/default/curul.css\" media=\"all\" rel=\"stylesheet\" type=\"text/css\"/>\n",
      "  <link href=\"../../styles/default/thirdparty/tooltipster.css\" rel=\"stylesheet\" type=\"text/css\"/>\n",
      "  <link href=\"../../styles/default/jquery.iviewer.css\" rel=\"stylesheet\"/>\n",
      "  <link href=\"../../styles/default/jquery.thumbs.css\" rel=\"styleshee\n"
     ]
    },
    {
     "name": "stderr",
     "output_type": "stream",
     "text": [
      "/Users/Edilmo/anaconda/envs/test35/lib/python3.5/site-packages/bs4/__init__.py:181: UserWarning: No parser was explicitly specified, so I'm using the best available HTML parser for this system (\"html.parser\"). This usually isn't a problem, but if you run this code on another system, or in a different virtual environment, it may use a different parser and behave differently.\n",
      "\n",
      "The code that caused this warning is on line 184 of the file /Users/Edilmo/anaconda/envs/test35/lib/python3.5/runpy.py. To get rid of this warning, change code that looks like this:\n",
      "\n",
      " BeautifulSoup([your markup])\n",
      "\n",
      "to this:\n",
      "\n",
      " BeautifulSoup([your markup], \"html.parser\")\n",
      "\n",
      "  markup_type=markup_type))\n"
     ]
    }
   ],
   "source": [
    "from bs4 import BeautifulSoup\n",
    "import urllib.request as Request\n",
    "r = Request.urlopen('http://www.cne.gob.ve/resultado_asamblea2015/lvg/8/reg_041302014011.html').read()\n",
    "soup = BeautifulSoup(r)\n",
    "print(soup.prettify()[0:1000])"
   ]
  },
  {
   "cell_type": "code",
   "execution_count": null,
   "metadata": {
    "collapsed": true
   },
   "outputs": [],
   "source": []
  }
 ],
 "metadata": {
  "anaconda-cloud": {},
  "kernelspec": {
   "display_name": "Python [conda env:test35]",
   "language": "python",
   "name": "conda-env-test35-py"
  },
  "language_info": {
   "codemirror_mode": {
    "name": "ipython",
    "version": 3
   },
   "file_extension": ".py",
   "mimetype": "text/x-python",
   "name": "python",
   "nbconvert_exporter": "python",
   "pygments_lexer": "ipython3",
   "version": "3.5.2"
  }
 },
 "nbformat": 4,
 "nbformat_minor": 1
}
