{
 "cells": [
  {
   "cell_type": "code",
   "execution_count": 41,
   "metadata": {
    "collapsed": true
   },
   "outputs": [],
   "source": [
    "from bs4 import BeautifulSoup\n",
    "from lxml import html\n",
    "import urllib.request as Request\n",
    "#url = \"http://www.starbucks.com/menu/drinks/espresso/cappuccino?foodZone=9999\"\n",
    "url = \"http://www.starbucks.com/menu/food/sandwiches-panini-and-wraps/italian-style-ham-spicy-salami?foodZone=9999\"\n",
    "pagString = Request.urlopen(url).read()\n"
   ]
  },
  {
   "cell_type": "code",
   "execution_count": 42,
   "metadata": {
    "collapsed": true
   },
   "outputs": [],
   "source": [
    "pagSoup = BeautifulSoup(pagString,\"lxml\")\n",
    "pagLxml = html.fromstring (pagString)"
   ]
  },
  {
   "cell_type": "code",
   "execution_count": 43,
   "metadata": {
    "collapsed": false
   },
   "outputs": [
    {
     "name": "stdout",
     "output_type": "stream",
     "text": [
      "Italian-Style Ham & Spicy Salami\n"
     ]
    }
   ],
   "source": [
    "#titulo\n",
    "nodos = pagLxml.xpath('//div[@class=\"container main_content\"]/div[@class=\"fields\"]/h1[@class]')\n",
    "print(nodos[0].text_content ())"
   ]
  },
  {
   "cell_type": "code",
   "execution_count": 44,
   "metadata": {
    "collapsed": false
   },
   "outputs": [
    {
     "name": "stdout",
     "output_type": "stream",
     "text": [
      "Slow-roasted ham, Calabrese salami, spicy pickled red peppers, aged provolone and olive spread are layered on a toasted Ciabatta roll. Buon Appetito.\n"
     ]
    }
   ],
   "source": [
    "#descripcion\n",
    "nodos = pagLxml.xpath('//div[@class]/div[@class=\"region size2of3\"]/h2')\n",
    "print(nodos[0].text_content ())"
   ]
  },
  {
   "cell_type": "code",
   "execution_count": 48,
   "metadata": {
    "collapsed": false
   },
   "outputs": [
    {
     "name": "stdout",
     "output_type": "stream",
     "text": [
      "ciabatta roll (enriched organic wheat flour [wheat flour, niacin, reduced iron, thiamine mononitrate, riboflavin, folic acid], water, sea salt, yeast, olive oil, durum wheat semolina, malted barley), red pepper prosciutto cotto (pork, water, sea salt, natural flavors, sugar, paprika, spices), aged provolone cheese (pasteurized cultured milk, salt, enzymes), sweet hot peppers (peppers, water, vinegar, sugar, maple syrup, garlic, fennel seed, salt, calcium chloride), spicy black olive tapenade (kalamata olives [water, sea salt, olive oil], cream cheese [pasteurized cultured milk and cream, salt, stabilizers {xanthan, carob bean, guar gums}], olive oil, unsalted butter [cream {milk}], parmesan and romano cheese blend [pasteurized part skim milk, cheese cultures, salt, enzymes], garlic, roasted red bell peppers, dried tomatoes, serrano peppers, lemon juice concentrate, herbs, chipotle pepper powder), calabrese italian salami (pork, salt, organic spices, natural flavors, sugar, organic garlic, starter cultures [in collagen casing]).\n"
     ]
    }
   ],
   "source": [
    "#ingredientes\n",
    "nodos = pagLxml.xpath('//div[@class=\"region size2of3\"]/div[@id]')\n",
    "ingredientes = nodos[0].text_content ()\n",
    "x = ingredientes.replace(\"Ingredients\",\"\").strip ()\n",
    "print(x)"
   ]
  },
  {
   "cell_type": "code",
   "execution_count": 46,
   "metadata": {
    "collapsed": false
   },
   "outputs": [
    {
     "name": "stdout",
     "output_type": "stream",
     "text": [
      "Calories 480\n"
     ]
    }
   ],
   "source": [
    "#calorias\n",
    "nodos = pagLxml.xpath('//div[@class=\"region size2of3 reset-left\"]/table[@class=\"nutrition\"]/tr/td')\n",
    "print(nodos[0].text_content ())"
   ]
  },
  {
   "cell_type": "code",
   "execution_count": 54,
   "metadata": {
    "collapsed": false
   },
   "outputs": [
    {
     "name": "stdout",
     "output_type": "stream",
     "text": [
      "http://globalassets.starbucks.com/assets/d6b3f27ce2824a2ba9d10bb2cf99a23c.jpg\n"
     ]
    }
   ],
   "source": [
    "#imagen\n",
    "nodos = pagLxml.xpath('//div[@class]/div[@class=\"region size1of3\"]/p/img')\n",
    "#attrib es una propiedad del objeto Element, que contiene un diccionario con todos los atributos del nodo.\n",
    "\n",
    "print(\"http:\" + nodos[0].attrib[\"src\"] )"
   ]
  },
  {
   "cell_type": "code",
   "execution_count": null,
   "metadata": {
    "collapsed": true
   },
   "outputs": [],
   "source": []
  },
  {
   "cell_type": "code",
   "execution_count": null,
   "metadata": {
    "collapsed": true
   },
   "outputs": [],
   "source": []
  }
 ],
 "metadata": {
  "anaconda-cloud": {},
  "kernelspec": {
   "display_name": "Python [corpus-35]",
   "language": "python",
   "name": "Python [corpus-35]"
  },
  "language_info": {
   "codemirror_mode": {
    "name": "ipython",
    "version": 3
   },
   "file_extension": ".py",
   "mimetype": "text/x-python",
   "name": "python",
   "nbconvert_exporter": "python",
   "pygments_lexer": "ipython3",
   "version": "3.5.2"
  }
 },
 "nbformat": 4,
 "nbformat_minor": 1
}
