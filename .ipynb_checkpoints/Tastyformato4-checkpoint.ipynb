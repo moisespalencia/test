{
 "cells": [
  {
   "cell_type": "code",
   "execution_count": 7,
   "metadata": {
    "collapsed": true
   },
   "outputs": [],
   "source": [
    "from lxml import html\n",
    "import urllib.request as Request\n",
    "# Paginas ejemplo del formato 1\n",
    "#pagString = Request.urlopen(\"https://www.buzzfeed.com/robertbroadfoot/chicken-penne?bffbtasty&ref=bffbtasty&utm_term=.rdxzWraP4#.ysel2zbZ1\").read()\n",
    "#pagString = Request.urlopen(\"https://www.buzzfeed.com/alixtraeger/this-chocolate-chip-banana-monkey-bread-will-change-your-lif?bffbtasty&ref=bffbtasty&utm_term=.eg2OMN7Bv#.daaRkpKY6\").read()\n",
    "#pagString = Request.urlopen(\"https://www.buzzfeed.com/robertbroadfoot/youll-definitely-want-to-make-this-chicken-broccoli-mushroom?bffbtasty&ref=bffbtasty&utm_term=4ldradw#4ldradw\").read()\n",
    "#pagString = Request.urlopen('https://www.buzzfeed.com/clairenolan/this-peanut-butter-stuffed-skillet-cookie-is-totally-dessert?bffbtasty&ref=bffbtasty&utm_term=.hha90B2Dy#.nwPm4NGge').read()\n",
    "#pagString = Request.urlopen(\"https://www.buzzfeed.com/hannahwilliams/blueberry-peach-slab-pie?bffbtasty&ref=bffbtasty&utm_term=.jvewrXGVE#.smElQ1qL6\").read()\n",
    "# Paginas ejemplo del formato 2\n",
    "#pagString = Request.urlopen(\"https://www.buzzfeed.com/alvinzhou/heres-four-ways-you-can-enjoy-rotini-pasta-this-week-for-lun?bffbtasty&ref=bffbtasty&utm_term=4ldradw#4ldradw\").read()\n",
    "#paginas ejemplo del formato 3\n",
    "#pagString = Request.urlopen(\"https://www.buzzfeed.com/caroltan/this-is-how-you-make-black-bean-burgers?utm_term=.unvE3PWA3#.bhY7eDX3e\"). read()\n",
    "#paginas ejemplo de formato 4\n",
    "pagString = Request.urlopen(\"https://www.buzzfeed.com/camillebergerson/these-amazing-no-bake-desserts-have-only-three-ingredients-s?bffbtasty&ref=bffbtasty&utm_term=.jgkbK51yK#.ajmWYVNZY\").read()\n"
   ]
  },
  {
   "cell_type": "code",
   "execution_count": 8,
   "metadata": {
    "collapsed": true
   },
   "outputs": [],
   "source": [
    "\n",
    "pagLxml = html.fromstring (pagString)"
   ]
  },
  {
   "cell_type": "code",
   "execution_count": 201,
   "metadata": {
    "collapsed": false
   },
   "outputs": [
    {
     "name": "stdout",
     "output_type": "stream",
     "text": [
      "El titulo de la primera receta es: Peanut Butter Cups\n",
      "\n",
      "El titulo de la primera receta es: Strawberry Icebox Cake\n",
      "\n",
      "El titulo de la primera receta es: Chocolate Cereal Treats\n",
      "\n",
      "El titulo de la primera receta es: Cookies & Ice Cream Pie\n"
     ]
    }
   ],
   "source": [
    "nodos = pagLxml.xpath ('//div [@class=\"buzz_superlist_item buzz-superlist-item buzz_superlist_item_image buzz-superlist-item-image  buzz_superlist_item_wide image_hit  \" ]/div [@class=\"solid\"] ')\n",
    "\n",
    "titulo1 = nodos[1].getchildren ()[0]\n",
    "titulo2 = nodos[2].getchildren ()[0]\n",
    "titulo3 = nodos[3].getchildren ()[0]\n",
    "titulo4 = nodos[4].getchildren ()[0]\n",
    "print(\"El titulo de la primera receta es: \" + titulo1.text_content ()[3:])\n",
    "print(\"\")\n",
    "print(\"El titulo de la primera receta es: \" + titulo2.text_content ()[3:])\n",
    "print(\"\")\n",
    "print(\"El titulo de la primera receta es: \" + titulo3.text_content ()[3:])\n",
    "print(\"\")\n",
    "print(\"El titulo de la primera receta es: \" + titulo4.text_content ()[3:])\n",
    "            "
   ]
  },
  {
   "cell_type": "code",
   "execution_count": 200,
   "metadata": {
    "collapsed": false
   },
   "outputs": [
    {
     "name": "stdout",
     "output_type": "stream",
     "text": [
      "THE INGREDIENTS\n",
      "3 tablespoons powdered sugar, sifted\n",
      "1/2 cup smooth peanut butter\n",
      "1 cup melted chocolate \n",
      "\n",
      "THE INGREDIENTS\n",
      "5 cups sweetened whipped cream\n",
      "11-12 large rectangular graham crackers\n",
      "3 cups strawberries, chopped \n",
      "\n",
      "THE INGREDIENTS\n",
      "1 cup candy coated chocolate\n",
      "2 ½ cups marshmallows\n",
      "3 cups puffed rice cereal\n",
      "\n",
      "THE INGREDIENTS\n",
      "1 cup candy coated chocolate\n",
      "2 ½ cups marshmallows\n",
      "3 cups puffed rice cereal\n"
     ]
    }
   ],
   "source": [
    "#todos los ingredientes de las recetas\n",
    "ingredientes1 = nodos[1].getchildren ()[3]\n",
    "ingredientes2 = nodos[2].getchildren ()[3]\n",
    "ingredientes3 = nodos[3].getchildren ()[3]\n",
    "ingredientes4 = nodos[3].getchildren ()[3]\n",
    "print(\"THE \" +  ingredientes1.text_content ())\n",
    "print(\"\")\n",
    "print(\"THE \" +  ingredientes2.text_content ())\n",
    "print(\"\")\n",
    "print(\"THE \" +  ingredientes3.text_content ())\n",
    "print(\"\")\n",
    "print(\"THE \" +  ingredientes4.text_content ())"
   ]
  },
  {
   "cell_type": "code",
   "execution_count": 206,
   "metadata": {
    "collapsed": false
   },
   "outputs": [
    {
     "name": "stdout",
     "output_type": "stream",
     "text": [
      "PREPARATION\n",
      "1. Prepare a cupcake tin with 6 liners. \n",
      "2. Stir peanut butter and powdered sugar together until smooth.\n",
      "3. Spread 1 to 2 tablespoons of chocolate in the bottom of each cupcake liner.\n",
      "4. Dollop 1 to 2 teaspoons of the peanut butter mixture on top of the chocolate. \n",
      "5. Cover each dollop of peanut butter with more chocolate and smooth out the top. \n",
      "6. Refrigerate for 1 hour or until chocolate has hardened.\n",
      "7. Remove peanut butter cups from the liners. \n",
      "8. Enjoy!\n",
      "\n",
      "PREPARATION\n",
      "1. Spread a thin layer of whipped cream in a square glass baking dish.\n",
      "2. Layer graham crackers on top, then cover with a layer of whipped cream. \n",
      "3. Sprinkle ⅓ of the strawberries on top, then layer with cream again. \n",
      "4. Repeat steps 2 and 3 until no more ingredients remain. (The top layer should be strawberries and should not be covered with cream.)\n",
      "5. Refrigerate for at least 3 hours. \n",
      "6. Enjoy!\n",
      "\n",
      "PREPARATION\n",
      "1. Prepare a square glass baking dish with cooking spray.\n",
      "2. Melt marshmallows over medium heat in a nonstick pan. Stir every 30 seconds to avoid burning. (TIP! spray your spatula with nonstick cooking spray to make stirring easier.)\n",
      "3. Once the marshmallows are melted, add in the rice cereal and chocolates. \n",
      "4. Stir until fully combined.\n",
      "5. Scoop the mixture into the sprayed baking dish and flatten with a spatula. \n",
      "6. Cool for 30 minutes, then cut into squares.\n",
      "7. Enjoy!\n",
      "\n",
      "PREPARATION\n",
      "1. Place cookies in a gallon sized plastic bag and hit with a rolling pin or pan until crushed.\n",
      "2. Pat the cookie crumbs into the bottom of a 9” pie dish. \n",
      "3. Spread the softened ice cream on top and smooth out.\n",
      "4. Drizzle the top with melted chocolate. \n",
      "5. Freeze for 4 hours, or until the ice cream is hardened. \n",
      "6. Enjoy!\n"
     ]
    }
   ],
   "source": [
    "#todas las preparaciones de las recetas\n",
    "preparacion1 = nodos[1].getchildren ()[4]\n",
    "preparacion2 = nodos[2].getchildren ()[4]\n",
    "preparacion3 = nodos[3].getchildren ()[4]\n",
    "preparacion4 = nodos[4].getchildren ()[4]\n",
    "print(preparacion1.text_content ())\n",
    "print(\"\")\n",
    "print(preparacion2.text_content ())\n",
    "print(\"\")\n",
    "print(preparacion3.text_content ())\n",
    "print(\"\")\n",
    "print(preparacion4.text_content ())\n"
   ]
  },
  {
   "cell_type": "code",
   "execution_count": 207,
   "metadata": {
    "collapsed": false
   },
   "outputs": [
    {
     "name": "stdout",
     "output_type": "stream",
     "text": [
      "{\"video\": {\"size\": \"big\", \"width\":\"625\", \"height\":\"376\", \"url\":\"https://youtube.com/watch?v=9zzE9nFYUHM\", \"id\":\"4356255_9632156\", \"length\":\"117\", \"published\":\"2016-09-16 13:28:05\"}}\n"
     ]
    }
   ],
   "source": [
    "nodos = pagLxml.xpath ('//div[@class=\"video-embed-big video-embed-area bf_dom\"]')\n",
    "\n",
    "print(nodos[0].attrib[\"rel:bf_bucket_data\"])\n"
   ]
  },
  {
   "cell_type": "code",
   "execution_count": 208,
   "metadata": {
    "collapsed": false
   },
   "outputs": [
    {
     "name": "stdout",
     "output_type": "stream",
     "text": [
      "https://img.buzzfeed.com/buzzfeed-static/static/2016-09/14/16/asset/buzzfeed-prod-fastlane02/sub-buzz-31154-1473885874-1.jpg?resize=625:781\n"
     ]
    }
   ],
   "source": [
    "nodos = pagLxml.xpath ('//div[@class=\"buzz_superlist_item buzz-superlist-item buzz_superlist_item_image buzz-superlist-item-image  buzz_superlist_item_wide image_hit  \"]/div[@class=\"solid\"]/div[@class=\"sub_buzz_content\"]/img')\n",
    "print(nodos[0].attrib[\"rel:bf_image_src\"])"
   ]
  }
 ],
 "metadata": {
  "anaconda-cloud": {},
  "kernelspec": {
   "display_name": "Python [Root]",
   "language": "python",
   "name": "Python [Root]"
  },
  "language_info": {
   "codemirror_mode": {
    "name": "ipython",
    "version": 3
   },
   "file_extension": ".py",
   "mimetype": "text/x-python",
   "name": "python",
   "nbconvert_exporter": "python",
   "pygments_lexer": "ipython3",
   "version": "3.5.2"
  }
 },
 "nbformat": 4,
 "nbformat_minor": 1
}
