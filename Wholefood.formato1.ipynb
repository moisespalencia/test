{
 "cells": [
  {
   "cell_type": "code",
   "execution_count": 40,
   "metadata": {
    "collapsed": false
   },
   "outputs": [],
   "source": [
    "from bs4 import BeautifulSoup\n",
    "from lxml import html\n",
    "import urllib.request as Request\n",
    "headers = {'Accept':'text/html,application/xhtml+xml,application/xml;q=0.9,image/webp,*/*;q=0.8',\n",
    "'Accept-Language':'en-US,en;q=0.8,es;q=0.6',\n",
    "'Cache-Control':'max-age=0',\n",
    "'Connection':'keep-alive',\n",
    "'Upgrade-Insecure-Requests':'1',\n",
    "'User-Agent':'Mozilla/5.0 (Macintosh; Intel Mac OS X 10_11_6) AppleWebKit/537.36 (KHTML, like Gecko) Chrome/53.0.2785.116 Safari/537.36'}\n",
    "#url = \"https://www.365bywfm.com/product/365-everyday-value-365-everyday-value-organic-milk-chocolate-square-39-cacao\"\n",
    "#url = \"https://www.365bywfm.com/product/generic-organic-baby-bananas\"\n",
    "url = \"https://www.365bywfm.com/product/generic-yellow-chili-pepper\"\n",
    "#headers={'User-Agent': 'Mozilla/5.0 (Macintosh; Intel Mac OS X 10_11_6) AppleWebKit/537.36 (KHTML, like Gecko) Chrome/53.0.2785.116 Safari/537.36'}\n",
    "# Paginas ejemplo del formato 1\n",
    "request=Request.Request(url, None, headers)\n",
    "pagString = Request.urlopen(request).read()\n"
   ]
  },
  {
   "cell_type": "code",
   "execution_count": 41,
   "metadata": {
    "collapsed": false
   },
   "outputs": [],
   "source": [
    "pagSoup = BeautifulSoup(pagString,\"lxml\")\n",
    "pagLxml = html.fromstring (pagString)"
   ]
  },
  {
   "cell_type": "code",
   "execution_count": 42,
   "metadata": {
    "collapsed": false
   },
   "outputs": [
    {
     "name": "stdout",
     "output_type": "stream",
     "text": [
      "Yellow Chili Pepper\n"
     ]
    }
   ],
   "source": [
    "#titulo\n",
    "nodos = pagLxml.xpath('//div[@style]/h3' )  \n",
    "titulo = nodos[0].text_content()\n",
    "print(titulo)\n"
   ]
  },
  {
   "cell_type": "code",
   "execution_count": 43,
   "metadata": {
    "collapsed": false
   },
   "outputs": [
    {
     "name": "stdout",
     "output_type": "stream",
     "text": [
      "$0.25\n"
     ]
    }
   ],
   "source": [
    "#precio\n",
    "nodos = pagLxml.xpath ('//div/span[@style]/span')\n",
    "print(nodos[0].text_content ())"
   ]
  },
  {
   "cell_type": "code",
   "execution_count": 44,
   "metadata": {
    "collapsed": false
   },
   "outputs": [
    {
     "name": "stdout",
     "output_type": "stream",
     "text": [
      "//res-2.cloudinary.com/wfm365/image/fetch/f_webp,c_fill,ar_1,w_600,e_sharpen/https://sage.blob.core.windows.net/media/575b2840f6e103d73f39191d_produce_santafepeppers.2.JPG\n"
     ]
    }
   ],
   "source": [
    "#imagen\n",
    "nodos = pagLxml.xpath ('//div[@data-reactid]/picture[@style]/source[@type=\"image/webp\"]')\n",
    "print(nodos[0].attrib[\"srcset\"])"
   ]
  },
  {
   "cell_type": "code",
   "execution_count": 45,
   "metadata": {
    "collapsed": false
   },
   "outputs": [
    {
     "name": "stdout",
     "output_type": "stream",
     "text": [
      "El total de calorias es de : 18\n"
     ]
    }
   ],
   "source": [
    "#calorias\n",
    "nodos = pagLxml.xpath ('//div[@style]/div[@style]/div[@style]/div[@style]/div[@style]/div[@style]/div[@data-reactid]/div[@style]/div[@style]/span[@style]')\n",
    "calorias = \"\"\n",
    "caloriasFound = False\n",
    "for x in nodos:\n",
    "    texto = x.text_content()\n",
    "    if(texto == \"Calories\"):\n",
    "        caloriasFound = True\n",
    "    elif(caloriasFound):\n",
    "        calorias = texto\n",
    "        break\n",
    "print(\"El total de calorias es de : \" + calorias)\n",
    "\n"
   ]
  }
 ],
 "metadata": {
  "anaconda-cloud": {},
  "kernelspec": {
   "display_name": "Python [corpus-35]",
   "language": "python",
   "name": "Python [corpus-35]"
  },
  "language_info": {
   "codemirror_mode": {
    "name": "ipython",
    "version": 3
   },
   "file_extension": ".py",
   "mimetype": "text/x-python",
   "name": "python",
   "nbconvert_exporter": "python",
   "pygments_lexer": "ipython3",
   "version": "3.5.2"
  }
 },
 "nbformat": 4,
 "nbformat_minor": 1
}
