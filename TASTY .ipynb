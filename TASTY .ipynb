{
 "cells": [
  {
   "cell_type": "code",
   "execution_count": 347,
   "metadata": {
    "collapsed": false
   },
   "outputs": [],
   "source": [
    "from bs4 import BeautifulSoup\n",
    "import urllib.request as Request\n",
    "import csv\n",
    "import time\n",
    "def getXpath(node):\n",
    "    expath = \"\"\n",
    "    \n",
    "    for parent in node.parents:\n",
    "        expath = parent.name + \"/\" + expath\n",
    "    \n",
    "    expath = expath + node.name\n",
    "    \n",
    "    expath = expath.replace(\"[document]\", \"\")\n",
    "    \n",
    "    return expath\n",
    "\n",
    "def resultReceta(url):\n",
    "    receta = []\n",
    "    pagString = Request.urlopen(url).read()\n",
    "    pagSoup = BeautifulSoup(pagString,\"lxml\")\n",
    "    pagLxml = html.fromstring (pagString)\n",
    "    nodo1 = pagSoup.find_all(\"h2\", class_=\"subbuzz_name\") [0]\n",
    "    titulo = pagLxml.xpath(getXpath(nodo1) + \"/text()\")[0]\n",
    "    receta.append(titulo)\n",
    "    nodos = pagLxml.xpath ('//div[@class=\"buzz_superlist_item buzz-superlist-item buzz_superlist_item_text buzz-superlist-item-text  buzz_superlist_item_wide   \"]/div[@class=\"solid\"]')\n",
    "    nodo2 = nodos[0]\n",
    "    nodoIngredients= nodo2.getchildren () [1:]\n",
    "    ingreStr = \"\"\n",
    "    for ig in nodoIngredients:\n",
    "        ingreStr = ingreStr + ig.text_content().replace(\"\\n\",\"|\") + \"|\"\n",
    "    receta.append(ingreStr)\n",
    "    nodoPreparacion = nodos[1].getchildren () [1:]\n",
    "    prepStr = \"\"\n",
    "    for prep in nodoPreparacion:\n",
    "        prepStr = prepStr + prep.text_content ().replace(\"\\n\",\"|\") + \"|\"\n",
    "    receta.append(prepStr)\n",
    "    nodos = pagLxml.xpath ('//div[@class=\"buzz_superlist_item buzz-superlist-item buzz_superlist_item_image buzz-superlist-item-image  buzz_superlist_item_wide image_hit  \"]/div[@class=\"solid\"]/div[@class=\"sub_buzz_content\"]/img')\n",
    "    receta.append(nodos[0].attrib[\"rel:bf_image_src\"])\n",
    "    nodos = pagLxml.xpath ('//div[@class=\"video-embed-big video-embed-area bf_dom\"]')\n",
    "    receta.append(nodos[0].attrib[\"rel:thumb\"])\n",
    "    receta.append(nodos[0].attrib[\"rel:bf_bucket_data\"])\n",
    "    return receta"
   ]
  },
  {
   "cell_type": "code",
   "execution_count": 348,
   "metadata": {
    "collapsed": false
   },
   "outputs": [],
   "source": [
    "def downUrl(url):\n",
    "    urlTools = []\n",
    "    pagString = Request.urlopen(url).read()\n",
    "    pagLxml = html.fromstring (pagString)\n",
    "    nodos = pagLxml.xpath('//div[@class=\"card xs-relative xs-mb1 js-feed-item\"]/div[@class=\"card--video\"]/div[@class=\"xs-p2 clearfix card-title\"]/a[@class=\"xs-col-11 link-gray\"]')\n",
    "    for n in nodos:\n",
    "        urlTools.append([n.find(\"h2\").text_content(), n.attrib[\"href\"]])\n",
    "    return urlTools"
   ]
  },
  {
   "cell_type": "code",
   "execution_count": 349,
   "metadata": {
    "collapsed": false
   },
   "outputs": [],
   "source": [
    "links = downUrl(\"https://www.buzzfeed.com/tasty/weeknights\")\n",
    "links = links + downUrl(\"https://www.buzzfeed.com/tasty/cheatday\")\n",
    "links = links + downUrl(\"https://www.buzzfeed.com/tasty/litebites\")\n",
    "links = links + downUrl(\"https://www.buzzfeed.com/tasty/junior\")\n",
    "links = links + downUrl(\"https://www.buzzfeed.com/tasty/vegetarian\")\n",
    "links = links + downUrl(\"https://www.buzzfeed.com/tasty/happyhour\")"
   ]
  },
  {
   "cell_type": "code",
   "execution_count": 355,
   "metadata": {
    "collapsed": false
   },
   "outputs": [
    {
     "name": "stdout",
     "output_type": "stream",
     "text": [
      "El total de recetas es: 101\n",
      "One-Pan Garlic Parmesan Chicken And Vegetables --- https://www.buzzfeed.com/camillebergerson/heres-an-easy-dinner-that-will-leave-you-with-more-time-to-c?bffbtasty&ref=bffbtasty&utm_term=.coVaG6xoo#.aoONwVrpp\n",
      "Rotini Pasta 4 Ways --- https://www.buzzfeed.com/alvinzhou/heres-four-ways-you-can-enjoy-rotini-pasta-this-week-for-lun?bffbtasty&ref=bffbtasty&utm_term=4ldradw#4ldradw\n",
      "Chicken And Asparagus Pasta --- https://www.buzzfeed.com/robertbroadfoot/chicken-penne?bffbtasty&ref=bffbtasty&utm_term=4ldradw#4ldradw\n",
      "Grilled Citrus Salmon And Asparagus --- https://www.buzzfeed.com/clairenolan/keep-it-fresh-on-the-grill-this-weekend-with-this-citrus-sal?bffbtasty&utm_term=4ldradw#4ldradw\n",
      "Grilled Salmon With Avocado Salsa --- https://www.buzzfeed.com/robertbroadfoot/salmon-salsa-fun#.aoMdLJvE9\n",
      "Vietnamese-Style Banh Mi Meatball Sandwich --- https://www.buzzfeed.com/emilyhorng/viet-ball#.vcP0RQGz7\n",
      "Chicken Fajita Salad --- http://www.buzzfeed.com/alvinzhou/this-chicken-fajita-salad-will-be-so-perfect-in-your-belly\n",
      "🍔  Black Bean Burgers 🍔 --- http://www.buzzfeed.com/caroltan/this-is-how-you-make-black-bean-burgers#.ybAdbGBYN\n",
      "Peking Duck-Inspired Burritos --- https://www.buzzfeed.com/emilyhorng/enter-a-new-flavor-town-with-these-peking-duck-inspired-burr\n",
      "Net Pancakes (Roti Jala) --- https://www.buzzfeed.com/scottloitsch/heres-a-new-and-fabulous-way-to-make-pancakes\n",
      "Easy Chicken Piccata --- https://www.buzzfeed.com/hannahwilliams/heres-a-recipe-for-chicken-piccata\n",
      "Chocolate Chip Banana Monkey Bread 🍌 --- https://www.buzzfeed.com/alixtraeger/this-chocolate-chip-banana-monkey-bread-will-change-your-lif?bffbtasty&ref=bffbtasty&utm_term=4ldradw#4ldradw\n",
      "4 Easy 3-Ingredient No-Bake Desserts --- https://www.buzzfeed.com/camillebergerson/these-amazing-no-bake-desserts-have-only-three-ingredients-s?bffbtasty&ref=bffbtasty&utm_term=4ldradw#4ldradw\n",
      "Churro Ice Cream Sandwiches --- https://www.buzzfeed.com/alvinzhou/these-churro-ice-cream-sandwiches-will-make-your-date-night?bffbtasty&ref=bffbtasty&utm_term=4ldradw#4ldradw\n",
      "Peanut Butter-Stuffed Skillet Cookie --- https://www.buzzfeed.com/clairenolan/this-peanut-butter-stuffed-skillet-cookie-is-totally-dessert?bffbtasty&ref=bffbtasty&utm_term=4ldradw#4ldradw\n",
      "Chocolate Pretzel Pie --- https://www.buzzfeed.com/jessicamaroney/chocolate-and-pretzel-combine-beautifully-in-this-delicious?bffbtasty&ref=bffbtasty&utm_term=4ldradw#4ldradw\n",
      "Blueberry Slab Pie --- https://www.buzzfeed.com/hannahwilliams/blueberry-peach-slab-pie?bffbtasty&ref=bffbtasty&utm_term=4ldradw#4ldradw\n",
      "Strawberry Cheesecake Old Fashioned Donuts 🍓 --- http://bzfd.it/2bh7xrl\n",
      "Brazilian Truffles (Brigadieros) 4 Ways --- https://www.buzzfeed.com/robertbroadfoot/heres-four-delicious-brazilian-truffle-recipes-you-have-to-t?bffbtasty&ref=bffbtasty&utm_term=.yh703BJRR#.amrXPD6kk\n",
      "Tiramisu Mille Crepe --- https://www.buzzfeed.com/marietelling/these-tiramisu-mille-crepes-will-up-your-dessert-g-258n3?bffbtasty&ref=bffbtasty&utm_term=4ldradw#4ldradw\n",
      "Cookie Dough Ice Cream Bites --- https://www.buzzfeed.com/andrewilnyckyj/these-cookie-dough-cream-bites-are-the-perfect-summer-treat?bffbtasty&ref=bffbtasty&utm_term=4ldradw#4ldradw\n",
      "4 Easy 3-Ingredient Desserts --- https://www.buzzfeed.com/alvinzhou/youre-going-to-want-to-prepare-a-dessert-feast-after-reading\n",
      "Apple Pie Ice Cream Squares 🍏 --- https://www.buzzfeed.com/hannahmars/apple-pie-desserts?bffbtasty&utm_term=4ldradw#4ldradw\n",
      "Grilled Berry Cobbler --- https://www.buzzfeed.com/clairenolan/try-out-your-grill-and-make-this-incredible-mixed?bffbtasty&utm_term=4ldradw#4ldradw\n",
      "No-Bake Dulce De Leche Cheesecake --- https://www.buzzfeed.com/hannahmars/cheesecakes-you-need-in-your-life\n",
      "Honey Mustard Chicken Tater Tot Nachos --- https://www.buzzfeed.com/robertbroadfoot/these-honey-mustard-chicken-tater-tot-nachos-are-out-of-this?bffbtasty&utm_term=4ldradw#4ldradw\n",
      "Ashly, Sara, & Ella Try Making A Tasty Recipe --- https://www.buzzfeed.com/buzzfeed/_draft/4299168\n",
      "Chocolate Cream Cheese Croissant Bake --- https://www.buzzfeed.com/merleoneal/heres-what-happens-when-you-combine-croissants-chocolate-and?utm_term=.yk3oZEzNk#.wvLWxor0P\n",
      "Peanut Butter Brownie Cookies --- https://www.buzzfeed.com/robertbroadfoot/this-peanut-butter-brookie-is-three-amazing-things-rolled-in\n",
      "Peanut Butter Potato Chip Truffles --- https://www.buzzfeed.com/clairenolan/this-potato-chip-truffle-will-solve-your-salty-or-sweet-dile\n",
      "Is It Tasty?: Avocado Brownies Taste Test --- https://www.buzzfeed.com/jodyduits/we-tried-avocado-brownies-to-see-if-you-should-too?bffbtasty&ref=bffbtasty&utm_term=4ldradw#4ldradw\n",
      "Chicken And Asparagus Pasta --- https://www.buzzfeed.com/robertbroadfoot/chicken-penne?bffbtasty&ref=bffbtasty&utm_term=4ldradw#4ldradw\n",
      "Grilled Citrus Salmon And Asparagus --- https://www.buzzfeed.com/clairenolan/keep-it-fresh-on-the-grill-this-weekend-with-this-citrus-sal?bffbtasty&utm_term=4ldradw#4ldradw\n",
      "Freezer-Prep Fruit Smoothies 4 Ways 🍓🍍🍌 --- https://www.buzzfeed.com/merleoneal/these-4-easy-smoothies-are-the-healthy-start-into-your-day-t?bffbtasty&utm_term=4ldradw#4ldradw\n",
      "Dark Chocolate Apricot Energy Bars --- https://www.buzzfeed.com/hitomiaihara/get-an-energy-boost-with-these-dark-chocolate-apricot-breakf?bffbtasty&ref=bffbtasty&utm_term=4ldradw#4ldradw\n",
      "Flourless Peanut Butter, Oat & Banana Pancakes --- https://www.buzzfeed.com/hannahmars/flourless-and-fabulous?bffbtasty&ref=bffbtasty&utm_term=.fsnEJm6k8#.lde81qXlK\n",
      "Creamy Chipotle Chicken Lettuce Cups (Under 300 Calories) --- https://www.buzzfeed.com/joeyfiroben/these-creamy-chipotle-chicken-lettuce-tacos-are-way-better-f?bffbtasty&utm_term=.gcEeW38aZ#.rq7eZjrEa\n",
      "Watermelon Fruit Pizza 🍕 --- https://www.buzzfeed.com/joeyfiroben/water-pizza?bffbtasty&utm_term=4ldradw#4ldradw\n",
      "Chocolate Peppermint Squares 🍫 --- https://www.buzzfeed.com/adambianchi/the-best-part-about-these-chocolate-peppermint-squares-is-th?bffbtasty&utm_term=4ldradw#4ldradw\n",
      "Avocado Chicken Salad Toast --- https://www.buzzfeed.com/hitomiaihara/your-lunch-will-be-so-much-better-with-this-avocado-chicken?bffbtasty&utm_term=4ldradw#4ldradw\n",
      "Grilled Veggie & Steak Salad --- https://www.buzzfeed.com/clairenolan/get-into-this-mouth-watering-grilled-steak-and-vegetable-sal\n",
      "Sorbet 4 Ways 🍧 --- https://www.buzzfeed.com/clairenolan/heres-four-delicious-sorbets-that-you-need-to-be-making-this?utm_term=.hlRar0lZZ#.le0MRZb55\n",
      "Roasted Veggie Salad --- https://www.buzzfeed.com/bexv123/impress-your-dinner-guests-with-this-roasted-veggie-salad?utm_term=4ldradw&bffbtasty#4ldradw\n",
      "Potato Asparagus Tart --- https://www.buzzfeed.com/bexv123/a-tasty-potato-tart-with-asparagus#4ldradw\n",
      "Egg & Tomato Strata --- https://www.buzzfeed.com/christinebyrne/easy-delicious-suhoor-recipes?utm_term=4ldradw&bffbtasty#4ldradw\n",
      "Spaghetti Squash 4 Ways --- https://www.buzzfeed.com/iristian/heres-four-ways-to-make-spaghetti-squash-for-your-next-dinne?bffbtasty&utm_term=4ldradw#4ldradw\n",
      "🍤Shrimp And Asparagus Stir Fry Under 300 Calories🍤 --- https://www.buzzfeed.com/robertbroadfoot/this-healthy-shrimp-and-asparagus-stir-fry-is-under-300-calo?utm_term=4ldradw&bffbtasty#4ldradw\n",
      "Mixed Berry Salad With Strawberry Balsamic Vinaigrette Dressing 🍓 --- https://www.buzzfeed.com/iristian/heres-a-refreshing-summer-salad-that-will-leave-you-feeling?bffbtasty&utm_term=4ldradw#4ldradw\n",
      "🍓Strawberry Banana Frozen Yogurt #TastyJunior🍌 --- https://www.buzzfeed.com/hannahwilliams/heres-a-refreshing-summer-treat-you-can-make-with-your-kids?bffbtasty&utm_term=4ldradw#4ldradw\n",
      "Steak And Avocado Salad --- https://www.buzzfeed.com/alvinzhou/this-steak-and-avocado-salad-is-your-new-summer-staple\n",
      "Sweet & Spicy Oven-Fried Chicken --- https://www.buzzfeed.com/clairenolan/how-to-satisfy-your-fried-chicken-craving-in-a-slightly-heal?utm_term=4ldradw&bffbtasty#4ldradw\n",
      "Bacon, Lettuce, Tomato, and Avocado Salad --- https://www.buzzfeed.com/robertbroadfoot/this-salad-brings-bacon-and-avocado-together-in-perfect-harm\n",
      "Slow Cooker Balsamic Chicken --- https://www.buzzfeed.com/robertbroadfoot/make-this-slow-cooker-balsamic-chicken-for-an-easy-dinner-th?utm_term=.ofM64m8VW#.drYOYA71x\n",
      "4 Easy Slow Cooker Dinners #TastyJunior --- https://www.buzzfeed.com/hannahwilliams/these-four-slow-cooker-dinners-are-perfect-if-you-like-to-co?bffbtasty&ref=bffbtasty&utm_term=4ldradw#4ldradw\n",
      "Banana Chocolate Chip Muffins 🍌 --- https://www.buzzfeed.com/hannahwilliams/grab-your-little-one-and-make-these-cute-banana-and-chocolat?utm_term=.ek41q8VEE#.aj1K5vlmm\n",
      "Hot Dog Cups --- https://www.buzzfeed.com/hannahwilliams/youre-actually-going-to-want-to-make-these-cute-chili-dog-cu?bffbtasty&utm_term=4ldradw#4ldradw\n",
      "BBQ Chicken Pasta Bake #TastyJunior --- https://www.buzzfeed.com/hannahwilliams/bring-the-bbq-to-your-kitchen-and-make-this-delicious-bbq-ch?bffbtasty&utm_term=4ldradw#4ldradw\n",
      "🍓Strawberry Banana Frozen Yogurt #TastyJunior🍌 --- https://www.buzzfeed.com/hannahwilliams/heres-a-refreshing-summer-treat-you-can-make-with-your-kids?bffbtasty&utm_term=4ldradw#4ldradw\n",
      "Cheese Stuffed Cauliflower Nuggets --- https://www.buzzfeed.com/hannahwilliams/these-cheese-stuffed-cauliflower-nuggets-are-a-healthier-opt?bffbtastycomment&utm_term=4ldradw#4ldradw\n",
      "Cheesy Egg & Biscuit Cups --- https://www.buzzfeed.com/hannahwilliams/watch-these-tiny-hands-help-make-cute-egg-and-biscuit-breakf\n",
      "Cheesy Zucchini Sausage Cups #TastyJunior --- http://www.buzzfeed.com/hannahwilliams/grab-your-kid-and-make-these-tasty-cheesy-zucchini-sausage-c#.vuJdPRM6Z\n",
      "No-Bake Peanut Butter Pie Jars --- https://www.buzzfeed.com/scottloitsch/grab-your-little-partner-and-make-these-amazingly-cute-no-ba\n",
      "Frozen Yogurt Granola Cups #TastyJunior --- https://www.buzzfeed.com/adambianchi/heres-an-appetizing-recipe-for-frozen-yogurt-granola-cups-th\n",
      "Banana S'mores Bites #TastyJunior --- https://www.buzzfeed.com/hannahwilliams/get-your-little-one-and-make-these-cute-frozen-banana-bites\n",
      "Cheesy Chicken And Broccoli Pasta --- http://www.buzzfeed.com/jodyduits/sneak-some-veggies-into-this-delicious-cheesy-chicken-and-br#.etxQ29mAA\n",
      "Root Beer Pie #TastyJunior // Happy π Day! --- https://www.buzzfeed.com/hannahwilliams/make-this-root-beer-pie-with-your-kiddo-for-pie-day\n",
      "🍕Easy Pizza #TastyJunior🍕 --- https://www.buzzfeed.com/adambianchi/grab-your-little-one-and-make-this-easy-pizza-with-your-kidd\n",
      "Mason Jar Cornbread Burger --- https://www.buzzfeed.com/adambianchi/heres-a-burger-that-you-can-make-using-a-mason-jars?bffbtasty&ref=bffbtasty&utm_term=4ldradw#4ldradw\n",
      "Roasted Veggie Salad --- https://www.buzzfeed.com/bexv123/impress-your-dinner-guests-with-this-roasted-veggie-salad?utm_term=4ldradw&bffbtasty#4ldradw\n",
      "Potato Asparagus Tart --- https://www.buzzfeed.com/bexv123/a-tasty-potato-tart-with-asparagus#4ldradw\n",
      "Egg & Tomato Strata --- https://www.buzzfeed.com/christinebyrne/easy-delicious-suhoor-recipes?utm_term=4ldradw&bffbtasty#4ldradw\n",
      "Peaches And Cream Coffee Cake --- https://www.buzzfeed.com/bexv123/this-peaches-and-cream-coffee-cake-is-a-match-made-in-heaven?utm_term=4ldradw&bffbtasty#4ldradw\n",
      "🍔Cheese Stuffed Mushroom Burger🍔 --- https://www.buzzfeed.com/merleoneal/this-burger-cheese-stuffed-mushroom-is-what-dreams-are-made\n",
      "Mixed Berry Salad With Strawberry Balsamic Vinaigrette Dressing 🍓 --- https://www.buzzfeed.com/iristian/heres-a-refreshing-summer-salad-that-will-leave-you-feeling?bffbtasty&utm_term=4ldradw#4ldradw\n",
      "Spinach Artichoke Ravioli Bake --- https://www.buzzfeed.com/merleoneal/this-spinach-artichoke-ravioli-bake-is-so-easy-to-make-for-m\n",
      "🍓Strawberry Banana Frozen Yogurt #TastyJunior🍌 --- https://www.buzzfeed.com/hannahwilliams/heres-a-refreshing-summer-treat-you-can-make-with-your-kids?bffbtasty&utm_term=4ldradw#4ldradw\n",
      "Loaded Mashed Potato Cups --- https://www.buzzfeed.com/merleoneal/live-your-best-life-and-eat-mashed-potatoes-in-cup-form\n",
      "Cheese Stuffed Cauliflower Nuggets --- https://www.buzzfeed.com/hannahwilliams/these-cheese-stuffed-cauliflower-nuggets-are-a-healthier-opt?bffbtastycomment&utm_term=4ldradw#4ldradw\n",
      "Waffle Grilled Cheese --- https://www.buzzfeed.com/clairenolan/waffle-dat\n",
      "Berry Smoothie Bowl --- http://www.buzzfeed.com/jodyduits/enjoy-a-healthy-breakfast-with-this-tasty-berry-smoothie-bow#.liAveKJwm\n",
      "Buffalo Cauliflower Tacos --- https://www.buzzfeed.com/andrewilnyckyj/vegetarians-will-sing-praises-for-these-buffalo-cauliflower?utm_term=.lyJ63BaW7#.vk5my4X5A\n",
      "Red Wine Spaghetti --- https://www.buzzfeed.com/jodyduits/heres-how-you-make-red-wine-spaghetti\n",
      "Pesto Asparagus & Sun-Dried Tomato Pasta --- https://www.buzzfeed.com/clairenolan/ez-pasta-pesto\n",
      "Greek Yogurt Veggie Dip --- https://www.buzzfeed.com/clairenolan/veggie-dip\n",
      "Sweet Potato Black Bean Hash --- https://www.buzzfeed.com/jodyduits/this-very-healthy-breakfast-will-make-you-feel-refreshed-and\n",
      "Strawberry Peach Sangria --- https://www.buzzfeed.com/camillebergerson/summer-may-be-coming-to-a-close-but-sangria-is-always-here-t?bffbtasty&ref=bffbtasty&utm_term=4ldradw#4ldradw\n",
      "Berry Vodka Sunrise #TastyHappyHour --- https://www.buzzfeed.com/nickguillory/get-your-weekend-started-off-right-with-this-berry-vodka-sun?bffbtasty&ref=bffbtasty&utm_term=4ldradw#4ldradw\n",
      "Mango Kiwi Pineapple Sangria 🍹 --- https://www.buzzfeed.com/hannahwilliams/get-the-weekend-started-with-this-refreshing-mango-and-kiwi\n",
      "Boozy Orange And Vanilla Milkshake ‪#‎TastyHappyHour‬ 🍊 --- https://www.buzzfeed.com/clairenolan/enjoy-this-tasty-boozy-orange-and-vanilla-milkshake-for-happ?bffbtasty&utm_term=.mxdKLrBlX#.lxLljzDo2\n",
      "Sangria 4 Ways 🍹 --- https://www.buzzfeed.com/candacelowry/here-is-your-ultimate-4th-of-july-party-guide?utm_term=4ldradw&bffbtasty#4ldradw\n",
      "Peach Iced Tea Whiskey #TastyHappyHour --- https://www.buzzfeed.com/robertbroadfoot/enjoy-this-tasty-and-refreshing-peach-iced-tea-whiskey-cockt?utm_term=.lkEVwAXOz#.asw2zmBy1\n",
      "Cherry Moscow Mule --- https://www.buzzfeed.com/clairenolan/enjoy-this-totally-awesome-cherry-moscow-mule-this-weekend?bffbtasty&utm_term=4ldradw#4ldradw\n",
      "🍓 Strawberry Cotton Candy Cocktail 🍓 --- https://www.buzzfeed.com/alvinzhou/get-tipsy-with-this-magical-strawberry-and-cotton-candy-cock\n",
      "Bubbly Pops --- https://www.buzzfeed.com/melissaharrison/how-to-make-spiked-popsicles\n",
      "Blackberry Tequila Punch #TastyHappyHour --- https://www.buzzfeed.com/robertbroadfoot/get-the-tequila#.bwXbrJ1aY\n",
      "Boozy Bubbly Sherbet Punch ‪#‎TastyHappyHour‬ --- http://www.buzzfeed.com/scottloitsch/this-boozy-bubbly-sherbet-punch-is-totally-a-happy-hour-deli\n",
      "Pink Grapefruit Margaritas #TastyHappyHour --- http://www.buzzfeed.com/hannahwilliams/unwind-with-this-refreshing-freshly-squeezed-pink-grapefruit#.al9be53Pw\n",
      "Butterscotch Shot Glasses #TastyHappyHour --- https://www.buzzfeed.com/clairenolan/just-in-time-for-st-paddys-day-heres-a-butterscotch-shot-gla\n",
      "Raspberry Mojitos #TastyHappyHour --- https://www.buzzfeed.com/andrewgauthier/this-tasty-raspberry-mojito-punch-is-the-perfect-refreshing\n",
      "🍓Sparkling Strawberry Kiwi Sangria #TastyHappyHour🍓 --- https://www.buzzfeed.com/andrewgauthier/this-sparkling-strawberry-kiwi-sangria-is-beyond-refreshing\n",
      "🍹Homemade Frozen Margaritas #TastyHappyHour🍹 --- https://www.buzzfeed.com/andrewgauthier/turn-up-this-weekend-at-happy-hour-with-these-homemade-froze\n"
     ]
    }
   ],
   "source": [
    "print(\"El total de recetas es: \" + str(len(links)))\n",
    "for l in links:\n",
    "    print(l[0] + \" --- \" + l[1])"
   ]
  },
  {
   "cell_type": "code",
   "execution_count": 359,
   "metadata": {
    "collapsed": false
   },
   "outputs": [],
   "source": [
    "import sys\n",
    "errors = []\n",
    "with open('tasty.csv', 'w', newline='') as csvfile:\n",
    "    writer = csv.writer(csvfile, delimiter=';', quotechar='|', quoting=csv.QUOTE_MINIMAL)\n",
    "    for l in links:\n",
    "        try:\n",
    "            receta = resultReceta(l[1])\n",
    "            writer.writerow([l[0]] + receta)\n",
    "        except:\n",
    "            e = sys.exc_info()[0]\n",
    "            errors.append(l + [str(e)])\n",
    "        finally:\n",
    "            time.sleep( 2 )\n"
   ]
  },
  {
   "cell_type": "code",
   "execution_count": 360,
   "metadata": {
    "collapsed": false
   },
   "outputs": [
    {
     "name": "stdout",
     "output_type": "stream",
     "text": [
      "24\n"
     ]
    }
   ],
   "source": [
    "print(str(len(errors)))"
   ]
  },
  {
   "cell_type": "code",
   "execution_count": 363,
   "metadata": {
    "collapsed": false
   },
   "outputs": [
    {
     "name": "stdout",
     "output_type": "stream",
     "text": [
      "1 --- One-Pan Garlic Parmesan Chicken And Vegetables\n",
      "2 --- Chicken And Asparagus Pasta\n",
      "3 --- Grilled Citrus Salmon And Asparagus\n",
      "4 --- Grilled Salmon With Avocado Salsa\n",
      "5 --- Vietnamese-Style Banh Mi Meatball Sandwich\n",
      "6 --- Chicken Fajita Salad\n",
      "7 --- Peking Duck-Inspired Burritos\n",
      "8 --- Net Pancakes (Roti Jala)\n",
      "9 --- Easy Chicken Piccata\n",
      "10 --- Chocolate Chip Banana Monkey Bread 🍌\n",
      "11 --- Peanut Butter-Stuffed Skillet Cookie\n",
      "12 --- Chocolate Pretzel Pie\n",
      "13 --- Blueberry Slab Pie\n",
      "14 --- Tiramisu Mille Crepe\n",
      "15 --- Cookie Dough Ice Cream Bites\n",
      "16 --- Grilled Berry Cobbler\n",
      "17 --- Honey Mustard Chicken Tater Tot Nachos\n",
      "18 --- Chocolate Cream Cheese Croissant Bake\n",
      "19 --- Peanut Butter Brownie Cookies\n",
      "20 --- Peanut Butter Potato Chip Truffles\n",
      "21 --- Is It Tasty?: Avocado Brownies Taste Test\n",
      "22 --- Chicken And Asparagus Pasta\n",
      "23 --- Grilled Citrus Salmon And Asparagus\n",
      "24 --- Freezer-Prep Fruit Smoothies 4 Ways 🍓🍍🍌\n",
      "25 --- Dark Chocolate Apricot Energy Bars\n",
      "26 --- Creamy Chipotle Chicken Lettuce Cups (Under 300 Calories)\n",
      "27 --- Watermelon Fruit Pizza 🍕\n",
      "28 --- Chocolate Peppermint Squares 🍫\n",
      "29 --- Avocado Chicken Salad Toast\n",
      "30 --- Grilled Veggie & Steak Salad\n",
      "31 --- Roasted Veggie Salad\n",
      "32 --- Potato Asparagus Tart\n",
      "33 --- Spaghetti Squash 4 Ways\n",
      "34 --- 🍤Shrimp And Asparagus Stir Fry Under 300 Calories🍤\n",
      "35 --- 🍓Strawberry Banana Frozen Yogurt #TastyJunior🍌\n",
      "36 --- Steak And Avocado Salad\n",
      "37 --- Sweet & Spicy Oven-Fried Chicken\n",
      "38 --- Bacon, Lettuce, Tomato, and Avocado Salad\n",
      "39 --- Slow Cooker Balsamic Chicken\n",
      "40 --- Banana Chocolate Chip Muffins 🍌\n",
      "41 --- Hot Dog Cups\n",
      "42 --- BBQ Chicken Pasta Bake #TastyJunior\n",
      "43 --- 🍓Strawberry Banana Frozen Yogurt #TastyJunior🍌\n",
      "44 --- Cheese Stuffed Cauliflower Nuggets\n",
      "45 --- Cheesy Egg & Biscuit Cups\n",
      "46 --- Cheesy Zucchini Sausage Cups #TastyJunior\n",
      "47 --- No-Bake Peanut Butter Pie Jars\n",
      "48 --- Frozen Yogurt Granola Cups #TastyJunior\n",
      "49 --- Banana S'mores Bites #TastyJunior\n",
      "50 --- 🍕Easy Pizza #TastyJunior🍕\n",
      "51 --- Mason Jar Cornbread Burger\n",
      "52 --- Roasted Veggie Salad\n",
      "53 --- Potato Asparagus Tart\n",
      "54 --- Peaches And Cream Coffee Cake\n",
      "55 --- 🍔Cheese Stuffed Mushroom Burger🍔\n",
      "56 --- Spinach Artichoke Ravioli Bake\n",
      "57 --- 🍓Strawberry Banana Frozen Yogurt #TastyJunior🍌\n",
      "58 --- Loaded Mashed Potato Cups\n",
      "59 --- Cheese Stuffed Cauliflower Nuggets\n",
      "60 --- Waffle Grilled Cheese\n",
      "61 --- Berry Smoothie Bowl\n",
      "62 --- Buffalo Cauliflower Tacos\n",
      "63 --- Red Wine Spaghetti\n",
      "64 --- Sweet Potato Black Bean Hash\n",
      "65 --- Strawberry Peach Sangria\n",
      "66 --- Berry Vodka Sunrise #TastyHappyHour\n",
      "67 --- Mango Kiwi Pineapple Sangria 🍹\n",
      "68 --- Boozy Orange And Vanilla Milkshake ‪#‎TastyHappyHour‬ 🍊\n",
      "69 --- Sangria 4 Ways 🍹\n",
      "70 --- Peach Iced Tea Whiskey #TastyHappyHour\n",
      "71 --- Cherry Moscow Mule\n",
      "72 --- 🍓 Strawberry Cotton Candy Cocktail 🍓\n",
      "73 --- Boozy Bubbly Sherbet Punch ‪#‎TastyHappyHour‬\n",
      "74 --- Butterscotch Shot Glasses #TastyHappyHour\n",
      "75 --- Raspberry Mojitos #TastyHappyHour\n",
      "76 --- 🍓Sparkling Strawberry Kiwi Sangria #TastyHappyHour🍓\n",
      "77 --- 🍹Homemade Frozen Margaritas #TastyHappyHour🍹\n"
     ]
    }
   ],
   "source": [
    "with open('tasty.csv', newline='') as csvfile:\n",
    "    reader = csv.reader(csvfile, delimiter=';', quotechar='|')\n",
    "    i = 1\n",
    "    for row in reader:\n",
    "        print(str(i) + \" --- \" + row[0])\n",
    "        i = i + 1"
   ]
  },
  {
   "cell_type": "code",
   "execution_count": 366,
   "metadata": {
    "collapsed": false
   },
   "outputs": [
    {
     "name": "stdout",
     "output_type": "stream",
     "text": [
      "https://www.buzzfeed.com/alvinzhou/heres-four-ways-you-can-enjoy-rotini-pasta-this-week-for-lun?bffbtasty&ref=bffbtasty&utm_term=4ldradw#4ldradw\n",
      "http://www.buzzfeed.com/caroltan/this-is-how-you-make-black-bean-burgers#.ybAdbGBYN\n",
      "https://www.buzzfeed.com/camillebergerson/these-amazing-no-bake-desserts-have-only-three-ingredients-s?bffbtasty&ref=bffbtasty&utm_term=4ldradw#4ldradw\n",
      "https://www.buzzfeed.com/alvinzhou/these-churro-ice-cream-sandwiches-will-make-your-date-night?bffbtasty&ref=bffbtasty&utm_term=4ldradw#4ldradw\n",
      "http://bzfd.it/2bh7xrl\n",
      "https://www.buzzfeed.com/robertbroadfoot/heres-four-delicious-brazilian-truffle-recipes-you-have-to-t?bffbtasty&ref=bffbtasty&utm_term=.yh703BJRR#.amrXPD6kk\n",
      "https://www.buzzfeed.com/alvinzhou/youre-going-to-want-to-prepare-a-dessert-feast-after-reading\n",
      "https://www.buzzfeed.com/hannahmars/apple-pie-desserts?bffbtasty&utm_term=4ldradw#4ldradw\n",
      "https://www.buzzfeed.com/hannahmars/cheesecakes-you-need-in-your-life\n",
      "https://www.buzzfeed.com/buzzfeed/_draft/4299168\n",
      "https://www.buzzfeed.com/hannahmars/flourless-and-fabulous?bffbtasty&ref=bffbtasty&utm_term=.fsnEJm6k8#.lde81qXlK\n",
      "https://www.buzzfeed.com/clairenolan/heres-four-delicious-sorbets-that-you-need-to-be-making-this?utm_term=.hlRar0lZZ#.le0MRZb55\n",
      "https://www.buzzfeed.com/christinebyrne/easy-delicious-suhoor-recipes?utm_term=4ldradw&bffbtasty#4ldradw\n",
      "https://www.buzzfeed.com/iristian/heres-a-refreshing-summer-salad-that-will-leave-you-feeling?bffbtasty&utm_term=4ldradw#4ldradw\n",
      "https://www.buzzfeed.com/hannahwilliams/these-four-slow-cooker-dinners-are-perfect-if-you-like-to-co?bffbtasty&ref=bffbtasty&utm_term=4ldradw#4ldradw\n",
      "http://www.buzzfeed.com/jodyduits/sneak-some-veggies-into-this-delicious-cheesy-chicken-and-br#.etxQ29mAA\n",
      "https://www.buzzfeed.com/hannahwilliams/make-this-root-beer-pie-with-your-kiddo-for-pie-day\n",
      "https://www.buzzfeed.com/christinebyrne/easy-delicious-suhoor-recipes?utm_term=4ldradw&bffbtasty#4ldradw\n",
      "https://www.buzzfeed.com/iristian/heres-a-refreshing-summer-salad-that-will-leave-you-feeling?bffbtasty&utm_term=4ldradw#4ldradw\n",
      "https://www.buzzfeed.com/clairenolan/ez-pasta-pesto\n",
      "https://www.buzzfeed.com/clairenolan/veggie-dip\n",
      "https://www.buzzfeed.com/melissaharrison/how-to-make-spiked-popsicles\n",
      "https://www.buzzfeed.com/robertbroadfoot/get-the-tequila#.bwXbrJ1aY\n",
      "http://www.buzzfeed.com/hannahwilliams/unwind-with-this-refreshing-freshly-squeezed-pink-grapefruit#.al9be53Pw\n"
     ]
    }
   ],
   "source": [
    "for e in errors:\n",
    "    #print(e[0] + \" --- \" + e[1] + \" --- \" + e[2])\n",
    "    print(e[1])"
   ]
  },
  {
   "cell_type": "code",
   "execution_count": null,
   "metadata": {
    "collapsed": true
   },
   "outputs": [],
   "source": []
  }
 ],
 "metadata": {
  "anaconda-cloud": {},
  "kernelspec": {
   "display_name": "Python [conda env:cne35]",
   "language": "python",
   "name": "conda-env-cne35-py"
  },
  "language_info": {
   "codemirror_mode": {
    "name": "ipython",
    "version": 3
   },
   "file_extension": ".py",
   "mimetype": "text/x-python",
   "name": "python",
   "nbconvert_exporter": "python",
   "pygments_lexer": "ipython3",
   "version": "3.5.2"
  }
 },
 "nbformat": 4,
 "nbformat_minor": 1
}
