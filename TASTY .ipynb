{
 "cells": [
  {
   "cell_type": "code",
   "execution_count": 1,
   "metadata": {
    "collapsed": false
   },
   "outputs": [],
   "source": [
    "from bs4 import BeautifulSoup\n",
    "from lxml import html\n",
    "import urllib.request as Request\n",
    "import csv\n",
    "import time\n",
    "import sys\n",
    "import facebook\n",
    "import re\n",
    "\n",
    "def getXpath(node):\n",
    "    expath = \"\"\n",
    "    \n",
    "    for parent in node.parents:\n",
    "        expath = parent.name + \"/\" + expath\n",
    "    \n",
    "    expath = expath + node.name\n",
    "    \n",
    "    expath = expath.replace(\"[document]\", \"\")\n",
    "    \n",
    "    return expath\n",
    "\n"
   ]
  },
  {
   "cell_type": "code",
   "execution_count": 2,
   "metadata": {
    "collapsed": true
   },
   "outputs": [],
   "source": [
    "def processFormat1(pagLxml, pagSoup):\n",
    "    receta = []\n",
    "    pagString = Request.urlopen(url).read()\n",
    "    nodo1 = pagSoup.find_all(\"h2\", class_=\"subbuzz_name\") [0]\n",
    "    titulo = pagLxml.xpath(getXpath(nodo1) + \"/text()\")[0]\n",
    "    receta.append(titulo)\n",
    "    nodos = pagLxml.xpath ('//div[@class=\"buzz_superlist_item buzz-superlist-item buzz_superlist_item_text buzz-superlist-item-text  buzz_superlist_item_wide   \"]/div[@class=\"solid\"]')\n",
    "    nodo2 = nodos[0]\n",
    "    nodoIngredients= nodo2.getchildren () [1:]\n",
    "    ingreStr = \"\"\n",
    "    for ig in nodoIngredients:\n",
    "        ingreStr = ingreStr + ig.text_content().replace(\"\\n\",\"|\") + \"|\"\n",
    "    receta.append(ingreStr)\n",
    "    nodoPreparacion = nodos[1].getchildren () [1:]\n",
    "    prepStr = \"\"\n",
    "    for prep in nodoPreparacion:\n",
    "        prepStr = prepStr + prep.text_content ().replace(\"\\n\",\"|\") + \"|\"\n",
    "    receta.append(prepStr)\n",
    "    nodos = pagLxml.xpath ('//div[@class=\"buzz_superlist_item buzz-superlist-item buzz_superlist_item_image buzz-superlist-item-image  buzz_superlist_item_wide image_hit  \"]/div[@class=\"solid\"]/div[@class=\"sub_buzz_content\"]/img')\n",
    "    receta.append(nodos[0].attrib[\"rel:bf_image_src\"])\n",
    "    nodos = pagLxml.xpath ('//div[@class=\"video-embed-big video-embed-area bf_dom\"]')\n",
    "    receta.append(nodos[0].attrib[\"rel:thumb\"])\n",
    "    receta.append(nodos[0].attrib[\"rel:bf_bucket_data\"])\n",
    "    return [receta]"
   ]
  },
  {
   "cell_type": "code",
   "execution_count": 3,
   "metadata": {
    "collapsed": true
   },
   "outputs": [],
   "source": [
    "def processFormat2(pagLxml, pagSoup):\n",
    "    receta = []\n",
    "    pagString = Request.urlopen(url).read()\n",
    "    nodo1 = pagSoup.find_all(\"h2\", class_=\"subbuzz_name\") [0]\n",
    "    titulo = pagLxml.xpath(getXpath(nodo1) + \"/text()\")[0]\n",
    "    receta.append(titulo)\n",
    "    nodos = pagLxml.xpath ('//div[@class=\"buzz_superlist_item buzz-superlist-item buzz_superlist_item_image buzz-superlist-item-image  buzz_superlist_item_wide image_hit  \"]/div[@class=\"solid\"]/p')\n",
    "    ingreStr = nodos[0].text_content() + \"|\"\n",
    "    ingreStr = ingreStr + nodos[1].text_content().replace(\"INGREDIENTS\\n\",\"\").replace(\"\\n\",\"|\")    \n",
    "    receta.append(ingreStr)\n",
    "    prepStr = nodos[2].text_content().replace(\"PREPARATION\\n\",\"\").replace(\"\\n\",\"|\")  \n",
    "    receta.append(prepStr)\n",
    "    nodos = pagLxml.xpath ('//div[@class=\"buzz_superlist_item buzz-superlist-item buzz_superlist_item_image buzz-superlist-item-image  buzz_superlist_item_wide image_hit  \"]/div[@class=\"solid\"]/div[@class=\"sub_buzz_content\"]/img')\n",
    "    receta.append(nodos[0].attrib[\"rel:bf_image_src\"])\n",
    "    nodos = pagLxml.xpath ('//div[@class=\"video-embed-big video-embed-area bf_dom\"]')\n",
    "    receta.append(nodos[0].attrib[\"rel:thumb\"])\n",
    "    receta.append(nodos[0].attrib[\"rel:bf_bucket_data\"])\n",
    "    return [receta]"
   ]
  },
  {
   "cell_type": "code",
   "execution_count": 4,
   "metadata": {
    "collapsed": true
   },
   "outputs": [],
   "source": [
    "def processFormat3(pagLxml):\n",
    "    receta = []\n",
    "    nodos = pagLxml.xpath ('//div[@class=\"buzz_superlist_item buzz-superlist-item buzz_superlist_item_embed buzz-superlist-item-embed  buzz_superlist_item_wide   \"]/div[@class=\"sub_buzz_content solid\"]/div[@itemtype=\"http://schema.org/Recipe\"]')\n",
    "    nodosIngConPrep = nodos [0].getchildren()[0].getchildren()\n",
    "    titulo = \"\"\n",
    "    ingredientes = \"\"\n",
    "    preparacion = \"\"\n",
    "    tituloEncontrado = False\n",
    "    ingredientesEncontrado = False\n",
    "    preparacionsEncontrado = False\n",
    "    for n in nodosIngConPrep:\n",
    "        texto = n.text_content()\n",
    "        if(texto.strip() != \"\"):\n",
    "            # \"strip\" es una funcion string= q busca espacio en 'blanco' al principio y final de X y los elimina.\n",
    "            if(preparacionsEncontrado) :\n",
    "                preparacion = preparacion + texto + \"|\"\n",
    "            elif(ingredientesEncontrado ):\n",
    "                if(texto.startswith(\"PREPARATION\")):\n",
    "                   # \"startswith\" compara si el 'comienzo' del texto es igual a la variable q se declaro.\n",
    "                    preparacionsEncontrado = True\n",
    "                else:\n",
    "                    ingredientes = ingredientes + texto + \"|\"\n",
    "            elif(tituloEncontrado):\n",
    "                if(texto.startswith(\"INGREDIENTS\")):\n",
    "                    ingredientesEncontrado = True\n",
    "            else:\n",
    "                titulo = texto.replace(\"RECIPE: \", \"\")\n",
    "                tituloEncontrado = True\n",
    "    receta.append(titulo)\n",
    "    receta.append(ingredientes)\n",
    "    receta.append(preparacion)\n",
    "    nodos = pagLxml.xpath ('//div[@class=\"buzz_superlist_item buzz-superlist-item buzz_superlist_item_image buzz-superlist-item-image  buzz_superlist_item_wide image_hit  \"]/div[@class=\"solid\"]/div[@class=\"sub_buzz_content\"]/img')\n",
    "    receta.append(nodos[0].attrib[\"rel:bf_image_src\"])\n",
    "    nodos = pagLxml.xpath ('//div[@class=\"video-embed-big video-embed-area bf_dom\"]')\n",
    "    receta.append(nodos[0].attrib[\"rel:thumb\"])\n",
    "    receta.append(nodos[0].attrib[\"rel:bf_bucket_data\"])\n",
    "    return [receta]"
   ]
  },
  {
   "cell_type": "code",
   "execution_count": 5,
   "metadata": {
    "collapsed": true
   },
   "outputs": [],
   "source": [
    "def processFormat4(pagLxml):\n",
    "    nodos = pagLxml.xpath ('//div [@class=\"buzz_superlist_item buzz-superlist-item buzz_superlist_item_image buzz-superlist-item-image  buzz_superlist_item_wide image_hit  \" ]/div [@class=\"solid\"] ')\n",
    "    titulo1 = nodos[1].getchildren ()[0].text_content ()[3:]\n",
    "    titulo2 = nodos[2].getchildren ()[0].text_content ()[3:]\n",
    "    titulo3 = nodos[3].getchildren ()[0].text_content ()[3:]\n",
    "    titulo4 = nodos[4].getchildren ()[0].text_content ()[3:]\n",
    "    ingredientes1 = nodos[1].getchildren ()[3].text_content ().replace(\"INGREDIENTS\\n\",\"\")\n",
    "    ingredientes2 = nodos[2].getchildren ()[3].text_content ().replace(\"INGREDIENTS\\n\",\"\")\n",
    "    ingredientes3 = nodos[3].getchildren ()[3].text_content ().replace(\"INGREDIENTS\\n\",\"\")\n",
    "    ingredientes4 = nodos[3].getchildren ()[3].text_content ().replace(\"INGREDIENTS\\n\",\"\")\n",
    "    preparacion1 = nodos[1].getchildren ()[4].text_content ().replace(\"PREPARATION\\n\",\"\")\n",
    "    preparacion2 = nodos[2].getchildren ()[4].text_content ().replace(\"PREPARATION\\n\",\"\")\n",
    "    preparacion3 = nodos[3].getchildren ()[4].text_content ().replace(\"PREPARATION\\n\",\"\")\n",
    "    preparacion4 = nodos[4].getchildren ()[4].text_content ().replace(\"PREPARATION\\n\",\"\")\n",
    "    nodos = pagLxml.xpath ('//div[@class=\"buzz_superlist_item buzz-superlist-item buzz_superlist_item_image buzz-superlist-item-image  buzz_superlist_item_wide image_hit  \"]/div[@class=\"solid\"]/div[@class=\"sub_buzz_content\"]/img')\n",
    "    imagen = nodos[0].attrib[\"rel:bf_image_src\"]\n",
    "    nodos = pagLxml.xpath ('//div[@class=\"video-embed-big video-embed-area bf_dom\"]')\n",
    "    video1 = nodos[0].attrib[\"rel:thumb\"]\n",
    "    video2 = nodos[0].attrib[\"rel:bf_bucket_data\"]\n",
    "    recetas = [ [titulo1, ingredientes1, preparacion1, imagen, video1, video2] ]\n",
    "    recetas.append([titulo2, ingredientes2, preparacion2, imagen, video1, video2])\n",
    "    recetas.append([titulo3, ingredientes3, preparacion3, imagen, video1, video2])\n",
    "    recetas.append([titulo4, ingredientes4, preparacion4, imagen, video1, video2])\n",
    "    return recetas"
   ]
  },
  {
   "cell_type": "code",
   "execution_count": 6,
   "metadata": {
    "collapsed": true
   },
   "outputs": [],
   "source": [
    "def processUrl(pagLxml, pagSoup, pageFormat):\n",
    "    result = None\n",
    "    if(pageFormat == 1):\n",
    "        result = processFormat1(pagLxml, pagSoup)\n",
    "    elif(pageFormat == 2):\n",
    "        result = processFormat2(pagLxml, pagSoup)\n",
    "    elif(pageFormat == 3):\n",
    "        result = processFormat3(pagLxml)\n",
    "    elif(pageFormat == 4):\n",
    "        result = processFormat4(pagLxml)\n",
    "    else:\n",
    "        raise ValueError('Formato invalido')\n",
    "    return result\n"
   ]
  },
  {
   "cell_type": "code",
   "execution_count": 7,
   "metadata": {
    "collapsed": false
   },
   "outputs": [],
   "source": [
    "def downloadUrlsFromTasty(url):\n",
    "    urlTools = []\n",
    "    pagString = Request.urlopen(url).read()\n",
    "    pagLxml = html.fromstring (pagString)\n",
    "    nodos = pagLxml.xpath('//div[@class=\"card xs-relative xs-mb1 js-feed-item\"]/div[@class=\"card--video\"]/div[@class=\"xs-p2 clearfix card-title\"]/a[@class=\"xs-col-11 link-gray\"]')\n",
    "    for n in nodos:\n",
    "        urlTools.append([n.find(\"h2\").text_content(), n.attrib[\"href\"]])\n",
    "    return urlTools"
   ]
  },
  {
   "cell_type": "code",
   "execution_count": 8,
   "metadata": {
    "collapsed": true
   },
   "outputs": [],
   "source": [
    "def downloadUrlsFromFacebook():\n",
    "    urlTools = []\n",
    "    graph = facebook.GraphAPI(version='2.7')\n",
    "    token = graph.get_app_access_token(app_id=\"1789388901276350\", app_secret=\"a37bb243d30a1fd1fcef585447f7d323\")\n",
    "    graph = facebook.GraphAPI(access_token=token, version='2.7')\n",
    "    #Hago la primera llamada al API de facebook y guardo los videos en una variable\n",
    "    callRes = graph.get_object(id=\"buzzfeedtasty/videos\", fields=\"description,id\", type=\"uploaded\", limit=\"100\")\n",
    "    videos = callRes[\"data\"]\n",
    "    #Reviso si la paginacion esta activa. Si lo esta es porque hay que seguir llamando al API\n",
    "    while \"paging\" in callRes.keys():\n",
    "        after = callRes[\"paging\"][\"cursors\"][\"after\"]\n",
    "        callRes = graph.get_object(id=\"buzzfeedtasty/videos\", fields=\"description,id\", type=\"uploaded\", limit=\"100\", after=after)\n",
    "        videos = videos + callRes[\"data\"]\n",
    "    #Ahora me descargo el numero total de reacciones asociadas a cada video (esto incluye los likes)\n",
    "    videosYReac = []\n",
    "    sleepCounter = 50\n",
    "    for v in videos:\n",
    "        vCopy = v.copy()\n",
    "        id = vCopy[\"id\"] + \"/reactions\"\n",
    "        callRes = graph.get_object(id=id, limit=\"0\", summary=\"true\")\n",
    "        vCopy[\"reactions\"] = callRes[\"summary\"][\"total_count\"]\n",
    "        videosYReac.append(vCopy)\n",
    "        sleepCounter = sleepCounter - 1\n",
    "        if(sleepCounter == 0):\n",
    "            time.sleep( 3 )\n",
    "            sleepCounter = 50\n",
    "    #Ahora me descargo el numero total de comentarios asociadas a cada video (esto incluye los likes)\n",
    "    videosYEstad = []\n",
    "    sleepCounter = 50\n",
    "    for v in videosYReac:\n",
    "        vCopy = v.copy()\n",
    "        id = vCopy[\"id\"] + \"/comments\"\n",
    "        callRes = graph.get_object(id=id, limit=\"0\", summary=\"true\")\n",
    "        vCopy[\"comments\"] = callRes[\"summary\"][\"total_count\"]\n",
    "        videosYEstad.append(vCopy)\n",
    "        sleepCounter = sleepCounter - 1\n",
    "        if(sleepCounter == 0):\n",
    "            time.sleep( 3 )\n",
    "            sleepCounter = 50\n",
    "    #Ahora extraigo el resultado que es: nombre de la receta, link, reactions y comments\n",
    "    singleReceiptRE = re.compile('(?P<name>^.+)\\n+(FULL RECIPE: )(?P<link>http://bzfd.it/\\S+)')\n",
    "    multipleReceiptRE = re.compile('(?P<name>^.+)\\n+(FULL RECIPES: )(?P<link>http://bzfd.it/\\S+)')\n",
    "    for v in videosYEstad:\n",
    "        result = singleReceiptRE.match(v[\"description\"])\n",
    "        if result != None:\n",
    "            name = result.group(\"name\")\n",
    "            shortLink = result.group(\"link\")\n",
    "            urlTools.append([name, shortLink, v[\"reactions\"], v[\"comments\"]])\n",
    "        else:\n",
    "            result = multipleReceiptRE.match(v[\"description\"])\n",
    "            if result != None:\n",
    "                name = result.group(\"name\")\n",
    "                shortLink = result.group(\"link\")\n",
    "                urlTools.append([name, shortLink, v[\"reactions\"], v[\"comments\"]])\n",
    "    return urlTools"
   ]
  },
  {
   "cell_type": "code",
   "execution_count": 9,
   "metadata": {
    "collapsed": true
   },
   "outputs": [],
   "source": [
    "def scrapUrls(urls):\n",
    "    \"\"\"Procesa todos los URLs por medio de un proceso de ensayo y error,\n",
    "    y el resultado de cada procesamiento es guardado como una linea en el \n",
    "    archivo \"tasty.csv\".\n",
    "    Primero se intenta con el formato 1, luego con el 3 y por ultimo con el 4.\n",
    "    En caso de fallar tambien con el formato 4, el url y el error son \n",
    "    guardados en la lista de errores.\n",
    "    La lista de errores es salvada en el archivo \"tasty-errors.csv\" y tambien \n",
    "    retornada como resultado de la funcion.\n",
    "    \"\"\"\n",
    "    errors = []\n",
    "    with open('tasty.csv', 'w', newline='') as csvfile:\n",
    "        writer = csv.writer(csvfile, delimiter=';', quotechar='|', quoting=csv.QUOTE_MINIMAL)\n",
    "        for l in urls:\n",
    "            time.sleep( 2 )\n",
    "            pagString = Request.urlopen(l[1]).read()\n",
    "            pagLxml = html.fromstring (pagString)\n",
    "            pagSoup = BeautifulSoup(pagString,\"lxml\")\n",
    "            error = False\n",
    "            try:\n",
    "                recetas = processUrl(pagLxml, pagSoup, 1)\n",
    "                for r in recetas:\n",
    "                    writer.writerow(l + r)\n",
    "            except:\n",
    "                error = True\n",
    "\n",
    "            if(error):\n",
    "                try:\n",
    "                    error = False\n",
    "                    recetas = processUrl(pagLxml, pagSoup, 3)\n",
    "                    for r in recetas:\n",
    "                        writer.writerow(l + r)\n",
    "                except:\n",
    "                    error = True\n",
    "\n",
    "            if(error):\n",
    "                try:\n",
    "                    recetas = processUrl(pagLxml, pagSoup, 4)\n",
    "                    for r in recetas:\n",
    "                        writer.writerow(l + r)\n",
    "                except:\n",
    "                    e = sys.exc_info()[0]\n",
    "                    errors.append(l + [str(e)])\n",
    "\n",
    "    with open('tasty-errors.csv', 'w', newline='') as csvfile:\n",
    "        writer = csv.writer(csvfile, delimiter=';', quotechar='|', quoting=csv.QUOTE_MINIMAL)\n",
    "        for e in errors:\n",
    "            writer.writerow(e)\n",
    "    return errors"
   ]
  },
  {
   "cell_type": "code",
   "execution_count": 10,
   "metadata": {
    "collapsed": false
   },
   "outputs": [],
   "source": [
    "useFacebook = True\n",
    "if (useFacebook):\n",
    "    links = downloadUrlsFromFacebook()\n",
    "else:\n",
    "    links = downloadUrlsFromTasty(\"https://www.buzzfeed.com/tasty/weeknights\")\n",
    "    links = links + downloadUrls(\"https://www.buzzfeed.com/tasty/cheatday\")\n",
    "    links = links + downloadUrls(\"https://www.buzzfeed.com/tasty/litebites\")\n",
    "    links = links + downloadUrls(\"https://www.buzzfeed.com/tasty/junior\")\n",
    "    links = links + downloadUrls(\"https://www.buzzfeed.com/tasty/vegetarian\")\n",
    "    links = links + downloadUrls(\"https://www.buzzfeed.com/tasty/happyhour\")"
   ]
  },
  {
   "cell_type": "code",
   "execution_count": 11,
   "metadata": {
    "collapsed": false
   },
   "outputs": [
    {
     "name": "stdout",
     "output_type": "stream",
     "text": [
      "El total de recetas es: 327\n",
      "Healthy Mediterranean Salad --- http://bzfd.it/2dABK48\n",
      "Baked Parmesan Chicken Strips #TastyJunior --- http://bzfd.it/2da0hP8\n",
      "Tornado Potato --- http://bzfd.it/2dxz475\n",
      "These Cookie Butter Éclairs from Tasty Miam look so good and perfect for a delicious fall dessert. --- http://bzfd.it/2d6TTbi\n",
      "3-Ingredient Chocolate Desserts  --- http://bzfd.it/2duqpCB\n",
      "Here's a tasty One-Pot Hot Dog Pasta from Tasty Demais that is so good you have to try it!  --- http://bzfd.it/2duga19\n",
      "Slow Cooker Short Ribs --- http://bzfd.it/2daLmpB\n",
      "Banana French Toast Bake --- http://bzfd.it/2cty4DC\n",
      "We are sooooo loving our friends at  Tasty Japan for these adorable animal-shaped boiled eggs. --- http://bzfd.it/2dkWoor\n",
      "4 Easy 3-Ingredient Dinners --- http://bzfd.it/2dkUaFW\n"
     ]
    }
   ],
   "source": [
    "print(\"El total de recetas es: \" + str(len(links)))\n",
    "for l in links[0:10]:\n",
    "    print(l[0] + \" --- \" + l[1])"
   ]
  },
  {
   "cell_type": "code",
   "execution_count": 12,
   "metadata": {
    "collapsed": false
   },
   "outputs": [
    {
     "name": "stdout",
     "output_type": "stream",
     "text": [
      "287\n"
     ]
    }
   ],
   "source": [
    "errors = scrapUrls(links)\n",
    "print(str(len(errors)))"
   ]
  },
  {
   "cell_type": "code",
   "execution_count": null,
   "metadata": {
    "collapsed": false
   },
   "outputs": [],
   "source": [
    "with open('tasty.csv', newline='') as csvfile:\n",
    "    reader = csv.reader(csvfile, delimiter=';', quotechar='|')\n",
    "    i = 1\n",
    "    for row in reader:\n",
    "        print(str(i) + \" --- \" + row[0])\n",
    "        i = i + 1"
   ]
  },
  {
   "cell_type": "code",
   "execution_count": null,
   "metadata": {
    "collapsed": false
   },
   "outputs": [],
   "source": [
    "for e in errors:\n",
    "    #print(e[0] + \" --- \" + e[1] + \" --- \" + e[2])\n",
    "    print(e[1])"
   ]
  },
  {
   "cell_type": "code",
   "execution_count": 13,
   "metadata": {
    "collapsed": false
   },
   "outputs": [
    {
     "name": "stdout",
     "output_type": "stream",
     "text": [
      "[[' Healthy Mediterranean Salad', '1 chicken breast|1 tablespoon olive oil|1 tablespoon lemon juice|2 cloves garlic, minced|1 tablespoon fresh dill|salt and pepper, to taste|Dressing|1/3 cup greek yogurt|2 tablespoons olive oil|1 tablespoon red wine vinegar|1 tablespoon lemon juice|1 tablespoon water |1 clove garlic, minced|1 tablespoon fresh dill|salt and pepper, to taste|Toppings|1 head romaine lettuce, chopped|1/2 cup cucumber, sliced and halved|1/2 cup olives, halved|1/2 cup red onion, thinly sliced|1/2 cup cherry or grape tomatoes, halved|1/2 cup feta, crumbled|', '1. Preheat oven to 400°F/200°C. Place chicken breast on a baking sheet lined with aluminum foil or parchment paper. Top with olive oil, lemon juice, garlic, dill, and salt and pepper to season. |2. Bake for 35-40 minutes until internal temperature reaches 165°F/75°C and the juices run clear. |3. Slice thinly or cube chicken, cutting to your preference for topping the salad.|4. Add all dressing ingredients in a small bowl or cup and whisk until with a fork until combined.|5. Assemble your salad, starting with a base of romaine lettuce. Then top with chicken, cucumber, olives, red onion, tomatoes, feta, and the dressing. Toss to evenly incorporate ingredients |6. Enjoy!|', 'https://img.buzzfeed.com/buzzfeed-static/static/2016-09/27/13/asset/buzzfeed-prod-fastlane03/sub-buzz-32342-1474999114-1.jpg?resize=625:781', 'https://img.youtube.com/vi/xK8NLldQJDg/2.jpg', '{\"video\": {\"size\": \"big\", \"width\":\"625\", \"height\":\"376\", \"url\":\"https://youtube.com/watch?v=xK8NLldQJDg\", \"id\":\"4364636_9704097\", \"length\":\"45\", \"published\":\"2016-09-28 17:54:07\"}}']]\n"
     ]
    }
   ],
   "source": [
    "url = \"https://www.buzzfeed.com/hannahwilliams/blueberry-peach-slab-pie?bffbtasty&ref=bffbtasty&utm_term=.jvewrXGVE#.smElQ1qL6\"\n",
    "url = \"http://bzfd.it/2dABK48\"\n",
    "pagString = Request.urlopen(url).read()\n",
    "pagLxml = html.fromstring (pagString)\n",
    "pagSoup = BeautifulSoup(pagString,\"lxml\")\n",
    "\n",
    "print(processUrl(pagLxml, pagSoup, 1))"
   ]
  },
  {
   "cell_type": "code",
   "execution_count": null,
   "metadata": {
    "collapsed": false
   },
   "outputs": [],
   "source": [
    "url = \"https://www.buzzfeed.com/alvinzhou/heres-four-ways-you-can-enjoy-rotini-pasta-this-week-for-lun?bffbtasty&ref=bffbtasty&utm_term=4ldradw#4ldradw\"\n",
    "pagString = Request.urlopen(url).read()\n",
    "pagLxml = html.fromstring (pagString)\n",
    "pagSoup = BeautifulSoup(pagString,\"lxml\")\n",
    "\n",
    "print(processUrl(pagLxml, pagSoup, 4))"
   ]
  },
  {
   "cell_type": "code",
   "execution_count": null,
   "metadata": {
    "collapsed": false
   },
   "outputs": [],
   "source": [
    "url = \"http://www.buzzfeed.com/caroltan/this-is-how-you-make-black-bean-burgers#.ybAdbGBYN\"\n",
    "pagString = Request.urlopen(url).read()\n",
    "pagLxml = html.fromstring (pagString)\n",
    "pagSoup = BeautifulSoup(pagString,\"lxml\")\n",
    "\n",
    "print(processUrl(pagLxml, pagSoup, 3))"
   ]
  },
  {
   "cell_type": "code",
   "execution_count": null,
   "metadata": {
    "collapsed": false
   },
   "outputs": [],
   "source": [
    "url = \"https://www.buzzfeed.com/camillebergerson/these-amazing-no-bake-desserts-have-only-three-ingredients-s?bffbtasty&ref=bffbtasty&utm_term=.jgkbK51yK#.ajmWYVNZY\"\n",
    "pagString = Request.urlopen(url).read()\n",
    "pagLxml = html.fromstring (pagString)\n",
    "pagSoup = BeautifulSoup(pagString,\"lxml\")\n",
    "\n",
    "print(processUrl(pagLxml, pagSoup, 4))"
   ]
  },
  {
   "cell_type": "code",
   "execution_count": null,
   "metadata": {
    "collapsed": false
   },
   "outputs": [],
   "source": [
    "links = []\n",
    "links.append([\"Formato2\", \"https://www.buzzfeed.com/alvinzhou/heres-four-ways-you-can-enjoy-rotini-pasta-this-week-for-lun?bffbtasty&ref=bffbtasty&utm_term=4ldradw#4ldradw\"])\n",
    "links.append([\"Formato3\", \"http://www.buzzfeed.com/caroltan/this-is-how-you-make-black-bean-burgers#.ybAdbGBYN\"])\n",
    "links.append([\"Formato4\", \"https://www.buzzfeed.com/camillebergerson/these-amazing-no-bake-desserts-have-only-three-ingredients-s?bffbtasty&ref=bffbtasty&utm_term=4ldradw#4ldradw\"])\n",
    "links.append([\"Formato1\", \"https://www.buzzfeed.com/hannahwilliams/blueberry-peach-slab-pie?bffbtasty&ref=bffbtasty&utm_term=.jvewrXGVE#.smElQ1qL6\"])\n",
    "errors = scrapUrls(links)\n",
    "print(\"Total de errores: \" + str(len(errors)))\n",
    "for e in errors:\n",
    "    print(e[0] + \" --- \" + e[1] + \" --- \" + e[2])\n",
    "print(\"\\n\\nContenido de tasty.csv:\\n\")\n",
    "with open('tasty.csv', newline='') as csvfile:\n",
    "    reader = csv.reader(csvfile, delimiter=';', quotechar='|')\n",
    "    i = 1\n",
    "    for row in reader:\n",
    "        print(str(i) + \" --- \" + row[0])\n",
    "        i = i + 1"
   ]
  },
  {
   "cell_type": "code",
   "execution_count": null,
   "metadata": {
    "collapsed": true
   },
   "outputs": [],
   "source": []
  }
 ],
 "metadata": {
  "anaconda-cloud": {},
  "kernelspec": {
   "display_name": "Python [corpus-35]",
   "language": "python",
   "name": "Python [corpus-35]"
  },
  "language_info": {
   "codemirror_mode": {
    "name": "ipython",
    "version": 3
   },
   "file_extension": ".py",
   "mimetype": "text/x-python",
   "name": "python",
   "nbconvert_exporter": "python",
   "pygments_lexer": "ipython3",
   "version": "3.5.2"
  }
 },
 "nbformat": 4,
 "nbformat_minor": 1
}
