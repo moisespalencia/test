{
 "cells": [
  {
   "cell_type": "code",
   "execution_count": 84,
   "metadata": {
    "collapsed": true
   },
   "outputs": [],
   "source": [
    "from bs4 import BeautifulSoup\n",
    "from lxml import html\n",
    "import urllib.request as Request\n",
    "pagString = Request.urlopen(\"https://www.buzzfeed.com/tasty/weeknights\").read()\n",
    "pagSoup = BeautifulSoup(pagString,\"lxml\")\n",
    "pagLxml = html.fromstring (pagString)"
   ]
  },
  {
   "cell_type": "code",
   "execution_count": 85,
   "metadata": {
    "collapsed": true
   },
   "outputs": [],
   "source": [
    "def getXpath(node):\n",
    "    expath = \"\"\n",
    "    \n",
    "    for parent in node.parents:\n",
    "        expath = parent.name + \"/\" + expath\n",
    "    \n",
    "    expath = expath + node.name\n",
    "    \n",
    "    expath = expath.replace(\"[document]\", \"\")\n",
    "    \n",
    "    return expath\n"
   ]
  },
  {
   "cell_type": "code",
   "execution_count": 93,
   "metadata": {
    "collapsed": false
   },
   "outputs": [
    {
     "name": "stdout",
     "output_type": "stream",
     "text": [
      "El numero de recetas es: 11\n",
      "One-Pan Garlic Parmesan Chicken And Vegetables --- https://www.buzzfeed.com/camillebergerson/heres-an-easy-dinner-that-will-leave-you-with-more-time-to-c?bffbtasty&ref=bffbtasty&utm_term=.coVaG6xoo#.aoONwVrpp\n",
      "Rotini Pasta 4 Ways --- https://www.buzzfeed.com/alvinzhou/heres-four-ways-you-can-enjoy-rotini-pasta-this-week-for-lun?bffbtasty&ref=bffbtasty&utm_term=4ldradw#4ldradw\n",
      "Chicken And Asparagus Pasta --- https://www.buzzfeed.com/robertbroadfoot/chicken-penne?bffbtasty&ref=bffbtasty&utm_term=4ldradw#4ldradw\n",
      "Grilled Citrus Salmon And Asparagus --- https://www.buzzfeed.com/clairenolan/keep-it-fresh-on-the-grill-this-weekend-with-this-citrus-sal?bffbtasty&utm_term=4ldradw#4ldradw\n",
      "Grilled Salmon With Avocado Salsa --- https://www.buzzfeed.com/robertbroadfoot/salmon-salsa-fun#.aoMdLJvE9\n",
      "Vietnamese-Style Banh Mi Meatball Sandwich --- https://www.buzzfeed.com/emilyhorng/viet-ball#.vcP0RQGz7\n",
      "Chicken Fajita Salad --- http://www.buzzfeed.com/alvinzhou/this-chicken-fajita-salad-will-be-so-perfect-in-your-belly\n",
      "🍔  Black Bean Burgers 🍔 --- http://www.buzzfeed.com/caroltan/this-is-how-you-make-black-bean-burgers#.ybAdbGBYN\n",
      "Peking Duck-Inspired Burritos --- https://www.buzzfeed.com/emilyhorng/enter-a-new-flavor-town-with-these-peking-duck-inspired-burr\n",
      "Net Pancakes (Roti Jala) --- https://www.buzzfeed.com/scottloitsch/heres-a-new-and-fabulous-way-to-make-pancakes\n",
      "Easy Chicken Piccata --- https://www.buzzfeed.com/hannahwilliams/heres-a-recipe-for-chicken-piccata\n"
     ]
    }
   ],
   "source": [
    "nodos = pagLxml.xpath ('//div[@class=\"card xs-relative xs-mb1 js-feed-item\"]/div[@class=\"card--video\"]/div[@class=\"xs-p2 clearfix card-title\"]/a[@class=\"xs-col-11 link-gray\"]')\n",
    "print(\"El numero de recetas es: \" + str(len(nodos)))\n",
    "for n in nodos:\n",
    "    print(n.find(\"h2\").text_content() + \" --- \" + n.attrib[\"href\"])"
   ]
  },
  {
   "cell_type": "code",
   "execution_count": null,
   "metadata": {
    "collapsed": true
   },
   "outputs": [],
   "source": []
  }
 ],
 "metadata": {
  "anaconda-cloud": {},
  "kernelspec": {
   "display_name": "Python [conda env:cne35]",
   "language": "python",
   "name": "conda-env-cne35-py"
  },
  "language_info": {
   "codemirror_mode": {
    "name": "ipython",
    "version": 3
   },
   "file_extension": ".py",
   "mimetype": "text/x-python",
   "name": "python",
   "nbconvert_exporter": "python",
   "pygments_lexer": "ipython3",
   "version": "3.5.2"
  }
 },
 "nbformat": 4,
 "nbformat_minor": 1
}
